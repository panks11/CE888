{
 "cells": [
  {
   "cell_type": "code",
   "execution_count": 175,
   "metadata": {},
   "outputs": [],
   "source": [
    "import pandas as pd\n",
    "import warnings\n",
    "warnings.filterwarnings('ignore')"
   ]
  },
  {
   "cell_type": "markdown",
   "metadata": {},
   "source": [
    "### Load Spider Dataset\n",
    "\n",
    "The official final Spider training data set combines train_spider.json and train_others.json. <br>\n",
    "The databases used in train_others.json are from Restaurants, GeoQuery, Scholar, Academic, IMDB, and Yelp which are prepared by Finegan-Dollak et al., 2018. <br>\n",
    "The Database and related table information is in tables.json"
   ]
  },
  {
   "cell_type": "code",
   "execution_count": 176,
   "metadata": {},
   "outputs": [
    {
     "data": {
      "text/html": [
       "<div>\n",
       "<style scoped>\n",
       "    .dataframe tbody tr th:only-of-type {\n",
       "        vertical-align: middle;\n",
       "    }\n",
       "\n",
       "    .dataframe tbody tr th {\n",
       "        vertical-align: top;\n",
       "    }\n",
       "\n",
       "    .dataframe thead th {\n",
       "        text-align: right;\n",
       "    }\n",
       "</style>\n",
       "<table border=\"1\" class=\"dataframe\">\n",
       "  <thead>\n",
       "    <tr style=\"text-align: right;\">\n",
       "      <th></th>\n",
       "      <th>db_id</th>\n",
       "      <th>query</th>\n",
       "      <th>query_toks</th>\n",
       "      <th>query_toks_no_value</th>\n",
       "      <th>question</th>\n",
       "      <th>question_toks</th>\n",
       "      <th>sql</th>\n",
       "    </tr>\n",
       "  </thead>\n",
       "  <tbody>\n",
       "    <tr>\n",
       "      <th>0</th>\n",
       "      <td>department_management</td>\n",
       "      <td>SELECT count(*) FROM head WHERE age  &gt;  56</td>\n",
       "      <td>[SELECT, count, (, *, ), FROM, head, WHERE, ag...</td>\n",
       "      <td>[select, count, (, *, ), from, head, where, ag...</td>\n",
       "      <td>How many heads of the departments are older th...</td>\n",
       "      <td>[How, many, heads, of, the, departments, are, ...</td>\n",
       "      <td>{'from': {'table_units': [['table_unit', 1]], ...</td>\n",
       "    </tr>\n",
       "    <tr>\n",
       "      <th>1</th>\n",
       "      <td>department_management</td>\n",
       "      <td>SELECT name ,  born_state ,  age FROM head ORD...</td>\n",
       "      <td>[SELECT, name, ,, born_state, ,, age, FROM, he...</td>\n",
       "      <td>[select, name, ,, born_state, ,, age, from, he...</td>\n",
       "      <td>List the name, born state and age of the heads...</td>\n",
       "      <td>[List, the, name, ,, born, state, and, age, of...</td>\n",
       "      <td>{'from': {'table_units': [['table_unit', 1]], ...</td>\n",
       "    </tr>\n",
       "    <tr>\n",
       "      <th>2</th>\n",
       "      <td>department_management</td>\n",
       "      <td>SELECT creation ,  name ,  budget_in_billions ...</td>\n",
       "      <td>[SELECT, creation, ,, name, ,, budget_in_billi...</td>\n",
       "      <td>[select, creation, ,, name, ,, budget_in_billi...</td>\n",
       "      <td>List the creation year, name and budget of eac...</td>\n",
       "      <td>[List, the, creation, year, ,, name, and, budg...</td>\n",
       "      <td>{'from': {'table_units': [['table_unit', 0]], ...</td>\n",
       "    </tr>\n",
       "    <tr>\n",
       "      <th>3</th>\n",
       "      <td>department_management</td>\n",
       "      <td>SELECT max(budget_in_billions) ,  min(budget_i...</td>\n",
       "      <td>[SELECT, max, (, budget_in_billions, ), ,, min...</td>\n",
       "      <td>[select, max, (, budget_in_billions, ), ,, min...</td>\n",
       "      <td>What are the maximum and minimum budget of the...</td>\n",
       "      <td>[What, are, the, maximum, and, minimum, budget...</td>\n",
       "      <td>{'from': {'table_units': [['table_unit', 0]], ...</td>\n",
       "    </tr>\n",
       "    <tr>\n",
       "      <th>4</th>\n",
       "      <td>department_management</td>\n",
       "      <td>SELECT avg(num_employees) FROM department WHER...</td>\n",
       "      <td>[SELECT, avg, (, num_employees, ), FROM, depar...</td>\n",
       "      <td>[select, avg, (, num_employees, ), from, depar...</td>\n",
       "      <td>What is the average number of employees of the...</td>\n",
       "      <td>[What, is, the, average, number, of, employees...</td>\n",
       "      <td>{'from': {'table_units': [['table_unit', 0]], ...</td>\n",
       "    </tr>\n",
       "  </tbody>\n",
       "</table>\n",
       "</div>"
      ],
      "text/plain": [
       "                   db_id                                              query  \\\n",
       "0  department_management         SELECT count(*) FROM head WHERE age  >  56   \n",
       "1  department_management  SELECT name ,  born_state ,  age FROM head ORD...   \n",
       "2  department_management  SELECT creation ,  name ,  budget_in_billions ...   \n",
       "3  department_management  SELECT max(budget_in_billions) ,  min(budget_i...   \n",
       "4  department_management  SELECT avg(num_employees) FROM department WHER...   \n",
       "\n",
       "                                          query_toks  \\\n",
       "0  [SELECT, count, (, *, ), FROM, head, WHERE, ag...   \n",
       "1  [SELECT, name, ,, born_state, ,, age, FROM, he...   \n",
       "2  [SELECT, creation, ,, name, ,, budget_in_billi...   \n",
       "3  [SELECT, max, (, budget_in_billions, ), ,, min...   \n",
       "4  [SELECT, avg, (, num_employees, ), FROM, depar...   \n",
       "\n",
       "                                 query_toks_no_value  \\\n",
       "0  [select, count, (, *, ), from, head, where, ag...   \n",
       "1  [select, name, ,, born_state, ,, age, from, he...   \n",
       "2  [select, creation, ,, name, ,, budget_in_billi...   \n",
       "3  [select, max, (, budget_in_billions, ), ,, min...   \n",
       "4  [select, avg, (, num_employees, ), from, depar...   \n",
       "\n",
       "                                            question  \\\n",
       "0  How many heads of the departments are older th...   \n",
       "1  List the name, born state and age of the heads...   \n",
       "2  List the creation year, name and budget of eac...   \n",
       "3  What are the maximum and minimum budget of the...   \n",
       "4  What is the average number of employees of the...   \n",
       "\n",
       "                                       question_toks  \\\n",
       "0  [How, many, heads, of, the, departments, are, ...   \n",
       "1  [List, the, name, ,, born, state, and, age, of...   \n",
       "2  [List, the, creation, year, ,, name, and, budg...   \n",
       "3  [What, are, the, maximum, and, minimum, budget...   \n",
       "4  [What, is, the, average, number, of, employees...   \n",
       "\n",
       "                                                 sql  \n",
       "0  {'from': {'table_units': [['table_unit', 1]], ...  \n",
       "1  {'from': {'table_units': [['table_unit', 1]], ...  \n",
       "2  {'from': {'table_units': [['table_unit', 0]], ...  \n",
       "3  {'from': {'table_units': [['table_unit', 0]], ...  \n",
       "4  {'from': {'table_units': [['table_unit', 0]], ...  "
      ]
     },
     "execution_count": 176,
     "metadata": {},
     "output_type": "execute_result"
    }
   ],
   "source": [
    "df = pd.read_json('D:/DS/Learnin/Essex MS/CE888/Assignment/spider/spider/train_spider.json') #todo:change link\n",
    "df_o = pd.read_json('D:/DS/Learnin/Essex MS/CE888/Assignment/spider/spider/train_others.json')\n",
    "df = df.append(df_o)\n",
    "df.head()"
   ]
  },
  {
   "cell_type": "markdown",
   "metadata": {},
   "source": [
    "### Column Description:\n",
    "\n",
    "question : User spoken question in Natural Language <br>\n",
    "question_toks : Split User spoken question in Natural Language words <br>\n",
    "db_id : The database Id or the database schema containing the Database Tables  <br>\n",
    "query : the SQL query corresponding to the question. <br>\n",
    "query_toks : Tokenized SQL Query <br> \n",
    "query_toks_no_value : Query with Masker Filter Condition Value <br>\n",
    "sql : parsed results of the SQL query in a given syntax explained on https://github.com/taoyds/spider"
   ]
  },
  {
   "cell_type": "code",
   "execution_count": 177,
   "metadata": {},
   "outputs": [
    {
     "name": "stdout",
     "output_type": "stream",
     "text": [
      "Database Schema : department_management  \n",
      "Query on Table head: SELECT count(*) FROM head WHERE age  >  56\n",
      "Age Value '56' masked in 'query_toks_no_value' ['select', 'count', '(', '*', ')', 'from', 'head', 'where', 'age', '>', 'value']\n"
     ]
    }
   ],
   "source": [
    "print( \"Database Schema : {}  \\nQuery on Table head: {}\".format(df['db_id'].values[0] , df['query'].values[0]))\n",
    "print(\"Age Value '56' masked in 'query_toks_no_value' {}\".format(df['query_toks_no_value'].values[0]))"
   ]
  },
  {
   "cell_type": "markdown",
   "metadata": {},
   "source": [
    "No Null Values or Rows exist"
   ]
  },
  {
   "cell_type": "code",
   "execution_count": 179,
   "metadata": {},
   "outputs": [
    {
     "name": "stdout",
     "output_type": "stream",
     "text": [
      "<class 'pandas.core.frame.DataFrame'>\n",
      "Int64Index: 8659 entries, 0 to 1658\n",
      "Data columns (total 7 columns):\n",
      " #   Column               Non-Null Count  Dtype \n",
      "---  ------               --------------  ----- \n",
      " 0   db_id                8659 non-null   object\n",
      " 1   query                8659 non-null   object\n",
      " 2   query_toks           8659 non-null   object\n",
      " 3   query_toks_no_value  8659 non-null   object\n",
      " 4   question             8659 non-null   object\n",
      " 5   question_toks        8659 non-null   object\n",
      " 6   sql                  8659 non-null   object\n",
      "dtypes: object(7)\n",
      "memory usage: 541.2+ KB\n"
     ]
    }
   ],
   "source": [
    "df.info()"
   ]
  },
  {
   "cell_type": "code",
   "execution_count": 180,
   "metadata": {},
   "outputs": [
    {
     "name": "stdout",
     "output_type": "stream",
     "text": [
      "Distinct Database existing in database : 146\n",
      "Sample Db Ids : ['department_management' 'farm' 'student_assessment' 'bike_1' 'book_2']\n"
     ]
    }
   ],
   "source": [
    "db_schema = df['db_id'].unique()\n",
    "print(\"Distinct Database existing in database : {}\".format(len(db_schema)))\n",
    "print(\"Sample Db Ids : {}\".format(db_schema[:5]))"
   ]
  },
  {
   "cell_type": "markdown",
   "metadata": {},
   "source": [
    "### Lets Have a Look at Data Examples "
   ]
  },
  {
   "cell_type": "markdown",
   "metadata": {},
   "source": [
    "Easy SQL Queries : Single Table Queries "
   ]
  },
  {
   "cell_type": "code",
   "execution_count": 181,
   "metadata": {},
   "outputs": [
    {
     "data": {
      "text/plain": [
       "array(['SELECT count(*) FROM head WHERE age  >  56',\n",
       "       'SELECT name ,  born_state ,  age FROM head ORDER BY age'],\n",
       "      dtype=object)"
      ]
     },
     "execution_count": 181,
     "metadata": {},
     "output_type": "execute_result"
    }
   ],
   "source": [
    "df2 = df[~df['query'].str.contains('join',case=False)] # filter queries with join\n",
    "df2 = df2[~df2['query'].str.contains('group by',case=False)] # filter group by queries\n",
    "df2 = df2[~df2['query'].str.contains('\\)$',case=False)]['query'] # filter nested queries\n",
    "df2.values[:2]"
   ]
  },
  {
   "cell_type": "code",
   "execution_count": 182,
   "metadata": {},
   "outputs": [
    {
     "name": "stdout",
     "output_type": "stream",
     "text": [
      "Number of Single Table Queries 3530 , Total Queries : 8659 \n"
     ]
    }
   ],
   "source": [
    "# Filter on Query Column which does not contain word 'join'\n",
    "print(\"Number of Single Table Queries {} , Total Queries : {} \".format(df2.count(),len(df)))"
   ]
  },
  {
   "cell_type": "markdown",
   "metadata": {},
   "source": [
    "Medium SQL Queries : Table with Joins"
   ]
  },
  {
   "cell_type": "code",
   "execution_count": 190,
   "metadata": {},
   "outputs": [
    {
     "data": {
      "text/plain": [
       "array([\"SELECT DISTINCT T1.creation FROM department AS T1 JOIN management AS T2 ON T1.department_id  =  T2.department_id JOIN head AS T3 ON T2.head_id  =  T3.head_id WHERE T3.born_state  =  'Alabama'\",\n",
       "       'SELECT T3.cell_mobile_number FROM candidates AS T1 JOIN candidate_assessments AS T2 ON T1.candidate_id = T2.candidate_id JOIN people AS T3 ON T1.candidate_id = T3.person_id WHERE T2.asessment_outcome_code = \"Fail\"'],\n",
       "      dtype=object)"
      ]
     },
     "execution_count": 190,
     "metadata": {},
     "output_type": "execute_result"
    }
   ],
   "source": [
    "df2 = df[df['query'].str.contains('(join.*){2,}',case=False)]\n",
    "df2 = df2[~df2['query'].str.contains('group by',case=False)] # filter queries with group by\n",
    "df2 = df2[~df2['query'].str.contains('intersect',case=False)]\n",
    "df2['query'].values[:2]"
   ]
  },
  {
   "cell_type": "code",
   "execution_count": 184,
   "metadata": {},
   "outputs": [
    {
     "name": "stdout",
     "output_type": "stream",
     "text": [
      "Number of Table with Joins 1313 , Total Queries : 8659 \n"
     ]
    }
   ],
   "source": [
    "# Filter on Query Column which does not contain word 'join'\n",
    "print(\"Number of Table with Joins {} , Total Queries : {} \".format(df2['query'].count(),len(df)))"
   ]
  },
  {
   "cell_type": "markdown",
   "metadata": {},
   "source": [
    "Hard SQL Queries : Queries with  Joins , Having and Group By Clause"
   ]
  },
  {
   "cell_type": "code",
   "execution_count": 185,
   "metadata": {},
   "outputs": [
    {
     "data": {
      "text/plain": [
       "array(['SELECT T1.department_id ,  T1.name ,  count(*) FROM management AS T2 JOIN department AS T1 ON T1.department_id  =  T2.department_id GROUP BY T1.department_id HAVING count(*)  >  1',\n",
       "       'SELECT T1.Official_Name FROM city AS T1 JOIN farm_competition AS T2 ON T1.City_ID  =  T2.Host_city_ID GROUP BY T2.Host_city_ID HAVING COUNT(*)  >  1'],\n",
       "      dtype=object)"
      ]
     },
     "execution_count": 185,
     "metadata": {},
     "output_type": "execute_result"
    }
   ],
   "source": [
    "df2 = df[df['query'].str.contains('join .* group by .* having',case=False)]\n",
    "df2['query'].values[:2]"
   ]
  },
  {
   "cell_type": "code",
   "execution_count": 186,
   "metadata": {},
   "outputs": [
    {
     "name": "stdout",
     "output_type": "stream",
     "text": [
      "Number of Queries containing Group By and Having 243 , Total Queries : 8659 \n"
     ]
    }
   ],
   "source": [
    "print(\"Number of Queries containing Group By and Having {} , Total Queries : {} \".format(df2['query'].count(),len(df)))"
   ]
  },
  {
   "cell_type": "markdown",
   "metadata": {},
   "source": [
    "Extra Hard SQL Queries : Nested Queries"
   ]
  },
  {
   "cell_type": "code",
   "execution_count": 187,
   "metadata": {},
   "outputs": [
    {
     "data": {
      "text/plain": [
       "array(['SELECT Official_Name FROM city WHERE City_ID NOT IN (SELECT Host_city_ID FROM farm_competition)',\n",
       "       'SELECT Official_Name FROM city WHERE City_ID NOT IN (SELECT Host_city_ID FROM farm_competition)'],\n",
       "      dtype=object)"
      ]
     },
     "execution_count": 187,
     "metadata": {},
     "output_type": "execute_result"
    }
   ],
   "source": [
    "df2 = df[df['query'].str.contains('\\)$',case=False)]\n",
    "df2['query'].values[:2]"
   ]
  },
  {
   "cell_type": "code",
   "execution_count": 188,
   "metadata": {},
   "outputs": [
    {
     "name": "stdout",
     "output_type": "stream",
     "text": [
      "Number of Nested Queries , Total Queries : 504 \n"
     ]
    }
   ],
   "source": [
    "print(\"Number of Nested Queries , Total Queries : {} \".format(df2['query'].count(),len(df)))"
   ]
  },
  {
   "cell_type": "code",
   "execution_count": null,
   "metadata": {},
   "outputs": [],
   "source": []
  }
 ],
 "metadata": {
  "kernelspec": {
   "display_name": "Python 3",
   "language": "python",
   "name": "python3"
  },
  "language_info": {
   "codemirror_mode": {
    "name": "ipython",
    "version": 3
   },
   "file_extension": ".py",
   "mimetype": "text/x-python",
   "name": "python",
   "nbconvert_exporter": "python",
   "pygments_lexer": "ipython3",
   "version": "3.7.11"
  }
 },
 "nbformat": 4,
 "nbformat_minor": 4
}
