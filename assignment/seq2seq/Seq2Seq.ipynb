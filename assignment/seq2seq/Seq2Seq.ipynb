{
 "cells": [
  {
   "cell_type": "code",
   "execution_count": 7,
   "metadata": {},
   "outputs": [],
   "source": [
    "import pandas as pd\n",
    "import warnings\n",
    "\n",
    "warnings.filterwarnings(\"ignore\")"
   ]
  },
  {
   "cell_type": "markdown",
   "metadata": {},
   "source": [
    "### Load Spider Dataset\n",
    "\n",
    "The official final Spider training data set combines train_spider.json and train_others.json. <br>\n",
    "The databases used in train_others.json are from Restaurants, GeoQuery, Scholar, Academic, IMDB, and Yelp which are prepared by Finegan-Dollak et al., 2018. <br>\n",
    "dev.json used for validation purpose. <br>\n",
    "The Database and related table information is in tables.json"
   ]
  },
  {
   "cell_type": "markdown",
   "metadata": {},
   "source": []
  },
  {
   "cell_type": "code",
   "execution_count": 8,
   "metadata": {},
   "outputs": [
    {
     "data": {
      "text/html": [
       "<div>\n",
       "<style scoped>\n",
       "    .dataframe tbody tr th:only-of-type {\n",
       "        vertical-align: middle;\n",
       "    }\n",
       "\n",
       "    .dataframe tbody tr th {\n",
       "        vertical-align: top;\n",
       "    }\n",
       "\n",
       "    .dataframe thead th {\n",
       "        text-align: right;\n",
       "    }\n",
       "</style>\n",
       "<table border=\"1\" class=\"dataframe\">\n",
       "  <thead>\n",
       "    <tr style=\"text-align: right;\">\n",
       "      <th></th>\n",
       "      <th>db_id</th>\n",
       "      <th>query</th>\n",
       "      <th>query_toks</th>\n",
       "      <th>query_toks_no_value</th>\n",
       "      <th>question</th>\n",
       "      <th>question_toks</th>\n",
       "      <th>sql</th>\n",
       "    </tr>\n",
       "  </thead>\n",
       "  <tbody>\n",
       "    <tr>\n",
       "      <th>0</th>\n",
       "      <td>department_management</td>\n",
       "      <td>SELECT count(*) FROM head WHERE age  &gt;  56</td>\n",
       "      <td>[SELECT, count, (, *, ), FROM, head, WHERE, ag...</td>\n",
       "      <td>[select, count, (, *, ), from, head, where, ag...</td>\n",
       "      <td>How many heads of the departments are older th...</td>\n",
       "      <td>[How, many, heads, of, the, departments, are, ...</td>\n",
       "      <td>{'from': {'table_units': [['table_unit', 1]], ...</td>\n",
       "    </tr>\n",
       "    <tr>\n",
       "      <th>1</th>\n",
       "      <td>department_management</td>\n",
       "      <td>SELECT name ,  born_state ,  age FROM head ORD...</td>\n",
       "      <td>[SELECT, name, ,, born_state, ,, age, FROM, he...</td>\n",
       "      <td>[select, name, ,, born_state, ,, age, from, he...</td>\n",
       "      <td>List the name, born state and age of the heads...</td>\n",
       "      <td>[List, the, name, ,, born, state, and, age, of...</td>\n",
       "      <td>{'from': {'table_units': [['table_unit', 1]], ...</td>\n",
       "    </tr>\n",
       "    <tr>\n",
       "      <th>2</th>\n",
       "      <td>department_management</td>\n",
       "      <td>SELECT creation ,  name ,  budget_in_billions ...</td>\n",
       "      <td>[SELECT, creation, ,, name, ,, budget_in_billi...</td>\n",
       "      <td>[select, creation, ,, name, ,, budget_in_billi...</td>\n",
       "      <td>List the creation year, name and budget of eac...</td>\n",
       "      <td>[List, the, creation, year, ,, name, and, budg...</td>\n",
       "      <td>{'from': {'table_units': [['table_unit', 0]], ...</td>\n",
       "    </tr>\n",
       "    <tr>\n",
       "      <th>3</th>\n",
       "      <td>department_management</td>\n",
       "      <td>SELECT max(budget_in_billions) ,  min(budget_i...</td>\n",
       "      <td>[SELECT, max, (, budget_in_billions, ), ,, min...</td>\n",
       "      <td>[select, max, (, budget_in_billions, ), ,, min...</td>\n",
       "      <td>What are the maximum and minimum budget of the...</td>\n",
       "      <td>[What, are, the, maximum, and, minimum, budget...</td>\n",
       "      <td>{'from': {'table_units': [['table_unit', 0]], ...</td>\n",
       "    </tr>\n",
       "    <tr>\n",
       "      <th>4</th>\n",
       "      <td>department_management</td>\n",
       "      <td>SELECT avg(num_employees) FROM department WHER...</td>\n",
       "      <td>[SELECT, avg, (, num_employees, ), FROM, depar...</td>\n",
       "      <td>[select, avg, (, num_employees, ), from, depar...</td>\n",
       "      <td>What is the average number of employees of the...</td>\n",
       "      <td>[What, is, the, average, number, of, employees...</td>\n",
       "      <td>{'from': {'table_units': [['table_unit', 0]], ...</td>\n",
       "    </tr>\n",
       "  </tbody>\n",
       "</table>\n",
       "</div>"
      ],
      "text/plain": [
       "                   db_id                                              query  \\\n",
       "0  department_management         SELECT count(*) FROM head WHERE age  >  56   \n",
       "1  department_management  SELECT name ,  born_state ,  age FROM head ORD...   \n",
       "2  department_management  SELECT creation ,  name ,  budget_in_billions ...   \n",
       "3  department_management  SELECT max(budget_in_billions) ,  min(budget_i...   \n",
       "4  department_management  SELECT avg(num_employees) FROM department WHER...   \n",
       "\n",
       "                                          query_toks  \\\n",
       "0  [SELECT, count, (, *, ), FROM, head, WHERE, ag...   \n",
       "1  [SELECT, name, ,, born_state, ,, age, FROM, he...   \n",
       "2  [SELECT, creation, ,, name, ,, budget_in_billi...   \n",
       "3  [SELECT, max, (, budget_in_billions, ), ,, min...   \n",
       "4  [SELECT, avg, (, num_employees, ), FROM, depar...   \n",
       "\n",
       "                                 query_toks_no_value  \\\n",
       "0  [select, count, (, *, ), from, head, where, ag...   \n",
       "1  [select, name, ,, born_state, ,, age, from, he...   \n",
       "2  [select, creation, ,, name, ,, budget_in_billi...   \n",
       "3  [select, max, (, budget_in_billions, ), ,, min...   \n",
       "4  [select, avg, (, num_employees, ), from, depar...   \n",
       "\n",
       "                                            question  \\\n",
       "0  How many heads of the departments are older th...   \n",
       "1  List the name, born state and age of the heads...   \n",
       "2  List the creation year, name and budget of eac...   \n",
       "3  What are the maximum and minimum budget of the...   \n",
       "4  What is the average number of employees of the...   \n",
       "\n",
       "                                       question_toks  \\\n",
       "0  [How, many, heads, of, the, departments, are, ...   \n",
       "1  [List, the, name, ,, born, state, and, age, of...   \n",
       "2  [List, the, creation, year, ,, name, and, budg...   \n",
       "3  [What, are, the, maximum, and, minimum, budget...   \n",
       "4  [What, is, the, average, number, of, employees...   \n",
       "\n",
       "                                                 sql  \n",
       "0  {'from': {'table_units': [['table_unit', 1]], ...  \n",
       "1  {'from': {'table_units': [['table_unit', 1]], ...  \n",
       "2  {'from': {'table_units': [['table_unit', 0]], ...  \n",
       "3  {'from': {'table_units': [['table_unit', 0]], ...  \n",
       "4  {'from': {'table_units': [['table_unit', 0]], ...  "
      ]
     },
     "execution_count": 8,
     "metadata": {},
     "output_type": "execute_result"
    }
   ],
   "source": [
    "df = pd.read_json(\"./train_spider.json\")\n",
    "df_o = pd.read_json(\"./train_others.json\")\n",
    "df = df.append(df_o)\n",
    "df.head()"
   ]
  },
  {
   "cell_type": "markdown",
   "metadata": {},
   "source": [
    "### Column Description:\n",
    "\n",
    "question : User spoken question in Natural Language <br>\n",
    "question_toks : Split User spoken question in Natural Language words <br>\n",
    "db_id : The database Id or the database schema containing the Database Tables  <br>\n",
    "query : the SQL query corresponding to the question. <br>\n",
    "query_toks : Tokenized SQL Query <br> \n",
    "query_toks_no_value : Query with Masker Filter Condition Value <br>\n",
    "sql : parsed results of the SQL query in a given syntax explained on https://github.com/taoyds/spider"
   ]
  },
  {
   "cell_type": "code",
   "execution_count": 9,
   "metadata": {},
   "outputs": [
    {
     "name": "stdout",
     "output_type": "stream",
     "text": [
      "Database Schema : department_management  \n",
      "Query on Table head: SELECT count(*) FROM head WHERE age  >  56\n",
      "Age Value '56' masked in 'query_toks_no_value' ['select', 'count', '(', '*', ')', 'from', 'head', 'where', 'age', '>', 'value']\n"
     ]
    }
   ],
   "source": [
    "print(\n",
    "    \"Database Schema : {}  \\nQuery on Table head: {}\".format(\n",
    "        df[\"db_id\"].values[0], df[\"query\"].values[0]\n",
    "    )\n",
    ")\n",
    "print(\n",
    "    \"Age Value '56' masked in 'query_toks_no_value' {}\".format(\n",
    "        df[\"query_toks_no_value\"].values[0]\n",
    "    )\n",
    ")"
   ]
  },
  {
   "cell_type": "markdown",
   "metadata": {},
   "source": [
    "No Null Values or Rows exist"
   ]
  },
  {
   "cell_type": "code",
   "execution_count": 10,
   "metadata": {},
   "outputs": [
    {
     "name": "stdout",
     "output_type": "stream",
     "text": [
      "<class 'pandas.core.frame.DataFrame'>\n",
      "Int64Index: 8659 entries, 0 to 1658\n",
      "Data columns (total 7 columns):\n",
      " #   Column               Non-Null Count  Dtype \n",
      "---  ------               --------------  ----- \n",
      " 0   db_id                8659 non-null   object\n",
      " 1   query                8659 non-null   object\n",
      " 2   query_toks           8659 non-null   object\n",
      " 3   query_toks_no_value  8659 non-null   object\n",
      " 4   question             8659 non-null   object\n",
      " 5   question_toks        8659 non-null   object\n",
      " 6   sql                  8659 non-null   object\n",
      "dtypes: object(7)\n",
      "memory usage: 541.2+ KB\n"
     ]
    }
   ],
   "source": [
    "df.info()"
   ]
  },
  {
   "cell_type": "markdown",
   "metadata": {},
   "source": [
    "Why Spider is Cross Domain ?"
   ]
  },
  {
   "cell_type": "code",
   "execution_count": 11,
   "metadata": {},
   "outputs": [
    {
     "name": "stdout",
     "output_type": "stream",
     "text": [
      "Distinct Database existing in database : 146\n",
      "Sample Db Ids : ['department_management' 'farm' 'student_assessment' 'bike_1' 'book_2']\n"
     ]
    }
   ],
   "source": [
    "db_schema = df[\"db_id\"].unique()\n",
    "print(\"Distinct Database existing in database : {}\".format(len(db_schema)))\n",
    "print(\"Sample Db Ids : {}\".format(db_schema[:5]))"
   ]
  },
  {
   "cell_type": "markdown",
   "metadata": {},
   "source": [
    "### Lets Have a Look at Data Examples "
   ]
  },
  {
   "cell_type": "markdown",
   "metadata": {},
   "source": [
    "Easy SQL Queries : Single Table Queries "
   ]
  },
  {
   "cell_type": "code",
   "execution_count": 12,
   "metadata": {},
   "outputs": [
    {
     "data": {
      "text/plain": [
       "array(['SELECT count(*) FROM head WHERE age  >  56',\n",
       "       'SELECT name ,  born_state ,  age FROM head ORDER BY age'],\n",
       "      dtype=object)"
      ]
     },
     "execution_count": 12,
     "metadata": {},
     "output_type": "execute_result"
    }
   ],
   "source": [
    "df2 = df[~df[\"query\"].str.contains(\"join\", case=False)]  # filter queries with join\n",
    "df2 = df2[~df2[\"query\"].str.contains(\"group by\", case=False)]  # filter group by queries\n",
    "df2 = df2[~df2[\"query\"].str.contains(\"\\)$\", case=False)][\n",
    "    \"query\"\n",
    "]  # filter nested queries\n",
    "df2.values[:2]"
   ]
  },
  {
   "cell_type": "code",
   "execution_count": 13,
   "metadata": {},
   "outputs": [
    {
     "name": "stdout",
     "output_type": "stream",
     "text": [
      "Number of Single Table Queries 3530 , Total Queries : 8659 \n"
     ]
    }
   ],
   "source": [
    "# Filter on Query Column which does not contain word 'join'\n",
    "print(\n",
    "    \"Number of Single Table Queries {} , Total Queries : {} \".format(\n",
    "        df2.count(), len(df)\n",
    "    )\n",
    ")"
   ]
  },
  {
   "cell_type": "markdown",
   "metadata": {},
   "source": [
    "Medium SQL Queries : Table with Joins"
   ]
  },
  {
   "cell_type": "code",
   "execution_count": 14,
   "metadata": {},
   "outputs": [
    {
     "data": {
      "text/plain": [
       "array([\"SELECT DISTINCT T1.creation FROM department AS T1 JOIN management AS T2 ON T1.department_id  =  T2.department_id JOIN head AS T3 ON T2.head_id  =  T3.head_id WHERE T3.born_state  =  'Alabama'\",\n",
       "       'SELECT T3.cell_mobile_number FROM candidates AS T1 JOIN candidate_assessments AS T2 ON T1.candidate_id = T2.candidate_id JOIN people AS T3 ON T1.candidate_id = T3.person_id WHERE T2.asessment_outcome_code = \"Fail\"'],\n",
       "      dtype=object)"
      ]
     },
     "execution_count": 14,
     "metadata": {},
     "output_type": "execute_result"
    }
   ],
   "source": [
    "df2 = df[df[\"query\"].str.contains(\"(join.*){2,}\", case=False)]\n",
    "df2 = df2[\n",
    "    ~df2[\"query\"].str.contains(\"group by\", case=False)\n",
    "]  # filter queries with group by\n",
    "df2 = df2[~df2[\"query\"].str.contains(\"intersect\", case=False)]\n",
    "df2[\"query\"].values[:2]"
   ]
  },
  {
   "cell_type": "code",
   "execution_count": 15,
   "metadata": {},
   "outputs": [
    {
     "name": "stdout",
     "output_type": "stream",
     "text": [
      "Number of Table with Joins 1188 , Total Queries : 8659 \n"
     ]
    }
   ],
   "source": [
    "# Filter on Query Column which does not contain word 'join'\n",
    "print(\n",
    "    \"Number of Table with Joins {} , Total Queries : {} \".format(\n",
    "        df2[\"query\"].count(), len(df)\n",
    "    )\n",
    ")"
   ]
  },
  {
   "cell_type": "markdown",
   "metadata": {},
   "source": [
    "Hard SQL Queries : Queries with  Joins , Having and Group By Clause"
   ]
  },
  {
   "cell_type": "code",
   "execution_count": 16,
   "metadata": {},
   "outputs": [
    {
     "data": {
      "text/plain": [
       "array(['SELECT T1.department_id ,  T1.name ,  count(*) FROM management AS T2 JOIN department AS T1 ON T1.department_id  =  T2.department_id GROUP BY T1.department_id HAVING count(*)  >  1',\n",
       "       'SELECT T1.Official_Name FROM city AS T1 JOIN farm_competition AS T2 ON T1.City_ID  =  T2.Host_city_ID GROUP BY T2.Host_city_ID HAVING COUNT(*)  >  1'],\n",
       "      dtype=object)"
      ]
     },
     "execution_count": 16,
     "metadata": {},
     "output_type": "execute_result"
    }
   ],
   "source": [
    "df2 = df[df[\"query\"].str.contains(\"join .* group by .* having\", case=False)]\n",
    "df2[\"query\"].values[:2]"
   ]
  },
  {
   "cell_type": "code",
   "execution_count": 17,
   "metadata": {},
   "outputs": [
    {
     "name": "stdout",
     "output_type": "stream",
     "text": [
      "Number of Queries containing Group By and Having 243 , Total Queries : 8659 \n"
     ]
    }
   ],
   "source": [
    "print(\n",
    "    \"Number of Queries containing Group By and Having {} , Total Queries : {} \".format(\n",
    "        df2[\"query\"].count(), len(df)\n",
    "    )\n",
    ")"
   ]
  },
  {
   "cell_type": "markdown",
   "metadata": {},
   "source": [
    "Extra Hard SQL Queries : Nested Queries"
   ]
  },
  {
   "cell_type": "code",
   "execution_count": 18,
   "metadata": {},
   "outputs": [
    {
     "data": {
      "text/plain": [
       "array(['SELECT Official_Name FROM city WHERE City_ID NOT IN (SELECT Host_city_ID FROM farm_competition)',\n",
       "       'SELECT Official_Name FROM city WHERE City_ID NOT IN (SELECT Host_city_ID FROM farm_competition)'],\n",
       "      dtype=object)"
      ]
     },
     "execution_count": 18,
     "metadata": {},
     "output_type": "execute_result"
    }
   ],
   "source": [
    "df2 = df[df[\"query\"].str.contains(\"\\)$\", case=False)]\n",
    "df2[\"query\"].values[:2]"
   ]
  },
  {
   "cell_type": "code",
   "execution_count": 19,
   "metadata": {},
   "outputs": [
    {
     "name": "stdout",
     "output_type": "stream",
     "text": [
      "Number of Nested Queries , Total Queries : 504 \n"
     ]
    }
   ],
   "source": [
    "print(\n",
    "    \"Number of Nested Queries , Total Queries : {} \".format(\n",
    "        df2[\"query\"].count(), len(df)\n",
    "    )\n",
    ")"
   ]
  },
  {
   "cell_type": "markdown",
   "metadata": {},
   "source": [
    "## Data Pre-Processing"
   ]
  },
  {
   "cell_type": "code",
   "execution_count": 25,
   "metadata": {},
   "outputs": [],
   "source": [
    "data = pd.DataFrame(columns=[\"text\", \"SQL\"])"
   ]
  },
  {
   "cell_type": "code",
   "execution_count": 26,
   "metadata": {},
   "outputs": [],
   "source": [
    "data[[\"SQL\", \"text\"]] = df[[\"query_toks\", \"question_toks\"]]"
   ]
  },
  {
   "cell_type": "code",
   "execution_count": 31,
   "metadata": {},
   "outputs": [],
   "source": [
    "text = data.text.values\n",
    "sql = data.SQL.values"
   ]
  },
  {
   "cell_type": "code",
   "execution_count": 49,
   "metadata": {},
   "outputs": [],
   "source": [
    "def unique_word_count(list_of_sentences):\n",
    "    \"\"\"\n",
    "    Parameters\n",
    "    ------------\n",
    "    list_of_sentences : input a list of sentences\n",
    "    Returns\n",
    "    ------------\n",
    "    Unique Word count\n",
    "    \"\"\"\n",
    "    word_list = []\n",
    "    for sentence in list_of_sentences:\n",
    "        for word in sentence:\n",
    "            word = word.lower().strip()\n",
    "            if word not in word_list:\n",
    "                word_list.append(word)\n",
    "    return len(word_list)"
   ]
  },
  {
   "cell_type": "code",
   "execution_count": 51,
   "metadata": {},
   "outputs": [
    {
     "name": "stdout",
     "output_type": "stream",
     "text": [
      "Unique words in Text Vocabulary: 3974\n",
      "Unique words in SQL:: 5583\n"
     ]
    }
   ],
   "source": [
    "print(\"Unique words in Text Vocabulary:\", unique_word_count(text))\n",
    "print(\"Unique words in SQL::\", unique_word_count(sql))"
   ]
  },
  {
   "cell_type": "code",
   "execution_count": 53,
   "metadata": {},
   "outputs": [],
   "source": [
    "def word_mapping(list_of_sentences):\n",
    "    word2index = {}\n",
    "    index2word = {}\n",
    "    word_freq = {}\n",
    "    n_words = 0\n",
    "    for sentence in list_of_sentences:\n",
    "        for word in sentence:\n",
    "            word = word.lower().strip()\n",
    "            if word not in word2index:\n",
    "                word2index[word] = n_words\n",
    "                index2word[n_words] = word\n",
    "                word_freq[word] = 1\n",
    "                n_words += 1\n",
    "            else:\n",
    "                word_freq[word] += 1\n",
    "    return word2index, index2word, word_freq"
   ]
  },
  {
   "cell_type": "code",
   "execution_count": 55,
   "metadata": {},
   "outputs": [],
   "source": [
    "word2index, index2word, word_freq = word_mapping(text)"
   ]
  },
  {
   "cell_type": "code",
   "execution_count": 79,
   "metadata": {},
   "outputs": [],
   "source": [
    "import pandas as pd\n",
    "\n",
    "word_freq_dict = dict(sorted(word_freq.items(), key=lambda item: item[1], reverse=True))\n",
    "word_frq_df = pd.DataFrame(word_freq_dict.items(), columns=[\"word\", \"freq\"])"
   ]
  },
  {
   "cell_type": "code",
   "execution_count": 100,
   "metadata": {},
   "outputs": [
    {
     "data": {
      "text/plain": [
       "<AxesSubplot:xlabel='freq', ylabel='word'>"
      ]
     },
     "execution_count": 100,
     "metadata": {},
     "output_type": "execute_result"
    },
    {
     "data": {
      "image/png": "[encoded data removed]",
      "text/plain": [
       "<Figure size 432x288 with 1 Axes>"
      ]
     },
     "metadata": {
      "needs_background": "light"
     },
     "output_type": "display_data"
    }
   ],
   "source": [
    "import matplotlib.pyplot as plt\n",
    "import seaborn as sns\n",
    "\n",
    "sns.barplot(x=\"freq\", y=\"word\", data=word_frq_df.head(20))\n",
    "# plt.savefig('plot.png', dpi=1200,orientation=\"horizontal\")"
   ]
  },
  {
   "cell_type": "code",
   "execution_count": 114,
   "metadata": {},
   "outputs": [
    {
     "name": "stdout",
     "output_type": "stream",
     "text": [
      "Mapping Words to Unique Index : [('how', 0), ('many', 1), ('heads', 2), ('of', 3)]\n",
      "Mapping Index to Word : [(0, 'how'), (1, 'many'), (2, 'heads'), (3, 'of')]\n"
     ]
    }
   ],
   "source": [
    "print(\"Mapping Words to Unique Index :\", list(word2index.items())[:4])\n",
    "print(\"Mapping Index to Word :\", list(index2word.items())[:4])"
   ]
  },
  {
   "cell_type": "markdown",
   "metadata": {},
   "source": [
    "## Split Dataset for Training and Test\n",
    "Select 2100 SQL samples from train_spider.json and 900 samples from dev.json"
   ]
  },
  {
   "cell_type": "code",
   "execution_count": 116,
   "metadata": {},
   "outputs": [],
   "source": [
    "test = pd.read_json(\"./dev.json\")\n",
    "train = pd.read_json(\"./train_spider.json\")"
   ]
  },
  {
   "cell_type": "code",
   "execution_count": 121,
   "metadata": {},
   "outputs": [
    {
     "name": "stdout",
     "output_type": "stream",
     "text": [
      "(2100, 7)\n",
      "(900, 7)\n"
     ]
    }
   ],
   "source": [
    "train_subset = train.iloc[:2100, :]\n",
    "test_subset = test.iloc[:900, :]\n",
    "print(train_subset.shape)\n",
    "print(test_subset.shape)"
   ]
  },
  {
   "cell_type": "code",
   "execution_count": null,
   "metadata": {},
   "outputs": [],
   "source": []
  }
 ],
 "metadata": {
  "kernelspec": {
   "display_name": "Python 3",
   "language": "python",
   "name": "python3"
  },
  "language_info": {
   "codemirror_mode": {
    "name": "ipython",
    "version": 3
   },
   "file_extension": ".py",
   "mimetype": "text/x-python",
   "name": "python",
   "nbconvert_exporter": "python",
   "pygments_lexer": "ipython3",
   "version": "3.7.11"
  }
 },
 "nbformat": 4,
 "nbformat_minor": 4
}
