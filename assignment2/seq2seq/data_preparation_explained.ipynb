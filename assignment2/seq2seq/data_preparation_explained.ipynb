{
 "cells": [
  {
   "cell_type": "code",
   "execution_count": 1,
   "metadata": {},
   "outputs": [],
   "source": [
    "import data"
   ]
  },
  {
   "cell_type": "markdown",
   "metadata": {},
   "source": [
    "Text Cleansing <br>\n",
    "removal of extra whitespace and add space around punctuation marks.\n",
    "removal of special characters"
   ]
  },
  {
   "cell_type": "code",
   "execution_count": 3,
   "metadata": {},
   "outputs": [
    {
     "data": {
      "text/plain": [
       "b'SELECT count (  *  )  FROM head WHERE age > 56'"
      ]
     },
     "execution_count": 3,
     "metadata": {},
     "output_type": "execute_result"
    }
   ],
   "source": [
    "\n",
    "sample_text = r\"SELECT count(*) FROM head WHERE age>56\"\n",
    "data.Preprocess('sample').text_whitespace(sample_text).numpy()"
   ]
  },
  {
   "cell_type": "markdown",
   "metadata": {},
   "source": [
    "Standardization\n",
    "\n",
    "The input and target sentences are converted into lower case and normalized using NFKD method by TensorFlow_Text library."
   ]
  },
  {
   "cell_type": "code",
   "execution_count": 4,
   "metadata": {},
   "outputs": [
    {
     "data": {
      "text/plain": [
       "b'select count(*) from head where age>56'"
      ]
     },
     "execution_count": 4,
     "metadata": {},
     "output_type": "execute_result"
    }
   ],
   "source": [
    "data.Preprocess('sample').text_standardize(sample_text).numpy()"
   ]
  },
  {
   "cell_type": "markdown",
   "metadata": {},
   "source": [
    "Append Sentence Start and End Tags <br>\n",
    "\n",
    "Each input and target sentence is appended with '[START]' and '[END]' tags to mark the start and end of the sentence respectively"
   ]
  },
  {
   "cell_type": "code",
   "execution_count": 5,
   "metadata": {},
   "outputs": [
    {
     "data": {
      "text/plain": [
       "b'[start] SELECT count(*) FROM head WHERE age>56 [end]'"
      ]
     },
     "execution_count": 5,
     "metadata": {},
     "output_type": "execute_result"
    }
   ],
   "source": [
    "data.Preprocess('sample').add_SOS_EOS(sample_text).numpy()"
   ]
  },
  {
   "cell_type": "markdown",
   "metadata": {},
   "source": [
    "Text Vectorization"
   ]
  },
  {
   "cell_type": "code",
   "execution_count": 2,
   "metadata": {},
   "outputs": [],
   "source": [
    "sample_in= ['How many heads of the departments are older than 56 ?',\n",
    "            'List the name, born state and age of the heads of departments ordered by age.']\n"
   ]
  },
  {
   "cell_type": "code",
   "execution_count": 3,
   "metadata": {},
   "outputs": [],
   "source": [
    "sample_out = [r'SELECT count(*) FROM head WHERE age  >  56',\n",
    "             r'SELECT name ,  born_state ,  age FROM head ORDER BY age']"
   ]
  },
  {
   "cell_type": "code",
   "execution_count": 4,
   "metadata": {},
   "outputs": [
    {
     "name": "stdout",
     "output_type": "stream",
     "text": [
      "Input Vectorizor created\n",
      "Sample Vocabulary ['', '[UNK]', 'the', 'of', 'heads', 'departments', 'age', '[start]', '[end]', 'than']\n",
      "Output Vectorizor created\n",
      "Sample Vocabulary ['', '[UNK]', 'age', 'select', 'head', 'from', '[start]', '[end]', ',', 'where']\n",
      "Vocabulary size for Input 25\n",
      "Vocabulary size for Output 20\n"
     ]
    }
   ],
   "source": [
    "print('Input Vectorizor created')\n",
    "input_text_processor = data.Features().vectorizor(sample_in , 7000)\n",
    "print('Output Vectorizor created')\n",
    "output_text_processor = data.Features().vectorizor(sample_out , 7000)\n",
    "\n",
    "print('Vocabulary size for Input', input_text_processor.vocabulary_size())\n",
    "print('Vocabulary size for Output', output_text_processor.vocabulary_size())"
   ]
  },
  {
   "cell_type": "markdown",
   "metadata": {},
   "source": [
    "Vectorized and Padded Input created"
   ]
  },
  {
   "cell_type": "code",
   "execution_count": 9,
   "metadata": {},
   "outputs": [
    {
     "data": {
      "text/plain": [
       "<tf.Tensor: shape=(2, 19), dtype=int64, numpy=\n",
       "array([[ 7, 16, 14,  4,  3,  2,  5, 19, 12,  9, 22, 21,  8,  0,  0,  0,\n",
       "         0,  0,  0],\n",
       "       [ 7, 15,  2, 13, 24, 18, 10, 20,  6,  3,  2,  4,  3,  5, 11, 17,\n",
       "         6, 23,  8]], dtype=int64)>"
      ]
     },
     "execution_count": 9,
     "metadata": {},
     "output_type": "execute_result"
    }
   ],
   "source": [
    "input_text_processor(sample_in)"
   ]
  },
  {
   "cell_type": "code",
   "execution_count": 10,
   "metadata": {},
   "outputs": [
    {
     "data": {
      "text/plain": [
       "<tf.Tensor: shape=(2, 13), dtype=int64, numpy=\n",
       "array([[ 6,  3, 12, 19, 17, 18,  5,  4,  9,  2, 15, 16,  7],\n",
       "       [ 6,  3, 11,  8, 14,  8,  2,  5,  4, 10, 13,  2,  7]], dtype=int64)>"
      ]
     },
     "execution_count": 10,
     "metadata": {},
     "output_type": "execute_result"
    }
   ],
   "source": [
    "output_text_processor(sample_out)"
   ]
  },
  {
   "cell_type": "code",
   "execution_count": null,
   "metadata": {},
   "outputs": [],
   "source": []
  }
 ],
 "metadata": {
  "interpreter": {
   "hash": "24c7168f742075337832b93c1fbfd4355e111387279ce758eae35d9b42cad7f4"
  },
  "kernelspec": {
   "display_name": "Python 3.7.13 ('tf')",
   "language": "python",
   "name": "python3"
  },
  "language_info": {
   "codemirror_mode": {
    "name": "ipython",
    "version": 3
   },
   "file_extension": ".py",
   "mimetype": "text/x-python",
   "name": "python",
   "nbconvert_exporter": "python",
   "pygments_lexer": "ipython3",
   "version": "3.7.13"
  },
  "orig_nbformat": 4
 },
 "nbformat": 4,
 "nbformat_minor": 2
}
