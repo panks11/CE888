{
  "cells": [
    {
      "cell_type": "markdown",
      "metadata": {
        "id": "view-in-github",
        "colab_type": "text"
      },
      "source": [
        "<a href=\"https://colab.research.google.com/github/panks11/CE888/blob/main/labs/lab6/my_recommender.ipynb\" target=\"_parent\"><img src=\"https://colab.research.google.com/assets/colab-badge.svg\" alt=\"Open In Colab\"/></a>"
      ]
    },
    {
      "cell_type": "markdown",
      "source": [
        "Load the data from ``jester-data-1.csv'"
      ],
      "metadata": {
        "id": "5GVCZMVVbvlI"
      }
    },
    {
      "cell_type": "code",
      "execution_count": 57,
      "metadata": {
        "id": "N3uGST6hDOA3"
      },
      "outputs": [],
      "source": [
        "import pandas as pd\n",
        "\n",
        "df = pd.read_csv('https://raw.githubusercontent.com/albanda/CE888/master/lab4-recommender/jester-data-1.csv',header=None)"
      ]
    },
    {
      "cell_type": "code",
      "execution_count": 58,
      "metadata": {
        "id": "NNmvNDcO7Rn5"
      },
      "outputs": [],
      "source": [
        "import numpy as np"
      ]
    },
    {
      "cell_type": "code",
      "execution_count": 59,
      "metadata": {
        "colab": {
          "base_uri": "https://localhost:8080/"
        },
        "id": "ydhZr6yGHZQV",
        "outputId": "96c58d1c-3ac4-4a76-f4c6-b5cea6bd6d8f"
      },
      "outputs": [
        {
          "output_type": "execute_result",
          "data": {
            "text/plain": [
              "(24983, 101)"
            ]
          },
          "metadata": {},
          "execution_count": 59
        }
      ],
      "source": [
        "df.shape"
      ]
    },
    {
      "cell_type": "code",
      "execution_count": 60,
      "metadata": {
        "colab": {
          "base_uri": "https://localhost:8080/",
          "height": 235
        },
        "id": "ZDQxwi0hSpNN",
        "outputId": "7b260db8-9856-4af4-f19a-766614fe8503"
      },
      "outputs": [
        {
          "output_type": "execute_result",
          "data": {
            "text/plain": [
              "   0      1      2      3      4     5     6     7     8      9    ...    91   \\\n",
              "0   74  -7.82   8.79  -9.66  -8.16 -7.52 -8.50 -9.85  4.17  -8.98  ...   2.82   \n",
              "1  100   4.08  -0.29   6.36   4.37 -2.38 -9.66 -0.73 -5.34   8.88  ...   2.82   \n",
              "2   49  99.00  99.00  99.00  99.00  9.03  9.27  9.03  9.27  99.00  ...  99.00   \n",
              "3   48  99.00   8.35  99.00  99.00  1.80  8.16 -2.82  6.21  99.00  ...  99.00   \n",
              "4   91   8.50   4.61  -4.17  -5.39  1.36  1.60  7.04  4.61  -0.44  ...   5.19   \n",
              "\n",
              "     92     93     94     95     96     97     98     99     100  \n",
              "0  99.00  99.00  99.00  99.00  99.00  -5.63  99.00  99.00  99.00  \n",
              "1  -4.95  -0.29   7.86  -0.19  -2.14   3.06   0.34  -4.32   1.07  \n",
              "2  99.00  99.00   9.08  99.00  99.00  99.00  99.00  99.00  99.00  \n",
              "3  99.00  99.00   0.53  99.00  99.00  99.00  99.00  99.00  99.00  \n",
              "4   5.58   4.27   5.19   5.73   1.55   3.11   6.55   1.80   1.60  \n",
              "\n",
              "[5 rows x 101 columns]"
            ],
            "text/html": [
              "\n",
              "  <div id=\"df-eb615027-72d4-45f6-980a-236883e4775d\">\n",
              "    <div class=\"colab-df-container\">\n",
              "      <div>\n",
              "<style scoped>\n",
              "    .dataframe tbody tr th:only-of-type {\n",
              "        vertical-align: middle;\n",
              "    }\n",
              "\n",
              "    .dataframe tbody tr th {\n",
              "        vertical-align: top;\n",
              "    }\n",
              "\n",
              "    .dataframe thead th {\n",
              "        text-align: right;\n",
              "    }\n",
              "</style>\n",
              "<table border=\"1\" class=\"dataframe\">\n",
              "  <thead>\n",
              "    <tr style=\"text-align: right;\">\n",
              "      <th></th>\n",
              "      <th>0</th>\n",
              "      <th>1</th>\n",
              "      <th>2</th>\n",
              "      <th>3</th>\n",
              "      <th>4</th>\n",
              "      <th>5</th>\n",
              "      <th>6</th>\n",
              "      <th>7</th>\n",
              "      <th>8</th>\n",
              "      <th>9</th>\n",
              "      <th>...</th>\n",
              "      <th>91</th>\n",
              "      <th>92</th>\n",
              "      <th>93</th>\n",
              "      <th>94</th>\n",
              "      <th>95</th>\n",
              "      <th>96</th>\n",
              "      <th>97</th>\n",
              "      <th>98</th>\n",
              "      <th>99</th>\n",
              "      <th>100</th>\n",
              "    </tr>\n",
              "  </thead>\n",
              "  <tbody>\n",
              "    <tr>\n",
              "      <th>0</th>\n",
              "      <td>74</td>\n",
              "      <td>-7.82</td>\n",
              "      <td>8.79</td>\n",
              "      <td>-9.66</td>\n",
              "      <td>-8.16</td>\n",
              "      <td>-7.52</td>\n",
              "      <td>-8.50</td>\n",
              "      <td>-9.85</td>\n",
              "      <td>4.17</td>\n",
              "      <td>-8.98</td>\n",
              "      <td>...</td>\n",
              "      <td>2.82</td>\n",
              "      <td>99.00</td>\n",
              "      <td>99.00</td>\n",
              "      <td>99.00</td>\n",
              "      <td>99.00</td>\n",
              "      <td>99.00</td>\n",
              "      <td>-5.63</td>\n",
              "      <td>99.00</td>\n",
              "      <td>99.00</td>\n",
              "      <td>99.00</td>\n",
              "    </tr>\n",
              "    <tr>\n",
              "      <th>1</th>\n",
              "      <td>100</td>\n",
              "      <td>4.08</td>\n",
              "      <td>-0.29</td>\n",
              "      <td>6.36</td>\n",
              "      <td>4.37</td>\n",
              "      <td>-2.38</td>\n",
              "      <td>-9.66</td>\n",
              "      <td>-0.73</td>\n",
              "      <td>-5.34</td>\n",
              "      <td>8.88</td>\n",
              "      <td>...</td>\n",
              "      <td>2.82</td>\n",
              "      <td>-4.95</td>\n",
              "      <td>-0.29</td>\n",
              "      <td>7.86</td>\n",
              "      <td>-0.19</td>\n",
              "      <td>-2.14</td>\n",
              "      <td>3.06</td>\n",
              "      <td>0.34</td>\n",
              "      <td>-4.32</td>\n",
              "      <td>1.07</td>\n",
              "    </tr>\n",
              "    <tr>\n",
              "      <th>2</th>\n",
              "      <td>49</td>\n",
              "      <td>99.00</td>\n",
              "      <td>99.00</td>\n",
              "      <td>99.00</td>\n",
              "      <td>99.00</td>\n",
              "      <td>9.03</td>\n",
              "      <td>9.27</td>\n",
              "      <td>9.03</td>\n",
              "      <td>9.27</td>\n",
              "      <td>99.00</td>\n",
              "      <td>...</td>\n",
              "      <td>99.00</td>\n",
              "      <td>99.00</td>\n",
              "      <td>99.00</td>\n",
              "      <td>9.08</td>\n",
              "      <td>99.00</td>\n",
              "      <td>99.00</td>\n",
              "      <td>99.00</td>\n",
              "      <td>99.00</td>\n",
              "      <td>99.00</td>\n",
              "      <td>99.00</td>\n",
              "    </tr>\n",
              "    <tr>\n",
              "      <th>3</th>\n",
              "      <td>48</td>\n",
              "      <td>99.00</td>\n",
              "      <td>8.35</td>\n",
              "      <td>99.00</td>\n",
              "      <td>99.00</td>\n",
              "      <td>1.80</td>\n",
              "      <td>8.16</td>\n",
              "      <td>-2.82</td>\n",
              "      <td>6.21</td>\n",
              "      <td>99.00</td>\n",
              "      <td>...</td>\n",
              "      <td>99.00</td>\n",
              "      <td>99.00</td>\n",
              "      <td>99.00</td>\n",
              "      <td>0.53</td>\n",
              "      <td>99.00</td>\n",
              "      <td>99.00</td>\n",
              "      <td>99.00</td>\n",
              "      <td>99.00</td>\n",
              "      <td>99.00</td>\n",
              "      <td>99.00</td>\n",
              "    </tr>\n",
              "    <tr>\n",
              "      <th>4</th>\n",
              "      <td>91</td>\n",
              "      <td>8.50</td>\n",
              "      <td>4.61</td>\n",
              "      <td>-4.17</td>\n",
              "      <td>-5.39</td>\n",
              "      <td>1.36</td>\n",
              "      <td>1.60</td>\n",
              "      <td>7.04</td>\n",
              "      <td>4.61</td>\n",
              "      <td>-0.44</td>\n",
              "      <td>...</td>\n",
              "      <td>5.19</td>\n",
              "      <td>5.58</td>\n",
              "      <td>4.27</td>\n",
              "      <td>5.19</td>\n",
              "      <td>5.73</td>\n",
              "      <td>1.55</td>\n",
              "      <td>3.11</td>\n",
              "      <td>6.55</td>\n",
              "      <td>1.80</td>\n",
              "      <td>1.60</td>\n",
              "    </tr>\n",
              "  </tbody>\n",
              "</table>\n",
              "<p>5 rows × 101 columns</p>\n",
              "</div>\n",
              "      <button class=\"colab-df-convert\" onclick=\"convertToInteractive('df-eb615027-72d4-45f6-980a-236883e4775d')\"\n",
              "              title=\"Convert this dataframe to an interactive table.\"\n",
              "              style=\"display:none;\">\n",
              "        \n",
              "  <svg xmlns=\"http://www.w3.org/2000/svg\" height=\"24px\"viewBox=\"0 0 24 24\"\n",
              "       width=\"24px\">\n",
              "    <path d=\"M0 0h24v24H0V0z\" fill=\"none\"/>\n",
              "    <path d=\"M18.56 5.44l.94 2.06.94-2.06 2.06-.94-2.06-.94-.94-2.06-.94 2.06-2.06.94zm-11 1L8.5 8.5l.94-2.06 2.06-.94-2.06-.94L8.5 2.5l-.94 2.06-2.06.94zm10 10l.94 2.06.94-2.06 2.06-.94-2.06-.94-.94-2.06-.94 2.06-2.06.94z\"/><path d=\"M17.41 7.96l-1.37-1.37c-.4-.4-.92-.59-1.43-.59-.52 0-1.04.2-1.43.59L10.3 9.45l-7.72 7.72c-.78.78-.78 2.05 0 2.83L4 21.41c.39.39.9.59 1.41.59.51 0 1.02-.2 1.41-.59l7.78-7.78 2.81-2.81c.8-.78.8-2.07 0-2.86zM5.41 20L4 18.59l7.72-7.72 1.47 1.35L5.41 20z\"/>\n",
              "  </svg>\n",
              "      </button>\n",
              "      \n",
              "  <style>\n",
              "    .colab-df-container {\n",
              "      display:flex;\n",
              "      flex-wrap:wrap;\n",
              "      gap: 12px;\n",
              "    }\n",
              "\n",
              "    .colab-df-convert {\n",
              "      background-color: #E8F0FE;\n",
              "      border: none;\n",
              "      border-radius: 50%;\n",
              "      cursor: pointer;\n",
              "      display: none;\n",
              "      fill: #1967D2;\n",
              "      height: 32px;\n",
              "      padding: 0 0 0 0;\n",
              "      width: 32px;\n",
              "    }\n",
              "\n",
              "    .colab-df-convert:hover {\n",
              "      background-color: #E2EBFA;\n",
              "      box-shadow: 0px 1px 2px rgba(60, 64, 67, 0.3), 0px 1px 3px 1px rgba(60, 64, 67, 0.15);\n",
              "      fill: #174EA6;\n",
              "    }\n",
              "\n",
              "    [theme=dark] .colab-df-convert {\n",
              "      background-color: #3B4455;\n",
              "      fill: #D2E3FC;\n",
              "    }\n",
              "\n",
              "    [theme=dark] .colab-df-convert:hover {\n",
              "      background-color: #434B5C;\n",
              "      box-shadow: 0px 1px 3px 1px rgba(0, 0, 0, 0.15);\n",
              "      filter: drop-shadow(0px 1px 2px rgba(0, 0, 0, 0.3));\n",
              "      fill: #FFFFFF;\n",
              "    }\n",
              "  </style>\n",
              "\n",
              "      <script>\n",
              "        const buttonEl =\n",
              "          document.querySelector('#df-eb615027-72d4-45f6-980a-236883e4775d button.colab-df-convert');\n",
              "        buttonEl.style.display =\n",
              "          google.colab.kernel.accessAllowed ? 'block' : 'none';\n",
              "\n",
              "        async function convertToInteractive(key) {\n",
              "          const element = document.querySelector('#df-eb615027-72d4-45f6-980a-236883e4775d');\n",
              "          const dataTable =\n",
              "            await google.colab.kernel.invokeFunction('convertToInteractive',\n",
              "                                                     [key], {});\n",
              "          if (!dataTable) return;\n",
              "\n",
              "          const docLinkHtml = 'Like what you see? Visit the ' +\n",
              "            '<a target=\"_blank\" href=https://colab.research.google.com/notebooks/data_table.ipynb>data table notebook</a>'\n",
              "            + ' to learn more about interactive tables.';\n",
              "          element.innerHTML = '';\n",
              "          dataTable['output_type'] = 'display_data';\n",
              "          await google.colab.output.renderOutput(dataTable, element);\n",
              "          const docLink = document.createElement('div');\n",
              "          docLink.innerHTML = docLinkHtml;\n",
              "          element.appendChild(docLink);\n",
              "        }\n",
              "      </script>\n",
              "    </div>\n",
              "  </div>\n",
              "  "
            ]
          },
          "metadata": {},
          "execution_count": 60
        }
      ],
      "source": [
        "df.head()"
      ]
    },
    {
      "cell_type": "markdown",
      "source": [
        "Check the dataset description to figure out which value you should replace with NaNs (the cells for which we don't have a rating). This is the test set.\n",
        "\n",
        "The ratings as '99' are to be replaced with NAN"
      ],
      "metadata": {
        "id": "q-QDjMtOb7Us"
      }
    },
    {
      "cell_type": "markdown",
      "source": [
        "Replace '99' in pandas dataframe with nan"
      ],
      "metadata": {
        "id": "vp-xcA_ncRFy"
      }
    },
    {
      "cell_type": "code",
      "source": [
        "df.replace(99,np.nan,inplace=True)"
      ],
      "metadata": {
        "id": "a0CuV78UcZZD"
      },
      "execution_count": 61,
      "outputs": []
    },
    {
      "cell_type": "code",
      "source": [
        "df.head()"
      ],
      "metadata": {
        "colab": {
          "base_uri": "https://localhost:8080/",
          "height": 235
        },
        "id": "t1IsV_FnciFM",
        "outputId": "6e254356-f60d-4cd0-8fe2-7dcd6b33db93"
      },
      "execution_count": 62,
      "outputs": [
        {
          "output_type": "execute_result",
          "data": {
            "text/plain": [
              "     0     1     2     3     4     5     6     7     8     9    ...   91   \\\n",
              "0   74.0 -7.82  8.79 -9.66 -8.16 -7.52 -8.50 -9.85  4.17 -8.98  ...  2.82   \n",
              "1  100.0  4.08 -0.29  6.36  4.37 -2.38 -9.66 -0.73 -5.34  8.88  ...  2.82   \n",
              "2   49.0   NaN   NaN   NaN   NaN  9.03  9.27  9.03  9.27   NaN  ...   NaN   \n",
              "3   48.0   NaN  8.35   NaN   NaN  1.80  8.16 -2.82  6.21   NaN  ...   NaN   \n",
              "4   91.0  8.50  4.61 -4.17 -5.39  1.36  1.60  7.04  4.61 -0.44  ...  5.19   \n",
              "\n",
              "    92    93    94    95    96    97    98    99    100  \n",
              "0   NaN   NaN   NaN   NaN   NaN -5.63   NaN   NaN   NaN  \n",
              "1 -4.95 -0.29  7.86 -0.19 -2.14  3.06  0.34 -4.32  1.07  \n",
              "2   NaN   NaN  9.08   NaN   NaN   NaN   NaN   NaN   NaN  \n",
              "3   NaN   NaN  0.53   NaN   NaN   NaN   NaN   NaN   NaN  \n",
              "4  5.58  4.27  5.19  5.73  1.55  3.11  6.55  1.80  1.60  \n",
              "\n",
              "[5 rows x 101 columns]"
            ],
            "text/html": [
              "\n",
              "  <div id=\"df-c66d802e-9072-4398-9fd8-899f4fb17917\">\n",
              "    <div class=\"colab-df-container\">\n",
              "      <div>\n",
              "<style scoped>\n",
              "    .dataframe tbody tr th:only-of-type {\n",
              "        vertical-align: middle;\n",
              "    }\n",
              "\n",
              "    .dataframe tbody tr th {\n",
              "        vertical-align: top;\n",
              "    }\n",
              "\n",
              "    .dataframe thead th {\n",
              "        text-align: right;\n",
              "    }\n",
              "</style>\n",
              "<table border=\"1\" class=\"dataframe\">\n",
              "  <thead>\n",
              "    <tr style=\"text-align: right;\">\n",
              "      <th></th>\n",
              "      <th>0</th>\n",
              "      <th>1</th>\n",
              "      <th>2</th>\n",
              "      <th>3</th>\n",
              "      <th>4</th>\n",
              "      <th>5</th>\n",
              "      <th>6</th>\n",
              "      <th>7</th>\n",
              "      <th>8</th>\n",
              "      <th>9</th>\n",
              "      <th>...</th>\n",
              "      <th>91</th>\n",
              "      <th>92</th>\n",
              "      <th>93</th>\n",
              "      <th>94</th>\n",
              "      <th>95</th>\n",
              "      <th>96</th>\n",
              "      <th>97</th>\n",
              "      <th>98</th>\n",
              "      <th>99</th>\n",
              "      <th>100</th>\n",
              "    </tr>\n",
              "  </thead>\n",
              "  <tbody>\n",
              "    <tr>\n",
              "      <th>0</th>\n",
              "      <td>74.0</td>\n",
              "      <td>-7.82</td>\n",
              "      <td>8.79</td>\n",
              "      <td>-9.66</td>\n",
              "      <td>-8.16</td>\n",
              "      <td>-7.52</td>\n",
              "      <td>-8.50</td>\n",
              "      <td>-9.85</td>\n",
              "      <td>4.17</td>\n",
              "      <td>-8.98</td>\n",
              "      <td>...</td>\n",
              "      <td>2.82</td>\n",
              "      <td>NaN</td>\n",
              "      <td>NaN</td>\n",
              "      <td>NaN</td>\n",
              "      <td>NaN</td>\n",
              "      <td>NaN</td>\n",
              "      <td>-5.63</td>\n",
              "      <td>NaN</td>\n",
              "      <td>NaN</td>\n",
              "      <td>NaN</td>\n",
              "    </tr>\n",
              "    <tr>\n",
              "      <th>1</th>\n",
              "      <td>100.0</td>\n",
              "      <td>4.08</td>\n",
              "      <td>-0.29</td>\n",
              "      <td>6.36</td>\n",
              "      <td>4.37</td>\n",
              "      <td>-2.38</td>\n",
              "      <td>-9.66</td>\n",
              "      <td>-0.73</td>\n",
              "      <td>-5.34</td>\n",
              "      <td>8.88</td>\n",
              "      <td>...</td>\n",
              "      <td>2.82</td>\n",
              "      <td>-4.95</td>\n",
              "      <td>-0.29</td>\n",
              "      <td>7.86</td>\n",
              "      <td>-0.19</td>\n",
              "      <td>-2.14</td>\n",
              "      <td>3.06</td>\n",
              "      <td>0.34</td>\n",
              "      <td>-4.32</td>\n",
              "      <td>1.07</td>\n",
              "    </tr>\n",
              "    <tr>\n",
              "      <th>2</th>\n",
              "      <td>49.0</td>\n",
              "      <td>NaN</td>\n",
              "      <td>NaN</td>\n",
              "      <td>NaN</td>\n",
              "      <td>NaN</td>\n",
              "      <td>9.03</td>\n",
              "      <td>9.27</td>\n",
              "      <td>9.03</td>\n",
              "      <td>9.27</td>\n",
              "      <td>NaN</td>\n",
              "      <td>...</td>\n",
              "      <td>NaN</td>\n",
              "      <td>NaN</td>\n",
              "      <td>NaN</td>\n",
              "      <td>9.08</td>\n",
              "      <td>NaN</td>\n",
              "      <td>NaN</td>\n",
              "      <td>NaN</td>\n",
              "      <td>NaN</td>\n",
              "      <td>NaN</td>\n",
              "      <td>NaN</td>\n",
              "    </tr>\n",
              "    <tr>\n",
              "      <th>3</th>\n",
              "      <td>48.0</td>\n",
              "      <td>NaN</td>\n",
              "      <td>8.35</td>\n",
              "      <td>NaN</td>\n",
              "      <td>NaN</td>\n",
              "      <td>1.80</td>\n",
              "      <td>8.16</td>\n",
              "      <td>-2.82</td>\n",
              "      <td>6.21</td>\n",
              "      <td>NaN</td>\n",
              "      <td>...</td>\n",
              "      <td>NaN</td>\n",
              "      <td>NaN</td>\n",
              "      <td>NaN</td>\n",
              "      <td>0.53</td>\n",
              "      <td>NaN</td>\n",
              "      <td>NaN</td>\n",
              "      <td>NaN</td>\n",
              "      <td>NaN</td>\n",
              "      <td>NaN</td>\n",
              "      <td>NaN</td>\n",
              "    </tr>\n",
              "    <tr>\n",
              "      <th>4</th>\n",
              "      <td>91.0</td>\n",
              "      <td>8.50</td>\n",
              "      <td>4.61</td>\n",
              "      <td>-4.17</td>\n",
              "      <td>-5.39</td>\n",
              "      <td>1.36</td>\n",
              "      <td>1.60</td>\n",
              "      <td>7.04</td>\n",
              "      <td>4.61</td>\n",
              "      <td>-0.44</td>\n",
              "      <td>...</td>\n",
              "      <td>5.19</td>\n",
              "      <td>5.58</td>\n",
              "      <td>4.27</td>\n",
              "      <td>5.19</td>\n",
              "      <td>5.73</td>\n",
              "      <td>1.55</td>\n",
              "      <td>3.11</td>\n",
              "      <td>6.55</td>\n",
              "      <td>1.80</td>\n",
              "      <td>1.60</td>\n",
              "    </tr>\n",
              "  </tbody>\n",
              "</table>\n",
              "<p>5 rows × 101 columns</p>\n",
              "</div>\n",
              "      <button class=\"colab-df-convert\" onclick=\"convertToInteractive('df-c66d802e-9072-4398-9fd8-899f4fb17917')\"\n",
              "              title=\"Convert this dataframe to an interactive table.\"\n",
              "              style=\"display:none;\">\n",
              "        \n",
              "  <svg xmlns=\"http://www.w3.org/2000/svg\" height=\"24px\"viewBox=\"0 0 24 24\"\n",
              "       width=\"24px\">\n",
              "    <path d=\"M0 0h24v24H0V0z\" fill=\"none\"/>\n",
              "    <path d=\"M18.56 5.44l.94 2.06.94-2.06 2.06-.94-2.06-.94-.94-2.06-.94 2.06-2.06.94zm-11 1L8.5 8.5l.94-2.06 2.06-.94-2.06-.94L8.5 2.5l-.94 2.06-2.06.94zm10 10l.94 2.06.94-2.06 2.06-.94-2.06-.94-.94-2.06-.94 2.06-2.06.94z\"/><path d=\"M17.41 7.96l-1.37-1.37c-.4-.4-.92-.59-1.43-.59-.52 0-1.04.2-1.43.59L10.3 9.45l-7.72 7.72c-.78.78-.78 2.05 0 2.83L4 21.41c.39.39.9.59 1.41.59.51 0 1.02-.2 1.41-.59l7.78-7.78 2.81-2.81c.8-.78.8-2.07 0-2.86zM5.41 20L4 18.59l7.72-7.72 1.47 1.35L5.41 20z\"/>\n",
              "  </svg>\n",
              "      </button>\n",
              "      \n",
              "  <style>\n",
              "    .colab-df-container {\n",
              "      display:flex;\n",
              "      flex-wrap:wrap;\n",
              "      gap: 12px;\n",
              "    }\n",
              "\n",
              "    .colab-df-convert {\n",
              "      background-color: #E8F0FE;\n",
              "      border: none;\n",
              "      border-radius: 50%;\n",
              "      cursor: pointer;\n",
              "      display: none;\n",
              "      fill: #1967D2;\n",
              "      height: 32px;\n",
              "      padding: 0 0 0 0;\n",
              "      width: 32px;\n",
              "    }\n",
              "\n",
              "    .colab-df-convert:hover {\n",
              "      background-color: #E2EBFA;\n",
              "      box-shadow: 0px 1px 2px rgba(60, 64, 67, 0.3), 0px 1px 3px 1px rgba(60, 64, 67, 0.15);\n",
              "      fill: #174EA6;\n",
              "    }\n",
              "\n",
              "    [theme=dark] .colab-df-convert {\n",
              "      background-color: #3B4455;\n",
              "      fill: #D2E3FC;\n",
              "    }\n",
              "\n",
              "    [theme=dark] .colab-df-convert:hover {\n",
              "      background-color: #434B5C;\n",
              "      box-shadow: 0px 1px 3px 1px rgba(0, 0, 0, 0.15);\n",
              "      filter: drop-shadow(0px 1px 2px rgba(0, 0, 0, 0.3));\n",
              "      fill: #FFFFFF;\n",
              "    }\n",
              "  </style>\n",
              "\n",
              "      <script>\n",
              "        const buttonEl =\n",
              "          document.querySelector('#df-c66d802e-9072-4398-9fd8-899f4fb17917 button.colab-df-convert');\n",
              "        buttonEl.style.display =\n",
              "          google.colab.kernel.accessAllowed ? 'block' : 'none';\n",
              "\n",
              "        async function convertToInteractive(key) {\n",
              "          const element = document.querySelector('#df-c66d802e-9072-4398-9fd8-899f4fb17917');\n",
              "          const dataTable =\n",
              "            await google.colab.kernel.invokeFunction('convertToInteractive',\n",
              "                                                     [key], {});\n",
              "          if (!dataTable) return;\n",
              "\n",
              "          const docLinkHtml = 'Like what you see? Visit the ' +\n",
              "            '<a target=\"_blank\" href=https://colab.research.google.com/notebooks/data_table.ipynb>data table notebook</a>'\n",
              "            + ' to learn more about interactive tables.';\n",
              "          element.innerHTML = '';\n",
              "          dataTable['output_type'] = 'display_data';\n",
              "          await google.colab.output.renderOutput(dataTable, element);\n",
              "          const docLink = document.createElement('div');\n",
              "          docLink.innerHTML = docLinkHtml;\n",
              "          element.appendChild(docLink);\n",
              "        }\n",
              "      </script>\n",
              "    </div>\n",
              "  </div>\n",
              "  "
            ]
          },
          "metadata": {},
          "execution_count": 62
        }
      ]
    },
    {
      "cell_type": "markdown",
      "source": [
        "There's a column you need to remove because it doesn't contain ratings. Check the description of the dataset and figure out which one. Then drop it.\n",
        "\n",
        "First column can be removed"
      ],
      "metadata": {
        "id": "6P2YpLM5c3NW"
      }
    },
    {
      "cell_type": "code",
      "execution_count": 63,
      "metadata": {
        "id": "x9m5Q-y7SsPq"
      },
      "outputs": [],
      "source": [
        "df = df.iloc[:,1:]"
      ]
    },
    {
      "cell_type": "code",
      "execution_count": 64,
      "metadata": {
        "colab": {
          "base_uri": "https://localhost:8080/"
        },
        "id": "iDhPkT2QCVN7",
        "outputId": "73318981-558d-4c95-b0da-2b2befde923d"
      },
      "outputs": [
        {
          "output_type": "stream",
          "name": "stdout",
          "text": [
            "(24983, 100)\n"
          ]
        }
      ],
      "source": [
        "arr = df.values\n",
        "print(arr.shape)"
      ]
    },
    {
      "cell_type": "markdown",
      "source": [
        "Use pandas to find the best- and the worst-rated jokes"
      ],
      "metadata": {
        "id": "2_scJftkdA25"
      }
    },
    {
      "cell_type": "code",
      "source": [
        "print(\"Worst Rated Joke \", np.argmin(df.mean(axis=0,skipna=True))+1, \"with rating\",np.min(df.mean(axis=0,skipna=True)))\n",
        "print(\"Best Rated Joke \", np.argmax(df.mean(axis=0,skipna=True))+1, \"with rating\",np.max(df.mean(axis=0,skipna=True)))"
      ],
      "metadata": {
        "colab": {
          "base_uri": "https://localhost:8080/"
        },
        "id": "ypuYXX4gdAEQ",
        "outputId": "4b0a3650-587a-4876-e656-ad64bdb457e3"
      },
      "execution_count": 65,
      "outputs": [
        {
          "output_type": "stream",
          "name": "stdout",
          "text": [
            "Worst Rated Joke  58 with rating -3.8338796373689923\n",
            "Best Rated Joke  50 with rating 3.6650848950824937\n"
          ]
        }
      ]
    },
    {
      "cell_type": "markdown",
      "source": [
        "Modify and use the helper function provided in the helper_function notebook (or create your own) to label 10% of the dataset cells that are not NaNs as 99. This is your validation set. Keep the the actual values of the cells so you can use them later (as done in the example of the helper_function notebook)"
      ],
      "metadata": {
        "id": "m9kL0guYr9Af"
      }
    },
    {
      "cell_type": "markdown",
      "metadata": {
        "id": "hD2t1fYxILio"
      },
      "source": [
        "## Labeling 10% of the dataset cells as NaNs (represented as 99 in our case) to create a validation set."
      ]
    },
    {
      "cell_type": "code",
      "execution_count": 66,
      "metadata": {
        "id": "jyxQEGzeCZTQ"
      },
      "outputs": [],
      "source": [
        "def replace(orig, percentage=0.1):\n",
        "  \"\"\"\n",
        "  Replaces 'percentage'% of the original values in 'orig' with 99's\n",
        "  :param orig: original data array\n",
        "  :param percentage: percentage of values to replace (0<percentage<1)\n",
        "  \"\"\"\n",
        "  new_data = orig.copy()\n",
        "  rated = np.where(orig!=99)\n",
        "  n_rated = len(rated[0])\n",
        "  idx = np.random.choice(n_rated, size=int(percentage*n_rated), replace=False)\n",
        "  new_data[rated[0][idx], rated[1][idx]] = 99\n",
        "  return new_data, (rated[0][idx], rated[1][idx])"
      ]
    },
    {
      "cell_type": "code",
      "execution_count": 67,
      "metadata": {
        "id": "Yj_5FWVNDxJX"
      },
      "outputs": [],
      "source": [
        "new_arr, idx = replace(arr, 0.1)"
      ]
    },
    {
      "cell_type": "code",
      "execution_count": 68,
      "metadata": {
        "colab": {
          "base_uri": "https://localhost:8080/"
        },
        "id": "H0PGSrIODxL8",
        "outputId": "7868b719-98c5-4a30-d0f6-8bf528472c21"
      },
      "outputs": [
        {
          "output_type": "execute_result",
          "data": {
            "text/plain": [
              "-8.79"
            ]
          },
          "metadata": {},
          "execution_count": 68
        }
      ],
      "source": [
        "arr[idx[0][0], idx[1][0]]"
      ]
    },
    {
      "cell_type": "code",
      "execution_count": 69,
      "metadata": {
        "colab": {
          "base_uri": "https://localhost:8080/"
        },
        "id": "gjC10tBYDxOt",
        "outputId": "eb528714-fc7d-4c94-8631-48ec00ae8a83"
      },
      "outputs": [
        {
          "output_type": "execute_result",
          "data": {
            "text/plain": [
              "99.0"
            ]
          },
          "metadata": {},
          "execution_count": 69
        }
      ],
      "source": [
        "new_arr[idx[0][0], idx[1][0]]"
      ]
    },
    {
      "cell_type": "code",
      "execution_count": 70,
      "metadata": {
        "colab": {
          "base_uri": "https://localhost:8080/"
        },
        "id": "Be9mppniE4qb",
        "outputId": "3638f08d-485a-45dd-f03b-fd45f075aab7"
      },
      "outputs": [
        {
          "output_type": "execute_result",
          "data": {
            "text/plain": [
              "array([[-7.82,  8.79, -9.66, ...,   nan,   nan,   nan],\n",
              "       [ 4.08, -0.29,  6.36, ...,  0.34, -4.32,  1.07],\n",
              "       [  nan, 99.  ,   nan, ...,   nan,   nan,   nan],\n",
              "       ...,\n",
              "       [  nan, 99.  ,   nan, ...,   nan,   nan,   nan],\n",
              "       [  nan,   nan,   nan, ...,   nan,   nan,   nan],\n",
              "       [ 2.43, 99.  , -3.98, ...,   nan,   nan,   nan]])"
            ]
          },
          "metadata": {},
          "execution_count": 70
        }
      ],
      "source": [
        "new_arr"
      ]
    },
    {
      "cell_type": "markdown",
      "metadata": {
        "id": "MuJRw9xPIRKW"
      },
      "source": [
        "## latent factors modeling."
      ]
    },
    {
      "cell_type": "code",
      "execution_count": 71,
      "metadata": {
        "id": "Hta91u7JDxRi"
      },
      "outputs": [],
      "source": [
        "n_latent_factors = 2\n",
        "\n",
        "user_ratings = new_arr\n",
        "# Initialise as random values\n",
        "latent_user_preferences = np.random.random((user_ratings.shape[0], n_latent_factors))\n",
        "latent_item_features = np.random.random((user_ratings.shape[1], n_latent_factors))"
      ]
    },
    {
      "cell_type": "code",
      "execution_count": 76,
      "metadata": {
        "id": "t_2BaBgpIEUG"
      },
      "outputs": [],
      "source": [
        "def predict_rating(user_id, item_id):\n",
        "    \"\"\" Predict a rating given a user_id and an item_id.\n",
        "    \"\"\"\n",
        "    user_preference = latent_user_preferences[user_id]\n",
        "    item_preference = latent_item_features[item_id]\n",
        "    return user_preference.dot(item_preference)\n",
        "\n",
        "\n",
        "def train(user_id, item_id, rating, alpha=0.0001):\n",
        "    \n",
        "    #print item_id\n",
        "    prediction_rating = predict_rating(user_id, item_id)\n",
        "    err =  prediction_rating - rating\n",
        "    #print err\n",
        "    user_pref_values = latent_user_preferences[user_id][:]\n",
        "    latent_user_preferences[user_id] -= alpha * err * latent_item_features[item_id]\n",
        "    latent_item_features[item_id] -= alpha * err * user_pref_values\n",
        "    return err\n",
        "    \n",
        "\n",
        "def sgd(iterations=50):\n",
        "    \"\"\" Iterate over all users and all items and train for \n",
        "        a certain number of iterations\n",
        "    \"\"\"\n",
        "    for iteration in range(iterations):\n",
        "        error = []\n",
        "        for user_id in range(latent_user_preferences.shape[0]):\n",
        "            for item_id in range(latent_item_features.shape[0]):\n",
        "                rating = user_ratings[user_id][item_id]\n",
        "                if not np.isnan(rating) and rating!=99:\n",
        "                    err = train(user_id, item_id, rating)\n",
        "                    error.append(err)\n",
        "        mse = (np.array(error) ** 2).mean()   \n",
        "        if (iteration % 10) == 0:\n",
        "            print(mse)"
      ]
    },
    {
      "cell_type": "code",
      "execution_count": 77,
      "metadata": {
        "colab": {
          "base_uri": "https://localhost:8080/",
          "height": 327
        },
        "id": "i5HmH1LBIEXp",
        "outputId": "0d2148a6-ad3a-42a3-b47b-3b785870ebce"
      },
      "outputs": [
        {
          "output_type": "stream",
          "name": "stdout",
          "text": [
            "23.29225113253559\n"
          ]
        },
        {
          "output_type": "error",
          "ename": "KeyboardInterrupt",
          "evalue": "ignored",
          "traceback": [
            "\u001b[0;31m---------------------------------------------------------------------------\u001b[0m",
            "\u001b[0;31mKeyboardInterrupt\u001b[0m                         Traceback (most recent call last)",
            "\u001b[0;32m<ipython-input-77-d8fc72480d62>\u001b[0m in \u001b[0;36m<module>\u001b[0;34m()\u001b[0m\n\u001b[0;32m----> 1\u001b[0;31m \u001b[0msgd\u001b[0m\u001b[0;34m(\u001b[0m\u001b[0miterations\u001b[0m\u001b[0;34m=\u001b[0m\u001b[0;36m10\u001b[0m\u001b[0;34m)\u001b[0m\u001b[0;34m\u001b[0m\u001b[0;34m\u001b[0m\u001b[0m\n\u001b[0m",
            "\u001b[0;32m<ipython-input-76-a5ffeafb8d5a>\u001b[0m in \u001b[0;36msgd\u001b[0;34m(iterations)\u001b[0m\n\u001b[1;32m     29\u001b[0m                 \u001b[0mrating\u001b[0m \u001b[0;34m=\u001b[0m \u001b[0muser_ratings\u001b[0m\u001b[0;34m[\u001b[0m\u001b[0muser_id\u001b[0m\u001b[0;34m]\u001b[0m\u001b[0;34m[\u001b[0m\u001b[0mitem_id\u001b[0m\u001b[0;34m]\u001b[0m\u001b[0;34m\u001b[0m\u001b[0;34m\u001b[0m\u001b[0m\n\u001b[1;32m     30\u001b[0m                 \u001b[0;32mif\u001b[0m \u001b[0;32mnot\u001b[0m \u001b[0mnp\u001b[0m\u001b[0;34m.\u001b[0m\u001b[0misnan\u001b[0m\u001b[0;34m(\u001b[0m\u001b[0mrating\u001b[0m\u001b[0;34m)\u001b[0m \u001b[0;32mand\u001b[0m \u001b[0mrating\u001b[0m\u001b[0;34m!=\u001b[0m\u001b[0;36m99\u001b[0m\u001b[0;34m:\u001b[0m\u001b[0;34m\u001b[0m\u001b[0;34m\u001b[0m\u001b[0m\n\u001b[0;32m---> 31\u001b[0;31m                     \u001b[0merr\u001b[0m \u001b[0;34m=\u001b[0m \u001b[0mtrain\u001b[0m\u001b[0;34m(\u001b[0m\u001b[0muser_id\u001b[0m\u001b[0;34m,\u001b[0m \u001b[0mitem_id\u001b[0m\u001b[0;34m,\u001b[0m \u001b[0mrating\u001b[0m\u001b[0;34m)\u001b[0m\u001b[0;34m\u001b[0m\u001b[0;34m\u001b[0m\u001b[0m\n\u001b[0m\u001b[1;32m     32\u001b[0m                     \u001b[0merror\u001b[0m\u001b[0;34m.\u001b[0m\u001b[0mappend\u001b[0m\u001b[0;34m(\u001b[0m\u001b[0merr\u001b[0m\u001b[0;34m)\u001b[0m\u001b[0;34m\u001b[0m\u001b[0;34m\u001b[0m\u001b[0m\n\u001b[1;32m     33\u001b[0m         \u001b[0mmse\u001b[0m \u001b[0;34m=\u001b[0m \u001b[0;34m(\u001b[0m\u001b[0mnp\u001b[0m\u001b[0;34m.\u001b[0m\u001b[0marray\u001b[0m\u001b[0;34m(\u001b[0m\u001b[0merror\u001b[0m\u001b[0;34m)\u001b[0m \u001b[0;34m**\u001b[0m \u001b[0;36m2\u001b[0m\u001b[0;34m)\u001b[0m\u001b[0;34m.\u001b[0m\u001b[0mmean\u001b[0m\u001b[0;34m(\u001b[0m\u001b[0;34m)\u001b[0m\u001b[0;34m\u001b[0m\u001b[0;34m\u001b[0m\u001b[0m\n",
            "\u001b[0;32m<ipython-input-76-a5ffeafb8d5a>\u001b[0m in \u001b[0;36mtrain\u001b[0;34m(user_id, item_id, rating, alpha)\u001b[0m\n\u001b[1;32m     14\u001b[0m     \u001b[0;31m#print err\u001b[0m\u001b[0;34m\u001b[0m\u001b[0;34m\u001b[0m\u001b[0;34m\u001b[0m\u001b[0m\n\u001b[1;32m     15\u001b[0m     \u001b[0muser_pref_values\u001b[0m \u001b[0;34m=\u001b[0m \u001b[0mlatent_user_preferences\u001b[0m\u001b[0;34m[\u001b[0m\u001b[0muser_id\u001b[0m\u001b[0;34m]\u001b[0m\u001b[0;34m[\u001b[0m\u001b[0;34m:\u001b[0m\u001b[0;34m]\u001b[0m\u001b[0;34m\u001b[0m\u001b[0;34m\u001b[0m\u001b[0m\n\u001b[0;32m---> 16\u001b[0;31m     \u001b[0mlatent_user_preferences\u001b[0m\u001b[0;34m[\u001b[0m\u001b[0muser_id\u001b[0m\u001b[0;34m]\u001b[0m \u001b[0;34m-=\u001b[0m \u001b[0malpha\u001b[0m \u001b[0;34m*\u001b[0m \u001b[0merr\u001b[0m \u001b[0;34m*\u001b[0m \u001b[0mlatent_item_features\u001b[0m\u001b[0;34m[\u001b[0m\u001b[0mitem_id\u001b[0m\u001b[0;34m]\u001b[0m\u001b[0;34m\u001b[0m\u001b[0;34m\u001b[0m\u001b[0m\n\u001b[0m\u001b[1;32m     17\u001b[0m     \u001b[0mlatent_item_features\u001b[0m\u001b[0;34m[\u001b[0m\u001b[0mitem_id\u001b[0m\u001b[0;34m]\u001b[0m \u001b[0;34m-=\u001b[0m \u001b[0malpha\u001b[0m \u001b[0;34m*\u001b[0m \u001b[0merr\u001b[0m \u001b[0;34m*\u001b[0m \u001b[0muser_pref_values\u001b[0m\u001b[0;34m\u001b[0m\u001b[0;34m\u001b[0m\u001b[0m\n\u001b[1;32m     18\u001b[0m     \u001b[0;32mreturn\u001b[0m \u001b[0merr\u001b[0m\u001b[0;34m\u001b[0m\u001b[0;34m\u001b[0m\u001b[0m\n",
            "\u001b[0;31mKeyboardInterrupt\u001b[0m: "
          ]
        }
      ],
      "source": [
        "sgd(iterations=10)"
      ]
    },
    {
      "cell_type": "code",
      "execution_count": 74,
      "metadata": {
        "id": "jy0lsCMBIEb3"
      },
      "outputs": [],
      "source": [
        "predictions = latent_user_preferences.dot(latent_item_features.T)\n",
        "values = [zip(user_ratings[i], predictions[i]) for i in range(predictions.shape[0])]\n",
        "comparison_data = pd.DataFrame(values)"
      ]
    },
    {
      "cell_type": "code",
      "execution_count": 75,
      "metadata": {
        "id": "_ZOJ5BfeIbWw",
        "colab": {
          "base_uri": "https://localhost:8080/",
          "height": 660
        },
        "outputId": "cb768f81-df6e-4a49-87eb-8e4e991bad93"
      },
      "outputs": [
        {
          "output_type": "execute_result",
          "data": {
            "text/plain": [
              "                                0                             1   \\\n",
              "0      (-7.82, 0.8854039464052083)     (8.79, 0.542454802753762)   \n",
              "1      (4.08, 0.35397089062293685)  (-0.29, 0.22030427917628062)   \n",
              "2        (nan, 2.2184119845608854)    (99.0, 1.3841458911253501)   \n",
              "3        (nan, 0.5148593264066227)    (8.35, 0.3228687282619109)   \n",
              "4        (8.5, 1.4384613006508449)    (4.61, 0.9131170142270633)   \n",
              "...                            ...                           ...   \n",
              "24978   (0.44, 1.5698110717319673)    (7.43, 0.9615978296434657)   \n",
              "24979    (9.13, 0.886076223986561)   (-8.16, 0.5363633566780938)   \n",
              "24980    (nan, 1.4377776001589946)    (99.0, 0.8895955463367774)   \n",
              "24981     (nan, 1.351734271428575)     (nan, 0.8383761300616871)   \n",
              "24982   (2.43, 1.6807414487490067)    (99.0, 1.0430732529190485)   \n",
              "\n",
              "                                2                             3   \\\n",
              "0      (-9.66, 0.5230645945045923)  (-8.16, -0.5709951995852756)   \n",
              "1      (6.36, 0.20948598991142559)  (4.37, -0.22005431401087763)   \n",
              "2         (nan, 1.313268050657682)    (nan, -1.3708778646154849)   \n",
              "3        (nan, 0.3049659925790862)    (nan, -0.3142640649359115)   \n",
              "4      (-4.17, 0.8532405479203443)  (-5.39, -0.8515906770415962)   \n",
              "...                            ...                           ...   \n",
              "24978   (9.08, 0.9273692974106263)   (2.33, -1.0127703289339673)   \n",
              "24979    (8.59, 0.522756798931172)    (9.08, -0.586973851084678)   \n",
              "24980    (nan, 0.8503323491575018)    (nan, -0.9063725924431046)   \n",
              "24981    (nan, 0.7996632524138858)     (nan, -0.847307006156585)   \n",
              "24982  (-3.98, 0.9943676775311157)   (99.0, -1.0520099604764996)   \n",
              "\n",
              "                                 4                            5   \\\n",
              "0        (99.0, 0.5556130265174153)    (-8.5, 1.485446054493778)   \n",
              "1      (-2.38, 0.23252452186214906)  (-9.66, 0.5975464478122922)   \n",
              "2        (9.03, 1.4677173265786096)   (9.27, 3.7486536416127203)   \n",
              "3         (1.8, 0.3455624350895806)   (8.16, 0.8717525166469032)   \n",
              "4        (1.36, 0.9988959030850687)    (1.6, 2.4474387205641235)   \n",
              "...                             ...                          ...   \n",
              "24978     (3.2, 0.9845865604368497)   (6.75, 2.6334983596069312)   \n",
              "24979    (0.87, 0.5363709660408847)   (-8.93, 1.479600221938342)   \n",
              "24980       (99.0, 0.9286121885545)     (nan, 2.421518059669553)   \n",
              "24981   (-9.71, 0.8791418840636575)     (nan, 2.278767216306458)   \n",
              "24982    (99.0, 1.0950552585569429)   (7.33, 2.8340965119582093)   \n",
              "\n",
              "                                   6                             7   \\\n",
              "0      (-9.85, -0.032767202061978216)  (4.17, -0.28490658072142705)   \n",
              "1      (-0.73, -0.024677744625034137)  (-5.34, -0.1122772237227956)   \n",
              "2        (9.03, -0.16627984551732714)   (99.0, -0.7020357748306902)   \n",
              "3       (-2.82, -0.04407747047395029)  (6.21, -0.16216211939170325)   \n",
              "4        (7.04, -0.16036972135600372)   (4.61, -0.4478422525967419)   \n",
              "...                               ...                           ...   \n",
              "24978   (-8.79, -0.05752918873168249)  (-0.53, -0.5052155991951269)   \n",
              "24979   (99.0, -0.010898819152827924)  (5.78, -0.28819390117979526)   \n",
              "24980     (6.7, -0.08257020734209324)  (-6.75, -0.4585317315817452)   \n",
              "24981    (4.56, -0.08442282232840581)  (-8.3, -0.43013804782163906)   \n",
              "24982    (2.33, -0.10712368305149271)   (4.56, -0.5345301198953286)   \n",
              "\n",
              "                                   8                            9   ...  \\\n",
              "0       (-8.98, -0.07522075795297471)  (-4.76, 1.0988320978465675)  ...   \n",
              "1        (8.88, -0.03763307805907959)   (9.22, 0.4408206308280367)  ...   \n",
              "2         (nan, -0.24344248656579123)     (nan, 2.764247921321048)  ...   \n",
              "3          (nan, -0.0600822079735076)   (1.84, 0.6422618530261458)  ...   \n",
              "4        (-0.44, -0.1921710877306323)    (5.73, 1.799311149890059)  ...   \n",
              "...                               ...                          ...  ...   \n",
              "24978   (-8.74, -0.13299546880148855)   (7.23, 1.9481421289663776)  ...   \n",
              "24979  (-8.11, -0.060980450857713094)     (4.9, 1.096783780166937)  ...   \n",
              "24980     (nan, -0.14132246109235533)    (nan, 1.7882222430994077)  ...   \n",
              "24981     (nan, -0.13730189588305303)    (nan, 1.6821012244631963)  ...   \n",
              "24982    (6.75, -0.17212646876289905)    (4.61, 2.091801946135427)  ...   \n",
              "\n",
              "                               90                           91  \\\n",
              "0      (2.82, 1.6451455273902378)   (99.0, 1.1754664671555926)   \n",
              "1      (2.82, 0.6534243939688892)  (-4.95, 0.4669442433086023)   \n",
              "2       (nan, 4.0908570111808755)    (nan, 2.9234405587383545)   \n",
              "3       (nan, 0.9473970936927404)    (nan, 0.6770691259820761)   \n",
              "4       (5.19, 2.633166819184446)   (5.58, 1.8820479680368452)   \n",
              "...                           ...                          ...   \n",
              "24978  (8.83, 2.9170336686310323)   (99.0, 2.0842349107758547)   \n",
              "24979  (99.0, 1.6544869956160955)  (-5.73, 1.1820113843536117)   \n",
              "24980     (nan, 2.66064385265202)     (nan, 1.901220014820235)   \n",
              "24981    (nan, 2.498907252024469)     (nan, 1.785688052742966)   \n",
              "24982   (nan, 3.1063364588310907)     (nan, 2.219762221190664)   \n",
              "\n",
              "                                92                           93  \\\n",
              "0        (nan, 2.0085405530405556)    (nan, 1.0707199328249488)   \n",
              "1      (-0.29, 0.7971699019272492)  (7.86, 0.42575588750676535)   \n",
              "2        (nan, 4.9902014460503255)   (9.08, 2.6659943857937756)   \n",
              "3        (nan, 1.1553940793027995)   (0.53, 0.6176457084834179)   \n",
              "4        (4.27, 3.209355465288905)   (5.19, 1.7182362568212375)   \n",
              "...                            ...                          ...   \n",
              "24978    (99.0, 3.561403987317783)   (-6.7, 1.8984868435754012)   \n",
              "24979  (-1.46, 2.0210591106262674)   (0.24, 1.0758849133797759)   \n",
              "24980     (nan, 3.246858073441486)    (nan, 1.7328695988817193)   \n",
              "24981    (nan, 3.0491393736039654)     (nan, 1.627816058526538)   \n",
              "24982     (nan, 3.790207808948227)    (nan, 2.0235926232116808)   \n",
              "\n",
              "                                94                           95  \\\n",
              "0        (nan, 1.0212873384047907)    (nan, 1.3427955525473145)   \n",
              "1      (-0.19, 0.4108867206680708)  (-2.14, 0.5297120029781757)   \n",
              "2        (nan, 2.5777167327016643)      (nan, 3.31267714252885)   \n",
              "3        (nan, 0.5994765931942577)     (nan, 0.765448880762492)   \n",
              "4       (5.73, 1.6832050153779075)     (1.55, 2.11570080257055)   \n",
              "...                            ...                          ...   \n",
              "24978   (8.45, 1.8106039181924136)   (9.03, 2.3811095042262647)   \n",
              "24979    (9.22, 1.017161944875259)   (-8.2, 1.3572730520953615)   \n",
              "24980    (nan, 1.6650064911003846)     (nan, 2.162472217059905)   \n",
              "24981      (nan, 1.56688557339967)    (nan, 2.0288834600297174)   \n",
              "24982    (nan, 1.9487416662075618)    (99.0, 2.521383022374163)   \n",
              "\n",
              "                                96                           97  \\\n",
              "0      (-5.63, 1.4529291672765454)    (nan, 1.0038294867828852)   \n",
              "1       (3.06, 0.5731708886578302)   (0.34, 0.4073658516776903)   \n",
              "2         (nan, 3.584470489844809)    (nan, 2.5591214971647647)   \n",
              "3        (nan, 0.8282574328429348)    (nan, 0.5967998231188453)   \n",
              "4        (99.0, 2.289345902187167)   (6.55, 1.6868452313054783)   \n",
              "...                            ...                          ...   \n",
              "24978    (6.55, 2.576403083711922)    (8.69, 1.779482068714439)   \n",
              "24979  (-7.23, 1.4685697213939957)  (-8.59, 0.9931509668213152)   \n",
              "24980     (nan, 2.339866873197918)    (nan, 1.6454277757337326)   \n",
              "24981   (99.0, 2.1953270178760813)    (nan, 1.5505080178538841)   \n",
              "24982    (99.0, 2.728232198326541)    (nan, 1.9290209062061898)   \n",
              "\n",
              "                                 98                          99  \n",
              "0        (nan, 0.37083572781976365)   (nan, 1.3458048239600187)  \n",
              "1      (-4.32, 0.15076046931521095)  (1.07, 0.5503182131265355)  \n",
              "2          (nan, 0.947363362534871)   (nan, 3.4612928584469804)  \n",
              "3         (nan, 0.2210560251614911)   (nan, 0.8091349495739776)  \n",
              "4         (1.8, 0.6256633581026046)   (1.6, 2.3001344372904144)  \n",
              "...                             ...                         ...  \n",
              "24978    (8.79, 0.6573648453319563)  (7.43, 2.3854952133705645)  \n",
              "24979   (9.13, 0.36637849605280703)   (8.45, 1.323594233711994)  \n",
              "24980     (nan, 0.6085427507967328)    (nan, 2.216563660372514)  \n",
              "24981      (nan, 0.573595273312874)   (nan, 2.0911237176475597)  \n",
              "24982     (nan, 0.7136722074817996)   (nan, 2.6023799113140864)  \n",
              "\n",
              "[24983 rows x 100 columns]"
            ],
            "text/html": [
              "\n",
              "  <div id=\"df-91e7d70f-0cdc-4f9e-aa97-86ba516c6770\">\n",
              "    <div class=\"colab-df-container\">\n",
              "      <div>\n",
              "<style scoped>\n",
              "    .dataframe tbody tr th:only-of-type {\n",
              "        vertical-align: middle;\n",
              "    }\n",
              "\n",
              "    .dataframe tbody tr th {\n",
              "        vertical-align: top;\n",
              "    }\n",
              "\n",
              "    .dataframe thead th {\n",
              "        text-align: right;\n",
              "    }\n",
              "</style>\n",
              "<table border=\"1\" class=\"dataframe\">\n",
              "  <thead>\n",
              "    <tr style=\"text-align: right;\">\n",
              "      <th></th>\n",
              "      <th>0</th>\n",
              "      <th>1</th>\n",
              "      <th>2</th>\n",
              "      <th>3</th>\n",
              "      <th>4</th>\n",
              "      <th>5</th>\n",
              "      <th>6</th>\n",
              "      <th>7</th>\n",
              "      <th>8</th>\n",
              "      <th>9</th>\n",
              "      <th>...</th>\n",
              "      <th>90</th>\n",
              "      <th>91</th>\n",
              "      <th>92</th>\n",
              "      <th>93</th>\n",
              "      <th>94</th>\n",
              "      <th>95</th>\n",
              "      <th>96</th>\n",
              "      <th>97</th>\n",
              "      <th>98</th>\n",
              "      <th>99</th>\n",
              "    </tr>\n",
              "  </thead>\n",
              "  <tbody>\n",
              "    <tr>\n",
              "      <th>0</th>\n",
              "      <td>(-7.82, 0.8854039464052083)</td>\n",
              "      <td>(8.79, 0.542454802753762)</td>\n",
              "      <td>(-9.66, 0.5230645945045923)</td>\n",
              "      <td>(-8.16, -0.5709951995852756)</td>\n",
              "      <td>(99.0, 0.5556130265174153)</td>\n",
              "      <td>(-8.5, 1.485446054493778)</td>\n",
              "      <td>(-9.85, -0.032767202061978216)</td>\n",
              "      <td>(4.17, -0.28490658072142705)</td>\n",
              "      <td>(-8.98, -0.07522075795297471)</td>\n",
              "      <td>(-4.76, 1.0988320978465675)</td>\n",
              "      <td>...</td>\n",
              "      <td>(2.82, 1.6451455273902378)</td>\n",
              "      <td>(99.0, 1.1754664671555926)</td>\n",
              "      <td>(nan, 2.0085405530405556)</td>\n",
              "      <td>(nan, 1.0707199328249488)</td>\n",
              "      <td>(nan, 1.0212873384047907)</td>\n",
              "      <td>(nan, 1.3427955525473145)</td>\n",
              "      <td>(-5.63, 1.4529291672765454)</td>\n",
              "      <td>(nan, 1.0038294867828852)</td>\n",
              "      <td>(nan, 0.37083572781976365)</td>\n",
              "      <td>(nan, 1.3458048239600187)</td>\n",
              "    </tr>\n",
              "    <tr>\n",
              "      <th>1</th>\n",
              "      <td>(4.08, 0.35397089062293685)</td>\n",
              "      <td>(-0.29, 0.22030427917628062)</td>\n",
              "      <td>(6.36, 0.20948598991142559)</td>\n",
              "      <td>(4.37, -0.22005431401087763)</td>\n",
              "      <td>(-2.38, 0.23252452186214906)</td>\n",
              "      <td>(-9.66, 0.5975464478122922)</td>\n",
              "      <td>(-0.73, -0.024677744625034137)</td>\n",
              "      <td>(-5.34, -0.1122772237227956)</td>\n",
              "      <td>(8.88, -0.03763307805907959)</td>\n",
              "      <td>(9.22, 0.4408206308280367)</td>\n",
              "      <td>...</td>\n",
              "      <td>(2.82, 0.6534243939688892)</td>\n",
              "      <td>(-4.95, 0.4669442433086023)</td>\n",
              "      <td>(-0.29, 0.7971699019272492)</td>\n",
              "      <td>(7.86, 0.42575588750676535)</td>\n",
              "      <td>(-0.19, 0.4108867206680708)</td>\n",
              "      <td>(-2.14, 0.5297120029781757)</td>\n",
              "      <td>(3.06, 0.5731708886578302)</td>\n",
              "      <td>(0.34, 0.4073658516776903)</td>\n",
              "      <td>(-4.32, 0.15076046931521095)</td>\n",
              "      <td>(1.07, 0.5503182131265355)</td>\n",
              "    </tr>\n",
              "    <tr>\n",
              "      <th>2</th>\n",
              "      <td>(nan, 2.2184119845608854)</td>\n",
              "      <td>(99.0, 1.3841458911253501)</td>\n",
              "      <td>(nan, 1.313268050657682)</td>\n",
              "      <td>(nan, -1.3708778646154849)</td>\n",
              "      <td>(9.03, 1.4677173265786096)</td>\n",
              "      <td>(9.27, 3.7486536416127203)</td>\n",
              "      <td>(9.03, -0.16627984551732714)</td>\n",
              "      <td>(99.0, -0.7020357748306902)</td>\n",
              "      <td>(nan, -0.24344248656579123)</td>\n",
              "      <td>(nan, 2.764247921321048)</td>\n",
              "      <td>...</td>\n",
              "      <td>(nan, 4.0908570111808755)</td>\n",
              "      <td>(nan, 2.9234405587383545)</td>\n",
              "      <td>(nan, 4.9902014460503255)</td>\n",
              "      <td>(9.08, 2.6659943857937756)</td>\n",
              "      <td>(nan, 2.5777167327016643)</td>\n",
              "      <td>(nan, 3.31267714252885)</td>\n",
              "      <td>(nan, 3.584470489844809)</td>\n",
              "      <td>(nan, 2.5591214971647647)</td>\n",
              "      <td>(nan, 0.947363362534871)</td>\n",
              "      <td>(nan, 3.4612928584469804)</td>\n",
              "    </tr>\n",
              "    <tr>\n",
              "      <th>3</th>\n",
              "      <td>(nan, 0.5148593264066227)</td>\n",
              "      <td>(8.35, 0.3228687282619109)</td>\n",
              "      <td>(nan, 0.3049659925790862)</td>\n",
              "      <td>(nan, -0.3142640649359115)</td>\n",
              "      <td>(1.8, 0.3455624350895806)</td>\n",
              "      <td>(8.16, 0.8717525166469032)</td>\n",
              "      <td>(-2.82, -0.04407747047395029)</td>\n",
              "      <td>(6.21, -0.16216211939170325)</td>\n",
              "      <td>(nan, -0.0600822079735076)</td>\n",
              "      <td>(1.84, 0.6422618530261458)</td>\n",
              "      <td>...</td>\n",
              "      <td>(nan, 0.9473970936927404)</td>\n",
              "      <td>(nan, 0.6770691259820761)</td>\n",
              "      <td>(nan, 1.1553940793027995)</td>\n",
              "      <td>(0.53, 0.6176457084834179)</td>\n",
              "      <td>(nan, 0.5994765931942577)</td>\n",
              "      <td>(nan, 0.765448880762492)</td>\n",
              "      <td>(nan, 0.8282574328429348)</td>\n",
              "      <td>(nan, 0.5967998231188453)</td>\n",
              "      <td>(nan, 0.2210560251614911)</td>\n",
              "      <td>(nan, 0.8091349495739776)</td>\n",
              "    </tr>\n",
              "    <tr>\n",
              "      <th>4</th>\n",
              "      <td>(8.5, 1.4384613006508449)</td>\n",
              "      <td>(4.61, 0.9131170142270633)</td>\n",
              "      <td>(-4.17, 0.8532405479203443)</td>\n",
              "      <td>(-5.39, -0.8515906770415962)</td>\n",
              "      <td>(1.36, 0.9988959030850687)</td>\n",
              "      <td>(1.6, 2.4474387205641235)</td>\n",
              "      <td>(7.04, -0.16036972135600372)</td>\n",
              "      <td>(4.61, -0.4478422525967419)</td>\n",
              "      <td>(-0.44, -0.1921710877306323)</td>\n",
              "      <td>(5.73, 1.799311149890059)</td>\n",
              "      <td>...</td>\n",
              "      <td>(5.19, 2.633166819184446)</td>\n",
              "      <td>(5.58, 1.8820479680368452)</td>\n",
              "      <td>(4.27, 3.209355465288905)</td>\n",
              "      <td>(5.19, 1.7182362568212375)</td>\n",
              "      <td>(5.73, 1.6832050153779075)</td>\n",
              "      <td>(1.55, 2.11570080257055)</td>\n",
              "      <td>(99.0, 2.289345902187167)</td>\n",
              "      <td>(6.55, 1.6868452313054783)</td>\n",
              "      <td>(1.8, 0.6256633581026046)</td>\n",
              "      <td>(1.6, 2.3001344372904144)</td>\n",
              "    </tr>\n",
              "    <tr>\n",
              "      <th>...</th>\n",
              "      <td>...</td>\n",
              "      <td>...</td>\n",
              "      <td>...</td>\n",
              "      <td>...</td>\n",
              "      <td>...</td>\n",
              "      <td>...</td>\n",
              "      <td>...</td>\n",
              "      <td>...</td>\n",
              "      <td>...</td>\n",
              "      <td>...</td>\n",
              "      <td>...</td>\n",
              "      <td>...</td>\n",
              "      <td>...</td>\n",
              "      <td>...</td>\n",
              "      <td>...</td>\n",
              "      <td>...</td>\n",
              "      <td>...</td>\n",
              "      <td>...</td>\n",
              "      <td>...</td>\n",
              "      <td>...</td>\n",
              "      <td>...</td>\n",
              "    </tr>\n",
              "    <tr>\n",
              "      <th>24978</th>\n",
              "      <td>(0.44, 1.5698110717319673)</td>\n",
              "      <td>(7.43, 0.9615978296434657)</td>\n",
              "      <td>(9.08, 0.9273692974106263)</td>\n",
              "      <td>(2.33, -1.0127703289339673)</td>\n",
              "      <td>(3.2, 0.9845865604368497)</td>\n",
              "      <td>(6.75, 2.6334983596069312)</td>\n",
              "      <td>(-8.79, -0.05752918873168249)</td>\n",
              "      <td>(-0.53, -0.5052155991951269)</td>\n",
              "      <td>(-8.74, -0.13299546880148855)</td>\n",
              "      <td>(7.23, 1.9481421289663776)</td>\n",
              "      <td>...</td>\n",
              "      <td>(8.83, 2.9170336686310323)</td>\n",
              "      <td>(99.0, 2.0842349107758547)</td>\n",
              "      <td>(99.0, 3.561403987317783)</td>\n",
              "      <td>(-6.7, 1.8984868435754012)</td>\n",
              "      <td>(8.45, 1.8106039181924136)</td>\n",
              "      <td>(9.03, 2.3811095042262647)</td>\n",
              "      <td>(6.55, 2.576403083711922)</td>\n",
              "      <td>(8.69, 1.779482068714439)</td>\n",
              "      <td>(8.79, 0.6573648453319563)</td>\n",
              "      <td>(7.43, 2.3854952133705645)</td>\n",
              "    </tr>\n",
              "    <tr>\n",
              "      <th>24979</th>\n",
              "      <td>(9.13, 0.886076223986561)</td>\n",
              "      <td>(-8.16, 0.5363633566780938)</td>\n",
              "      <td>(8.59, 0.522756798931172)</td>\n",
              "      <td>(9.08, -0.586973851084678)</td>\n",
              "      <td>(0.87, 0.5363709660408847)</td>\n",
              "      <td>(-8.93, 1.479600221938342)</td>\n",
              "      <td>(99.0, -0.010898819152827924)</td>\n",
              "      <td>(5.78, -0.28819390117979526)</td>\n",
              "      <td>(-8.11, -0.060980450857713094)</td>\n",
              "      <td>(4.9, 1.096783780166937)</td>\n",
              "      <td>...</td>\n",
              "      <td>(99.0, 1.6544869956160955)</td>\n",
              "      <td>(-5.73, 1.1820113843536117)</td>\n",
              "      <td>(-1.46, 2.0210591106262674)</td>\n",
              "      <td>(0.24, 1.0758849133797759)</td>\n",
              "      <td>(9.22, 1.017161944875259)</td>\n",
              "      <td>(-8.2, 1.3572730520953615)</td>\n",
              "      <td>(-7.23, 1.4685697213939957)</td>\n",
              "      <td>(-8.59, 0.9931509668213152)</td>\n",
              "      <td>(9.13, 0.36637849605280703)</td>\n",
              "      <td>(8.45, 1.323594233711994)</td>\n",
              "    </tr>\n",
              "    <tr>\n",
              "      <th>24980</th>\n",
              "      <td>(nan, 1.4377776001589946)</td>\n",
              "      <td>(99.0, 0.8895955463367774)</td>\n",
              "      <td>(nan, 0.8503323491575018)</td>\n",
              "      <td>(nan, -0.9063725924431046)</td>\n",
              "      <td>(99.0, 0.9286121885545)</td>\n",
              "      <td>(nan, 2.421518059669553)</td>\n",
              "      <td>(6.7, -0.08257020734209324)</td>\n",
              "      <td>(-6.75, -0.4585317315817452)</td>\n",
              "      <td>(nan, -0.14132246109235533)</td>\n",
              "      <td>(nan, 1.7882222430994077)</td>\n",
              "      <td>...</td>\n",
              "      <td>(nan, 2.66064385265202)</td>\n",
              "      <td>(nan, 1.901220014820235)</td>\n",
              "      <td>(nan, 3.246858073441486)</td>\n",
              "      <td>(nan, 1.7328695988817193)</td>\n",
              "      <td>(nan, 1.6650064911003846)</td>\n",
              "      <td>(nan, 2.162472217059905)</td>\n",
              "      <td>(nan, 2.339866873197918)</td>\n",
              "      <td>(nan, 1.6454277757337326)</td>\n",
              "      <td>(nan, 0.6085427507967328)</td>\n",
              "      <td>(nan, 2.216563660372514)</td>\n",
              "    </tr>\n",
              "    <tr>\n",
              "      <th>24981</th>\n",
              "      <td>(nan, 1.351734271428575)</td>\n",
              "      <td>(nan, 0.8383761300616871)</td>\n",
              "      <td>(nan, 0.7996632524138858)</td>\n",
              "      <td>(nan, -0.847307006156585)</td>\n",
              "      <td>(-9.71, 0.8791418840636575)</td>\n",
              "      <td>(nan, 2.278767216306458)</td>\n",
              "      <td>(4.56, -0.08442282232840581)</td>\n",
              "      <td>(-8.3, -0.43013804782163906)</td>\n",
              "      <td>(nan, -0.13730189588305303)</td>\n",
              "      <td>(nan, 1.6821012244631963)</td>\n",
              "      <td>...</td>\n",
              "      <td>(nan, 2.498907252024469)</td>\n",
              "      <td>(nan, 1.785688052742966)</td>\n",
              "      <td>(nan, 3.0491393736039654)</td>\n",
              "      <td>(nan, 1.627816058526538)</td>\n",
              "      <td>(nan, 1.56688557339967)</td>\n",
              "      <td>(nan, 2.0288834600297174)</td>\n",
              "      <td>(99.0, 2.1953270178760813)</td>\n",
              "      <td>(nan, 1.5505080178538841)</td>\n",
              "      <td>(nan, 0.573595273312874)</td>\n",
              "      <td>(nan, 2.0911237176475597)</td>\n",
              "    </tr>\n",
              "    <tr>\n",
              "      <th>24982</th>\n",
              "      <td>(2.43, 1.6807414487490067)</td>\n",
              "      <td>(99.0, 1.0430732529190485)</td>\n",
              "      <td>(-3.98, 0.9943676775311157)</td>\n",
              "      <td>(99.0, -1.0520099604764996)</td>\n",
              "      <td>(99.0, 1.0950552585569429)</td>\n",
              "      <td>(7.33, 2.8340965119582093)</td>\n",
              "      <td>(2.33, -0.10712368305149271)</td>\n",
              "      <td>(4.56, -0.5345301198953286)</td>\n",
              "      <td>(6.75, -0.17212646876289905)</td>\n",
              "      <td>(4.61, 2.091801946135427)</td>\n",
              "      <td>...</td>\n",
              "      <td>(nan, 3.1063364588310907)</td>\n",
              "      <td>(nan, 2.219762221190664)</td>\n",
              "      <td>(nan, 3.790207808948227)</td>\n",
              "      <td>(nan, 2.0235926232116808)</td>\n",
              "      <td>(nan, 1.9487416662075618)</td>\n",
              "      <td>(99.0, 2.521383022374163)</td>\n",
              "      <td>(99.0, 2.728232198326541)</td>\n",
              "      <td>(nan, 1.9290209062061898)</td>\n",
              "      <td>(nan, 0.7136722074817996)</td>\n",
              "      <td>(nan, 2.6023799113140864)</td>\n",
              "    </tr>\n",
              "  </tbody>\n",
              "</table>\n",
              "<p>24983 rows × 100 columns</p>\n",
              "</div>\n",
              "      <button class=\"colab-df-convert\" onclick=\"convertToInteractive('df-91e7d70f-0cdc-4f9e-aa97-86ba516c6770')\"\n",
              "              title=\"Convert this dataframe to an interactive table.\"\n",
              "              style=\"display:none;\">\n",
              "        \n",
              "  <svg xmlns=\"http://www.w3.org/2000/svg\" height=\"24px\"viewBox=\"0 0 24 24\"\n",
              "       width=\"24px\">\n",
              "    <path d=\"M0 0h24v24H0V0z\" fill=\"none\"/>\n",
              "    <path d=\"M18.56 5.44l.94 2.06.94-2.06 2.06-.94-2.06-.94-.94-2.06-.94 2.06-2.06.94zm-11 1L8.5 8.5l.94-2.06 2.06-.94-2.06-.94L8.5 2.5l-.94 2.06-2.06.94zm10 10l.94 2.06.94-2.06 2.06-.94-2.06-.94-.94-2.06-.94 2.06-2.06.94z\"/><path d=\"M17.41 7.96l-1.37-1.37c-.4-.4-.92-.59-1.43-.59-.52 0-1.04.2-1.43.59L10.3 9.45l-7.72 7.72c-.78.78-.78 2.05 0 2.83L4 21.41c.39.39.9.59 1.41.59.51 0 1.02-.2 1.41-.59l7.78-7.78 2.81-2.81c.8-.78.8-2.07 0-2.86zM5.41 20L4 18.59l7.72-7.72 1.47 1.35L5.41 20z\"/>\n",
              "  </svg>\n",
              "      </button>\n",
              "      \n",
              "  <style>\n",
              "    .colab-df-container {\n",
              "      display:flex;\n",
              "      flex-wrap:wrap;\n",
              "      gap: 12px;\n",
              "    }\n",
              "\n",
              "    .colab-df-convert {\n",
              "      background-color: #E8F0FE;\n",
              "      border: none;\n",
              "      border-radius: 50%;\n",
              "      cursor: pointer;\n",
              "      display: none;\n",
              "      fill: #1967D2;\n",
              "      height: 32px;\n",
              "      padding: 0 0 0 0;\n",
              "      width: 32px;\n",
              "    }\n",
              "\n",
              "    .colab-df-convert:hover {\n",
              "      background-color: #E2EBFA;\n",
              "      box-shadow: 0px 1px 2px rgba(60, 64, 67, 0.3), 0px 1px 3px 1px rgba(60, 64, 67, 0.15);\n",
              "      fill: #174EA6;\n",
              "    }\n",
              "\n",
              "    [theme=dark] .colab-df-convert {\n",
              "      background-color: #3B4455;\n",
              "      fill: #D2E3FC;\n",
              "    }\n",
              "\n",
              "    [theme=dark] .colab-df-convert:hover {\n",
              "      background-color: #434B5C;\n",
              "      box-shadow: 0px 1px 3px 1px rgba(0, 0, 0, 0.15);\n",
              "      filter: drop-shadow(0px 1px 2px rgba(0, 0, 0, 0.3));\n",
              "      fill: #FFFFFF;\n",
              "    }\n",
              "  </style>\n",
              "\n",
              "      <script>\n",
              "        const buttonEl =\n",
              "          document.querySelector('#df-91e7d70f-0cdc-4f9e-aa97-86ba516c6770 button.colab-df-convert');\n",
              "        buttonEl.style.display =\n",
              "          google.colab.kernel.accessAllowed ? 'block' : 'none';\n",
              "\n",
              "        async function convertToInteractive(key) {\n",
              "          const element = document.querySelector('#df-91e7d70f-0cdc-4f9e-aa97-86ba516c6770');\n",
              "          const dataTable =\n",
              "            await google.colab.kernel.invokeFunction('convertToInteractive',\n",
              "                                                     [key], {});\n",
              "          if (!dataTable) return;\n",
              "\n",
              "          const docLinkHtml = 'Like what you see? Visit the ' +\n",
              "            '<a target=\"_blank\" href=https://colab.research.google.com/notebooks/data_table.ipynb>data table notebook</a>'\n",
              "            + ' to learn more about interactive tables.';\n",
              "          element.innerHTML = '';\n",
              "          dataTable['output_type'] = 'display_data';\n",
              "          await google.colab.output.renderOutput(dataTable, element);\n",
              "          const docLink = document.createElement('div');\n",
              "          docLink.innerHTML = docLinkHtml;\n",
              "          element.appendChild(docLink);\n",
              "        }\n",
              "      </script>\n",
              "    </div>\n",
              "  </div>\n",
              "  "
            ]
          },
          "metadata": {},
          "execution_count": 75
        }
      ],
      "source": [
        "comparison_data"
      ]
    },
    {
      "cell_type": "markdown",
      "metadata": {
        "id": "kPDcG_AOImNK"
      },
      "source": [
        "## (MSE) of the trained latent factors model on the validation set."
      ]
    },
    {
      "cell_type": "code",
      "execution_count": null,
      "metadata": {
        "id": "pNM9bC1HIbZa"
      },
      "outputs": [],
      "source": [
        "original_data = arr\n",
        "assert len(idx[0]) == len(idx[1])\n",
        "validation_size = len(idx[0])\n",
        "errors = []\n",
        "for i in range(validation_size):\n",
        "  user_id = idx[0][i]\n",
        "  joke_id = idx[1][i]\n",
        "  prediction_rating = predict_rating(user_id, joke_id)\n",
        "  real_rating = original_data[user_id][joke_id]\n",
        "  error = prediction_rating - real_rating\n",
        "  errors.append(error)\n",
        "mse = (np.array(errors) ** 2).mean()\n",
        "print('Validation MSE:', mse)"
      ]
    },
    {
      "cell_type": "markdown",
      "metadata": {
        "id": "QZ3-6TfhIsBW"
      },
      "source": [
        "# the test set."
      ]
    },
    {
      "cell_type": "code",
      "execution_count": null,
      "metadata": {
        "id": "ZbMQnpHxIbbt"
      },
      "outputs": [],
      "source": [
        "filled_data = np.zeros(original_data.shape)\n",
        "rows, columns = original_data.shape\n",
        "for user_id in range(rows):\n",
        "  for joke_id in range(columns):\n",
        "    if original_data[user_id][joke_id] == 99:\n",
        "      filled_data[user_id][joke_id] = predict_rating(user_id, joke_id)\n",
        "    else:\n",
        "      filled_data[user_id][joke_id] = original_data[user_id][joke_id]"
      ]
    },
    {
      "cell_type": "code",
      "execution_count": null,
      "metadata": {
        "id": "OALReDq1Yenz"
      },
      "outputs": [],
      "source": [
        ""
      ]
    },
    {
      "cell_type": "code",
      "execution_count": null,
      "metadata": {
        "id": "iAD9-ROsYbby"
      },
      "outputs": [],
      "source": [
        ""
      ]
    },
    {
      "cell_type": "markdown",
      "metadata": {
        "id": "iwBwDtZpnVhS"
      },
      "source": [
        "### Quiz"
      ]
    },
    {
      "cell_type": "code",
      "execution_count": null,
      "metadata": {
        "id": "9wqN9RYaoFJV"
      },
      "outputs": [],
      "source": [
        "# import pandas as pd\n",
        "# import numpy as np\n",
        "# # Your code here\n",
        "# df = pd.read_csv('https://raw.githubusercontent.com/albanda/CE888/master/lab4-recommender/jester-data-1.csv',header=None)\n",
        "# df = df.iloc[:,1:]\n",
        "# df.replace(99,np.nan,inplace=True)"
      ]
    },
    {
      "cell_type": "code",
      "execution_count": null,
      "metadata": {
        "id": "Dqw_zix7ofoL"
      },
      "outputs": [],
      "source": [
        "# user_ratings = df.values"
      ]
    },
    {
      "cell_type": "code",
      "execution_count": null,
      "metadata": {
        "id": "LzmBNZOBnt7E"
      },
      "outputs": [],
      "source": [
        "# import numpy as np\n",
        "\n",
        "\n",
        "# def sgd(iterations):\n",
        "#     \"\"\" Iterate over all users and all items and train for \n",
        "#         a certain number of iterations\n",
        "#     \"\"\"\n",
        "#     mse_history = []\n",
        "#     for iteration in range(iterations):\n",
        "#         error = []\n",
        "        \n",
        "#         ### YOUR CODE (inner loop) HERE\n",
        "#         for user_id in range(latent_user_preferences.shape[0]):\n",
        "#             for item_id in range(latent_item_features.shape[0]):\n",
        "#                 rating = user_ratings[user_id][item_id]\n",
        "#                 if not np.isnan(rating):\n",
        "#                     err = train(user_id, item_id, rating)\n",
        "#                     error.append(err)\n",
        "                    \n",
        "#         mse = np.nanmean((np.array(error) ** 2))  \n",
        "#         if (iteration % 10) == 0:\n",
        "#             print('Iteration %d/%d:    MSE=%.3f' % (iteration, iterations, mse))\n",
        "#             mse_history.append(mse)\n",
        "    # return mse_history"
      ]
    },
    {
      "cell_type": "code",
      "execution_count": null,
      "metadata": {
        "colab": {
          "background_save": true,
          "base_uri": "https://localhost:8080/"
        },
        "id": "UHwMR2lLnXCP",
        "outputId": "aaaef556-369c-4f32-d7af-3b539efd2611"
      },
      "outputs": [
        {
          "name": "stdout",
          "output_type": "stream",
          "text": [
            "Iteration 0/100:    MSE=26.087\n",
            "Iteration 10/100:    MSE=23.022\n",
            "Iteration 20/100:    MSE=21.127\n",
            "Iteration 30/100:    MSE=18.841\n",
            "Iteration 40/100:    MSE=17.420\n",
            "Iteration 50/100:    MSE=17.207\n",
            "Iteration 60/100:    MSE=17.154\n",
            "Iteration 70/100:    MSE=17.137\n"
          ]
        }
      ],
      "source": [
        "# np.random.seed(20)\n",
        "\n",
        "# n_latent_factors = 2\n",
        "# latent_user_preferences = np.random.random((user_ratings.shape[0], n_latent_factors))\n",
        "# latent_item_features = np.random.random((user_ratings.shape[1], n_latent_factors))\n",
        "# hist = sgd(100)"
      ]
    },
    {
      "cell_type": "code",
      "execution_count": 176,
      "metadata": {
        "id": "JYrkU87M2GjZ",
        "colab": {
          "base_uri": "https://localhost:8080/"
        },
        "outputId": "b955bb09-9026-4776-af6a-3d9c0048390f"
      },
      "outputs": [
        {
          "output_type": "execute_result",
          "data": {
            "text/plain": [
              "7.86"
            ]
          },
          "metadata": {},
          "execution_count": 176
        }
      ],
      "source": [
        "row = 19118\n",
        "col = 2\n",
        "df.iloc[row-1 , col-1]"
      ]
    },
    {
      "cell_type": "code",
      "source": [
        "items = pd.read_excel('movies_latent_factors.xlsx',sheet_name='Items')"
      ],
      "metadata": {
        "id": "8ikbtHNz-h8M"
      },
      "execution_count": 100,
      "outputs": []
    },
    {
      "cell_type": "code",
      "source": [
        "users = pd.read_excel('movies_latent_factors.xlsx',sheet_name='Users')"
      ],
      "metadata": {
        "id": "VzFukZiX_TWx"
      },
      "execution_count": 101,
      "outputs": []
    },
    {
      "cell_type": "code",
      "source": [
        "items.head()"
      ],
      "metadata": {
        "colab": {
          "base_uri": "https://localhost:8080/",
          "height": 206
        },
        "id": "ZVJcWT8x_ZZ-",
        "outputId": "e4b2de5d-c376-4709-be8f-69d1729c5bc4"
      },
      "execution_count": 102,
      "outputs": [
        {
          "output_type": "execute_result",
          "data": {
            "text/plain": [
              "   Movie ID                                              Title   Factor1  \\\n",
              "0        11          Star Wars: Episode IV - A New Hope (1977) -1.521848   \n",
              "1        12                                Finding Nemo (2003) -0.342185   \n",
              "2        13                                Forrest Gump (1994) -2.240888   \n",
              "3        14                             American Beauty (1999) -0.634531   \n",
              "4        22  Pirates of the Caribbean: The Curse of the Bla...  0.517348   \n",
              "\n",
              "    Factor2   Factor3   Factor4   Factor5   Factor6   Factor7   Factor8  \\\n",
              "0 -1.038507  2.027269  0.247933 -0.594548  2.513260 -1.848910  0.476710   \n",
              "1 -0.296586 -0.385962  2.443297 -1.097015 -0.619465  0.572887  0.329516   \n",
              "2 -0.438815 -2.275177  0.614548  0.904469  0.711919 -0.420876  1.302036   \n",
              "3  2.186059 -0.066681  0.086197  0.517558 -0.185319 -0.412352  0.063841   \n",
              "4 -1.456763  0.369161  0.073903 -0.098332 -0.594722  0.828888  0.033626   \n",
              "\n",
              "    Factor9  Factor10  Factor11  Factor12  Factor13  Factor14  Factor15  \n",
              "0 -0.224146 -0.760681 -0.973915  0.862379  0.403861  1.129616 -0.248806  \n",
              "1 -0.712228  0.323554 -0.561948 -0.142405 -0.564415  0.506876  1.274993  \n",
              "2 -0.868418 -0.160122  0.633667  0.133138 -0.330276 -2.209004 -0.419092  \n",
              "3  0.075937 -0.577682  0.526803 -1.465557 -0.819682  0.549010 -0.681191  \n",
              "4 -0.707414  0.717877  1.394326 -0.786986  1.429191  0.855746 -2.292566  "
            ],
            "text/html": [
              "\n",
              "  <div id=\"df-af84e91e-f1f9-4f18-bcd5-8c362452bfcf\">\n",
              "    <div class=\"colab-df-container\">\n",
              "      <div>\n",
              "<style scoped>\n",
              "    .dataframe tbody tr th:only-of-type {\n",
              "        vertical-align: middle;\n",
              "    }\n",
              "\n",
              "    .dataframe tbody tr th {\n",
              "        vertical-align: top;\n",
              "    }\n",
              "\n",
              "    .dataframe thead th {\n",
              "        text-align: right;\n",
              "    }\n",
              "</style>\n",
              "<table border=\"1\" class=\"dataframe\">\n",
              "  <thead>\n",
              "    <tr style=\"text-align: right;\">\n",
              "      <th></th>\n",
              "      <th>Movie ID</th>\n",
              "      <th>Title</th>\n",
              "      <th>Factor1</th>\n",
              "      <th>Factor2</th>\n",
              "      <th>Factor3</th>\n",
              "      <th>Factor4</th>\n",
              "      <th>Factor5</th>\n",
              "      <th>Factor6</th>\n",
              "      <th>Factor7</th>\n",
              "      <th>Factor8</th>\n",
              "      <th>Factor9</th>\n",
              "      <th>Factor10</th>\n",
              "      <th>Factor11</th>\n",
              "      <th>Factor12</th>\n",
              "      <th>Factor13</th>\n",
              "      <th>Factor14</th>\n",
              "      <th>Factor15</th>\n",
              "    </tr>\n",
              "  </thead>\n",
              "  <tbody>\n",
              "    <tr>\n",
              "      <th>0</th>\n",
              "      <td>11</td>\n",
              "      <td>Star Wars: Episode IV - A New Hope (1977)</td>\n",
              "      <td>-1.521848</td>\n",
              "      <td>-1.038507</td>\n",
              "      <td>2.027269</td>\n",
              "      <td>0.247933</td>\n",
              "      <td>-0.594548</td>\n",
              "      <td>2.513260</td>\n",
              "      <td>-1.848910</td>\n",
              "      <td>0.476710</td>\n",
              "      <td>-0.224146</td>\n",
              "      <td>-0.760681</td>\n",
              "      <td>-0.973915</td>\n",
              "      <td>0.862379</td>\n",
              "      <td>0.403861</td>\n",
              "      <td>1.129616</td>\n",
              "      <td>-0.248806</td>\n",
              "    </tr>\n",
              "    <tr>\n",
              "      <th>1</th>\n",
              "      <td>12</td>\n",
              "      <td>Finding Nemo (2003)</td>\n",
              "      <td>-0.342185</td>\n",
              "      <td>-0.296586</td>\n",
              "      <td>-0.385962</td>\n",
              "      <td>2.443297</td>\n",
              "      <td>-1.097015</td>\n",
              "      <td>-0.619465</td>\n",
              "      <td>0.572887</td>\n",
              "      <td>0.329516</td>\n",
              "      <td>-0.712228</td>\n",
              "      <td>0.323554</td>\n",
              "      <td>-0.561948</td>\n",
              "      <td>-0.142405</td>\n",
              "      <td>-0.564415</td>\n",
              "      <td>0.506876</td>\n",
              "      <td>1.274993</td>\n",
              "    </tr>\n",
              "    <tr>\n",
              "      <th>2</th>\n",
              "      <td>13</td>\n",
              "      <td>Forrest Gump (1994)</td>\n",
              "      <td>-2.240888</td>\n",
              "      <td>-0.438815</td>\n",
              "      <td>-2.275177</td>\n",
              "      <td>0.614548</td>\n",
              "      <td>0.904469</td>\n",
              "      <td>0.711919</td>\n",
              "      <td>-0.420876</td>\n",
              "      <td>1.302036</td>\n",
              "      <td>-0.868418</td>\n",
              "      <td>-0.160122</td>\n",
              "      <td>0.633667</td>\n",
              "      <td>0.133138</td>\n",
              "      <td>-0.330276</td>\n",
              "      <td>-2.209004</td>\n",
              "      <td>-0.419092</td>\n",
              "    </tr>\n",
              "    <tr>\n",
              "      <th>3</th>\n",
              "      <td>14</td>\n",
              "      <td>American Beauty (1999)</td>\n",
              "      <td>-0.634531</td>\n",
              "      <td>2.186059</td>\n",
              "      <td>-0.066681</td>\n",
              "      <td>0.086197</td>\n",
              "      <td>0.517558</td>\n",
              "      <td>-0.185319</td>\n",
              "      <td>-0.412352</td>\n",
              "      <td>0.063841</td>\n",
              "      <td>0.075937</td>\n",
              "      <td>-0.577682</td>\n",
              "      <td>0.526803</td>\n",
              "      <td>-1.465557</td>\n",
              "      <td>-0.819682</td>\n",
              "      <td>0.549010</td>\n",
              "      <td>-0.681191</td>\n",
              "    </tr>\n",
              "    <tr>\n",
              "      <th>4</th>\n",
              "      <td>22</td>\n",
              "      <td>Pirates of the Caribbean: The Curse of the Bla...</td>\n",
              "      <td>0.517348</td>\n",
              "      <td>-1.456763</td>\n",
              "      <td>0.369161</td>\n",
              "      <td>0.073903</td>\n",
              "      <td>-0.098332</td>\n",
              "      <td>-0.594722</td>\n",
              "      <td>0.828888</td>\n",
              "      <td>0.033626</td>\n",
              "      <td>-0.707414</td>\n",
              "      <td>0.717877</td>\n",
              "      <td>1.394326</td>\n",
              "      <td>-0.786986</td>\n",
              "      <td>1.429191</td>\n",
              "      <td>0.855746</td>\n",
              "      <td>-2.292566</td>\n",
              "    </tr>\n",
              "  </tbody>\n",
              "</table>\n",
              "</div>\n",
              "      <button class=\"colab-df-convert\" onclick=\"convertToInteractive('df-af84e91e-f1f9-4f18-bcd5-8c362452bfcf')\"\n",
              "              title=\"Convert this dataframe to an interactive table.\"\n",
              "              style=\"display:none;\">\n",
              "        \n",
              "  <svg xmlns=\"http://www.w3.org/2000/svg\" height=\"24px\"viewBox=\"0 0 24 24\"\n",
              "       width=\"24px\">\n",
              "    <path d=\"M0 0h24v24H0V0z\" fill=\"none\"/>\n",
              "    <path d=\"M18.56 5.44l.94 2.06.94-2.06 2.06-.94-2.06-.94-.94-2.06-.94 2.06-2.06.94zm-11 1L8.5 8.5l.94-2.06 2.06-.94-2.06-.94L8.5 2.5l-.94 2.06-2.06.94zm10 10l.94 2.06.94-2.06 2.06-.94-2.06-.94-.94-2.06-.94 2.06-2.06.94z\"/><path d=\"M17.41 7.96l-1.37-1.37c-.4-.4-.92-.59-1.43-.59-.52 0-1.04.2-1.43.59L10.3 9.45l-7.72 7.72c-.78.78-.78 2.05 0 2.83L4 21.41c.39.39.9.59 1.41.59.51 0 1.02-.2 1.41-.59l7.78-7.78 2.81-2.81c.8-.78.8-2.07 0-2.86zM5.41 20L4 18.59l7.72-7.72 1.47 1.35L5.41 20z\"/>\n",
              "  </svg>\n",
              "      </button>\n",
              "      \n",
              "  <style>\n",
              "    .colab-df-container {\n",
              "      display:flex;\n",
              "      flex-wrap:wrap;\n",
              "      gap: 12px;\n",
              "    }\n",
              "\n",
              "    .colab-df-convert {\n",
              "      background-color: #E8F0FE;\n",
              "      border: none;\n",
              "      border-radius: 50%;\n",
              "      cursor: pointer;\n",
              "      display: none;\n",
              "      fill: #1967D2;\n",
              "      height: 32px;\n",
              "      padding: 0 0 0 0;\n",
              "      width: 32px;\n",
              "    }\n",
              "\n",
              "    .colab-df-convert:hover {\n",
              "      background-color: #E2EBFA;\n",
              "      box-shadow: 0px 1px 2px rgba(60, 64, 67, 0.3), 0px 1px 3px 1px rgba(60, 64, 67, 0.15);\n",
              "      fill: #174EA6;\n",
              "    }\n",
              "\n",
              "    [theme=dark] .colab-df-convert {\n",
              "      background-color: #3B4455;\n",
              "      fill: #D2E3FC;\n",
              "    }\n",
              "\n",
              "    [theme=dark] .colab-df-convert:hover {\n",
              "      background-color: #434B5C;\n",
              "      box-shadow: 0px 1px 3px 1px rgba(0, 0, 0, 0.15);\n",
              "      filter: drop-shadow(0px 1px 2px rgba(0, 0, 0, 0.3));\n",
              "      fill: #FFFFFF;\n",
              "    }\n",
              "  </style>\n",
              "\n",
              "      <script>\n",
              "        const buttonEl =\n",
              "          document.querySelector('#df-af84e91e-f1f9-4f18-bcd5-8c362452bfcf button.colab-df-convert');\n",
              "        buttonEl.style.display =\n",
              "          google.colab.kernel.accessAllowed ? 'block' : 'none';\n",
              "\n",
              "        async function convertToInteractive(key) {\n",
              "          const element = document.querySelector('#df-af84e91e-f1f9-4f18-bcd5-8c362452bfcf');\n",
              "          const dataTable =\n",
              "            await google.colab.kernel.invokeFunction('convertToInteractive',\n",
              "                                                     [key], {});\n",
              "          if (!dataTable) return;\n",
              "\n",
              "          const docLinkHtml = 'Like what you see? Visit the ' +\n",
              "            '<a target=\"_blank\" href=https://colab.research.google.com/notebooks/data_table.ipynb>data table notebook</a>'\n",
              "            + ' to learn more about interactive tables.';\n",
              "          element.innerHTML = '';\n",
              "          dataTable['output_type'] = 'display_data';\n",
              "          await google.colab.output.renderOutput(dataTable, element);\n",
              "          const docLink = document.createElement('div');\n",
              "          docLink.innerHTML = docLinkHtml;\n",
              "          element.appendChild(docLink);\n",
              "        }\n",
              "      </script>\n",
              "    </div>\n",
              "  </div>\n",
              "  "
            ]
          },
          "metadata": {},
          "execution_count": 102
        }
      ]
    },
    {
      "cell_type": "code",
      "source": [
        "users.head()"
      ],
      "metadata": {
        "colab": {
          "base_uri": "https://localhost:8080/",
          "height": 206
        },
        "id": "If6EfaGp_jtY",
        "outputId": "23827f57-0d71-46a6-b4ad-c341f63967a8"
      },
      "execution_count": 103,
      "outputs": [
        {
          "output_type": "execute_result",
          "data": {
            "text/plain": [
              "   User   Factor1   Factor2   Factor3   Factor4   Factor5   Factor6   Factor7  \\\n",
              "0  4768 -0.204024  0.161079 -0.090447  0.138495 -0.162934  0.163894  0.051502   \n",
              "1   156 -0.189652 -0.178979 -0.091490 -0.000823 -0.032646  0.177209 -0.098123   \n",
              "2  5323 -0.115308 -0.090886 -0.053129  0.018472 -0.068081 -0.004828  0.113005   \n",
              "3   174 -0.227462 -0.272532 -0.017231  0.054324  0.214755 -0.072639 -0.033122   \n",
              "4  4529 -0.014616 -0.102218 -0.107935  0.155784 -0.123362 -0.118228 -0.013549   \n",
              "\n",
              "    Factor8   Factor9  Factor10  Factor11  Factor12  Factor13  Factor14  \\\n",
              "0 -0.088582  0.126829  0.065967  0.085008  0.355404  0.007108 -0.118663   \n",
              "1 -0.068283 -0.011575  0.120866 -0.009931 -0.048606  0.045916  0.113671   \n",
              "2  0.102107  0.034758  0.000693 -0.073712 -0.019460  0.108372  0.054471   \n",
              "3 -0.086508 -0.131479  0.180403  0.095890 -0.082396  0.036767 -0.165438   \n",
              "4 -0.050622  0.058698 -0.159600 -0.142382 -0.132836 -0.039897  0.129063   \n",
              "\n",
              "   Factor15  \n",
              "0 -0.039125  \n",
              "1  0.179873  \n",
              "2 -0.109552  \n",
              "3  0.050692  \n",
              "4  0.102669  "
            ],
            "text/html": [
              "\n",
              "  <div id=\"df-e99f1632-d97e-4e95-ac5d-4f5333d98156\">\n",
              "    <div class=\"colab-df-container\">\n",
              "      <div>\n",
              "<style scoped>\n",
              "    .dataframe tbody tr th:only-of-type {\n",
              "        vertical-align: middle;\n",
              "    }\n",
              "\n",
              "    .dataframe tbody tr th {\n",
              "        vertical-align: top;\n",
              "    }\n",
              "\n",
              "    .dataframe thead th {\n",
              "        text-align: right;\n",
              "    }\n",
              "</style>\n",
              "<table border=\"1\" class=\"dataframe\">\n",
              "  <thead>\n",
              "    <tr style=\"text-align: right;\">\n",
              "      <th></th>\n",
              "      <th>User</th>\n",
              "      <th>Factor1</th>\n",
              "      <th>Factor2</th>\n",
              "      <th>Factor3</th>\n",
              "      <th>Factor4</th>\n",
              "      <th>Factor5</th>\n",
              "      <th>Factor6</th>\n",
              "      <th>Factor7</th>\n",
              "      <th>Factor8</th>\n",
              "      <th>Factor9</th>\n",
              "      <th>Factor10</th>\n",
              "      <th>Factor11</th>\n",
              "      <th>Factor12</th>\n",
              "      <th>Factor13</th>\n",
              "      <th>Factor14</th>\n",
              "      <th>Factor15</th>\n",
              "    </tr>\n",
              "  </thead>\n",
              "  <tbody>\n",
              "    <tr>\n",
              "      <th>0</th>\n",
              "      <td>4768</td>\n",
              "      <td>-0.204024</td>\n",
              "      <td>0.161079</td>\n",
              "      <td>-0.090447</td>\n",
              "      <td>0.138495</td>\n",
              "      <td>-0.162934</td>\n",
              "      <td>0.163894</td>\n",
              "      <td>0.051502</td>\n",
              "      <td>-0.088582</td>\n",
              "      <td>0.126829</td>\n",
              "      <td>0.065967</td>\n",
              "      <td>0.085008</td>\n",
              "      <td>0.355404</td>\n",
              "      <td>0.007108</td>\n",
              "      <td>-0.118663</td>\n",
              "      <td>-0.039125</td>\n",
              "    </tr>\n",
              "    <tr>\n",
              "      <th>1</th>\n",
              "      <td>156</td>\n",
              "      <td>-0.189652</td>\n",
              "      <td>-0.178979</td>\n",
              "      <td>-0.091490</td>\n",
              "      <td>-0.000823</td>\n",
              "      <td>-0.032646</td>\n",
              "      <td>0.177209</td>\n",
              "      <td>-0.098123</td>\n",
              "      <td>-0.068283</td>\n",
              "      <td>-0.011575</td>\n",
              "      <td>0.120866</td>\n",
              "      <td>-0.009931</td>\n",
              "      <td>-0.048606</td>\n",
              "      <td>0.045916</td>\n",
              "      <td>0.113671</td>\n",
              "      <td>0.179873</td>\n",
              "    </tr>\n",
              "    <tr>\n",
              "      <th>2</th>\n",
              "      <td>5323</td>\n",
              "      <td>-0.115308</td>\n",
              "      <td>-0.090886</td>\n",
              "      <td>-0.053129</td>\n",
              "      <td>0.018472</td>\n",
              "      <td>-0.068081</td>\n",
              "      <td>-0.004828</td>\n",
              "      <td>0.113005</td>\n",
              "      <td>0.102107</td>\n",
              "      <td>0.034758</td>\n",
              "      <td>0.000693</td>\n",
              "      <td>-0.073712</td>\n",
              "      <td>-0.019460</td>\n",
              "      <td>0.108372</td>\n",
              "      <td>0.054471</td>\n",
              "      <td>-0.109552</td>\n",
              "    </tr>\n",
              "    <tr>\n",
              "      <th>3</th>\n",
              "      <td>174</td>\n",
              "      <td>-0.227462</td>\n",
              "      <td>-0.272532</td>\n",
              "      <td>-0.017231</td>\n",
              "      <td>0.054324</td>\n",
              "      <td>0.214755</td>\n",
              "      <td>-0.072639</td>\n",
              "      <td>-0.033122</td>\n",
              "      <td>-0.086508</td>\n",
              "      <td>-0.131479</td>\n",
              "      <td>0.180403</td>\n",
              "      <td>0.095890</td>\n",
              "      <td>-0.082396</td>\n",
              "      <td>0.036767</td>\n",
              "      <td>-0.165438</td>\n",
              "      <td>0.050692</td>\n",
              "    </tr>\n",
              "    <tr>\n",
              "      <th>4</th>\n",
              "      <td>4529</td>\n",
              "      <td>-0.014616</td>\n",
              "      <td>-0.102218</td>\n",
              "      <td>-0.107935</td>\n",
              "      <td>0.155784</td>\n",
              "      <td>-0.123362</td>\n",
              "      <td>-0.118228</td>\n",
              "      <td>-0.013549</td>\n",
              "      <td>-0.050622</td>\n",
              "      <td>0.058698</td>\n",
              "      <td>-0.159600</td>\n",
              "      <td>-0.142382</td>\n",
              "      <td>-0.132836</td>\n",
              "      <td>-0.039897</td>\n",
              "      <td>0.129063</td>\n",
              "      <td>0.102669</td>\n",
              "    </tr>\n",
              "  </tbody>\n",
              "</table>\n",
              "</div>\n",
              "      <button class=\"colab-df-convert\" onclick=\"convertToInteractive('df-e99f1632-d97e-4e95-ac5d-4f5333d98156')\"\n",
              "              title=\"Convert this dataframe to an interactive table.\"\n",
              "              style=\"display:none;\">\n",
              "        \n",
              "  <svg xmlns=\"http://www.w3.org/2000/svg\" height=\"24px\"viewBox=\"0 0 24 24\"\n",
              "       width=\"24px\">\n",
              "    <path d=\"M0 0h24v24H0V0z\" fill=\"none\"/>\n",
              "    <path d=\"M18.56 5.44l.94 2.06.94-2.06 2.06-.94-2.06-.94-.94-2.06-.94 2.06-2.06.94zm-11 1L8.5 8.5l.94-2.06 2.06-.94-2.06-.94L8.5 2.5l-.94 2.06-2.06.94zm10 10l.94 2.06.94-2.06 2.06-.94-2.06-.94-.94-2.06-.94 2.06-2.06.94z\"/><path d=\"M17.41 7.96l-1.37-1.37c-.4-.4-.92-.59-1.43-.59-.52 0-1.04.2-1.43.59L10.3 9.45l-7.72 7.72c-.78.78-.78 2.05 0 2.83L4 21.41c.39.39.9.59 1.41.59.51 0 1.02-.2 1.41-.59l7.78-7.78 2.81-2.81c.8-.78.8-2.07 0-2.86zM5.41 20L4 18.59l7.72-7.72 1.47 1.35L5.41 20z\"/>\n",
              "  </svg>\n",
              "      </button>\n",
              "      \n",
              "  <style>\n",
              "    .colab-df-container {\n",
              "      display:flex;\n",
              "      flex-wrap:wrap;\n",
              "      gap: 12px;\n",
              "    }\n",
              "\n",
              "    .colab-df-convert {\n",
              "      background-color: #E8F0FE;\n",
              "      border: none;\n",
              "      border-radius: 50%;\n",
              "      cursor: pointer;\n",
              "      display: none;\n",
              "      fill: #1967D2;\n",
              "      height: 32px;\n",
              "      padding: 0 0 0 0;\n",
              "      width: 32px;\n",
              "    }\n",
              "\n",
              "    .colab-df-convert:hover {\n",
              "      background-color: #E2EBFA;\n",
              "      box-shadow: 0px 1px 2px rgba(60, 64, 67, 0.3), 0px 1px 3px 1px rgba(60, 64, 67, 0.15);\n",
              "      fill: #174EA6;\n",
              "    }\n",
              "\n",
              "    [theme=dark] .colab-df-convert {\n",
              "      background-color: #3B4455;\n",
              "      fill: #D2E3FC;\n",
              "    }\n",
              "\n",
              "    [theme=dark] .colab-df-convert:hover {\n",
              "      background-color: #434B5C;\n",
              "      box-shadow: 0px 1px 3px 1px rgba(0, 0, 0, 0.15);\n",
              "      filter: drop-shadow(0px 1px 2px rgba(0, 0, 0, 0.3));\n",
              "      fill: #FFFFFF;\n",
              "    }\n",
              "  </style>\n",
              "\n",
              "      <script>\n",
              "        const buttonEl =\n",
              "          document.querySelector('#df-e99f1632-d97e-4e95-ac5d-4f5333d98156 button.colab-df-convert');\n",
              "        buttonEl.style.display =\n",
              "          google.colab.kernel.accessAllowed ? 'block' : 'none';\n",
              "\n",
              "        async function convertToInteractive(key) {\n",
              "          const element = document.querySelector('#df-e99f1632-d97e-4e95-ac5d-4f5333d98156');\n",
              "          const dataTable =\n",
              "            await google.colab.kernel.invokeFunction('convertToInteractive',\n",
              "                                                     [key], {});\n",
              "          if (!dataTable) return;\n",
              "\n",
              "          const docLinkHtml = 'Like what you see? Visit the ' +\n",
              "            '<a target=\"_blank\" href=https://colab.research.google.com/notebooks/data_table.ipynb>data table notebook</a>'\n",
              "            + ' to learn more about interactive tables.';\n",
              "          element.innerHTML = '';\n",
              "          dataTable['output_type'] = 'display_data';\n",
              "          await google.colab.output.renderOutput(dataTable, element);\n",
              "          const docLink = document.createElement('div');\n",
              "          docLink.innerHTML = docLinkHtml;\n",
              "          element.appendChild(docLink);\n",
              "        }\n",
              "      </script>\n",
              "    </div>\n",
              "  </div>\n",
              "  "
            ]
          },
          "metadata": {},
          "execution_count": 103
        }
      ]
    },
    {
      "cell_type": "code",
      "source": [
        "items[items['Movie ID'] == 36657]['Factor6']"
      ],
      "metadata": {
        "colab": {
          "base_uri": "https://localhost:8080/"
        },
        "id": "y7v7iQCA_luR",
        "outputId": "557d29c8-4d86-4e23-9b07-c61d4a6e2f55"
      },
      "execution_count": 177,
      "outputs": [
        {
          "output_type": "execute_result",
          "data": {
            "text/plain": [
              "97   -0.973154\n",
              "Name: Factor6, dtype: float64"
            ]
          },
          "metadata": {},
          "execution_count": 177
        }
      ]
    },
    {
      "cell_type": "code",
      "source": [
        "items['Factor7'].idxmin(),items['Factor7'].min()"
      ],
      "metadata": {
        "colab": {
          "base_uri": "https://localhost:8080/"
        },
        "id": "1TzgFLTw_24w",
        "outputId": "72c3a746-bcc9-4f70-eb73-3b06a2ed6080"
      },
      "execution_count": 112,
      "outputs": [
        {
          "output_type": "execute_result",
          "data": {
            "text/plain": [
              "(79, -2.001102294272314)"
            ]
          },
          "metadata": {},
          "execution_count": 112
        }
      ]
    },
    {
      "cell_type": "code",
      "source": [
        "items['Factor1'].idxmax(),items['Factor1'].max()"
      ],
      "metadata": {
        "colab": {
          "base_uri": "https://localhost:8080/"
        },
        "id": "hEXMC5rrdzyg",
        "outputId": "81863084-573a-44d3-ab6d-1a3641048fb8"
      },
      "execution_count": 179,
      "outputs": [
        {
          "output_type": "execute_result",
          "data": {
            "text/plain": [
              "(86, 4.023814610272081)"
            ]
          },
          "metadata": {},
          "execution_count": 179
        }
      ]
    },
    {
      "cell_type": "code",
      "source": [
        "items.iloc[86,:]"
      ],
      "metadata": {
        "colab": {
          "base_uri": "https://localhost:8080/"
        },
        "id": "Anql-CSTANa4",
        "outputId": "6a6381ed-2978-4c5b-8d81-373298e7102d"
      },
      "execution_count": 180,
      "outputs": [
        {
          "output_type": "execute_result",
          "data": {
            "text/plain": [
              "Movie ID                       4327\n",
              "Title       Charlie's Angels (2000)\n",
              "Factor1                    4.023815\n",
              "Factor2                    0.882963\n",
              "Factor3                    1.138274\n",
              "Factor4                   -0.431058\n",
              "Factor5                    0.208086\n",
              "Factor6                   -0.853887\n",
              "Factor7                   -0.590821\n",
              "Factor8                    0.416106\n",
              "Factor9                     0.38739\n",
              "Factor10                   0.522155\n",
              "Factor11                  -0.379812\n",
              "Factor12                  -0.567725\n",
              "Factor13                  -1.007534\n",
              "Factor14                   0.794589\n",
              "Factor15                  -2.247246\n",
              "Name: 86, dtype: object"
            ]
          },
          "metadata": {},
          "execution_count": 180
        }
      ]
    },
    {
      "cell_type": "code",
      "source": [
        ""
      ],
      "metadata": {
        "id": "uG8MRe4WDlHm"
      },
      "execution_count": null,
      "outputs": []
    },
    {
      "cell_type": "code",
      "source": [
        "users[users['User'] == 4768].iloc[:,1:].values"
      ],
      "metadata": {
        "colab": {
          "base_uri": "https://localhost:8080/"
        },
        "id": "u_fqKNg-DlTY",
        "outputId": "7ad103fa-aa20-49e8-fe9f-8194909f99b9"
      },
      "execution_count": 137,
      "outputs": [
        {
          "output_type": "execute_result",
          "data": {
            "text/plain": [
              "array([[-0.20402409,  0.16107871, -0.0904475 ,  0.13849453, -0.16293366,\n",
              "         0.1638944 ,  0.05150182, -0.08858222,  0.126829  ,  0.06596709,\n",
              "         0.08500812,  0.35540448,  0.007108  , -0.1186634 , -0.03912536]])"
            ]
          },
          "metadata": {},
          "execution_count": 137
        }
      ]
    },
    {
      "cell_type": "code",
      "source": [
        "def predict_rating(user, item):\n",
        "  \"\"\" Predict a rating \"\"\"\n",
        "  user_values = users[users['User'] == user].iloc[:,1:].values\n",
        "  item_values = items[items['Movie ID'] == item].iloc[:,2:].values\n",
        "  return user_values.dot(np.transpose(item_values))[0][0]\n"
      ],
      "metadata": {
        "id": "6da_fJcxDbiW"
      },
      "execution_count": 156,
      "outputs": []
    },
    {
      "cell_type": "code",
      "source": [
        "user = 3878\n",
        "item = 10020\n",
        "predict_rating(user, item)"
      ],
      "metadata": {
        "colab": {
          "base_uri": "https://localhost:8080/"
        },
        "id": "qR_8BbADFZR7",
        "outputId": "1e4923ab-aff8-4ffb-ec4e-992811a34ec2"
      },
      "execution_count": 181,
      "outputs": [
        {
          "output_type": "execute_result",
          "data": {
            "text/plain": [
              "0.12930619034729204"
            ]
          },
          "metadata": {},
          "execution_count": 181
        }
      ]
    },
    {
      "cell_type": "code",
      "source": [
        "user = 783\n",
        "item = 664\n",
        "predict_rating(user, item)"
      ],
      "metadata": {
        "colab": {
          "base_uri": "https://localhost:8080/"
        },
        "id": "_OHpDbG6Fd1p",
        "outputId": "2d2a8ae4-2452-4307-e2d6-1a30ddd47ac9"
      },
      "execution_count": 183,
      "outputs": [
        {
          "output_type": "execute_result",
          "data": {
            "text/plain": [
              "-0.2042891885325195"
            ]
          },
          "metadata": {},
          "execution_count": 183
        }
      ]
    },
    {
      "cell_type": "code",
      "source": [
        "user = 3878\n",
        "ratings = []\n",
        "for row in range(len(items)):\n",
        "  item_id = (items.iloc[row,0])\n",
        "  r = predict_rating(user, item_id)\n",
        "  ratings.append(r)\n"
      ],
      "metadata": {
        "id": "3MoL90aoGk6M"
      },
      "execution_count": 170,
      "outputs": []
    },
    {
      "cell_type": "code",
      "source": [
        "np.array(ratings)"
      ],
      "metadata": {
        "colab": {
          "base_uri": "https://localhost:8080/"
        },
        "id": "kCpBEQCcHLq2",
        "outputId": "4a5c6ff7-1e6d-4167-bf69-381c60caf6dc"
      },
      "execution_count": 171,
      "outputs": [
        {
          "output_type": "execute_result",
          "data": {
            "text/plain": [
              "array([ 6.19344289e-01,  3.96214053e-01,  2.05783903e-01, -7.84492732e-02,\n",
              "       -6.86051968e-01,  2.21596664e-01,  7.34459876e-02,  1.54849873e-01,\n",
              "        4.23937185e-01,  7.74292199e-01,  1.36075867e-01,  9.28982787e-01,\n",
              "        3.26437210e-01, -6.53104828e-02, -1.99243282e+00, -2.06115001e+00,\n",
              "       -1.98016804e+00,  1.36740227e-01,  1.99943831e-01, -5.59330427e-01,\n",
              "       -1.30809249e-01,  8.44621440e-01,  3.21202545e-02, -2.48359887e-01,\n",
              "       -1.13856770e-01, -1.38316511e-01,  3.69218542e-02,  4.17017992e-01,\n",
              "        7.02340327e-02,  1.00538903e-02,  6.04942393e-01,  3.37497508e-01,\n",
              "        3.62405646e-01,  5.58140657e-01,  6.31850992e-01,  8.17604171e-01,\n",
              "        3.95572818e-02, -1.07795320e+00,  3.45319212e-01, -1.19407699e-01,\n",
              "       -1.97429618e-01,  5.52431258e-01, -6.80479610e-01, -1.00238852e+00,\n",
              "        2.15949674e-01, -1.16421041e-01,  1.30240200e-01, -1.26943274e-01,\n",
              "        3.87590826e-01,  3.07874513e-01, -3.09976232e-01, -1.79201248e+00,\n",
              "       -3.03905917e-02,  4.91654725e-01,  2.92707782e-01,  7.92471995e-02,\n",
              "       -3.85048438e-01, -1.37199165e-01, -1.80673393e-01,  5.83364689e-01,\n",
              "        2.28548247e-01, -9.38850946e-02, -9.21997005e-02,  7.14742358e-02,\n",
              "        4.16055713e-01, -4.36375511e-02, -4.30571644e-01,  2.85558801e-01,\n",
              "        5.12009984e-02,  2.16029584e-01,  6.75617613e-01, -1.44503042e-01,\n",
              "       -8.00315450e-01,  5.06230192e-01,  2.28385453e-01,  1.71298864e-01,\n",
              "        4.29220331e-02,  5.62888471e-01,  4.71274794e-01, -9.66949811e-01,\n",
              "       -6.05956766e-02, -3.37117752e-01, -6.43111172e-03,  1.89960407e-01,\n",
              "        2.02102325e-02,  6.70933306e-01, -1.23451297e+00,  3.64138542e-01,\n",
              "       -1.77105192e-01, -8.28610630e-04,  8.74464901e-01,  4.10669686e-01,\n",
              "       -1.87043467e-02, -2.56986911e-01, -8.45814680e-02,  3.63791049e-01,\n",
              "        1.29306190e-01, -3.76226986e-01, -5.55635620e-01,  1.93396049e-01])"
            ]
          },
          "metadata": {},
          "execution_count": 171
        }
      ]
    },
    {
      "cell_type": "code",
      "source": [
        "np.sort(np.array(ratings))"
      ],
      "metadata": {
        "colab": {
          "base_uri": "https://localhost:8080/"
        },
        "id": "Yl_iSFteIT-q",
        "outputId": "a696f48b-7aa5-4f22-c50c-96f9f1726d03"
      },
      "execution_count": 172,
      "outputs": [
        {
          "output_type": "execute_result",
          "data": {
            "text/plain": [
              "array([-2.06115001e+00, -1.99243282e+00, -1.98016804e+00, -1.79201248e+00,\n",
              "       -1.23451297e+00, -1.07795320e+00, -1.00238852e+00, -9.66949811e-01,\n",
              "       -8.00315450e-01, -6.86051968e-01, -6.80479610e-01, -5.59330427e-01,\n",
              "       -5.55635620e-01, -4.30571644e-01, -3.85048438e-01, -3.76226986e-01,\n",
              "       -3.37117752e-01, -3.09976232e-01, -2.56986911e-01, -2.48359887e-01,\n",
              "       -1.97429618e-01, -1.80673393e-01, -1.77105192e-01, -1.44503042e-01,\n",
              "       -1.38316511e-01, -1.37199165e-01, -1.30809249e-01, -1.26943274e-01,\n",
              "       -1.19407699e-01, -1.16421041e-01, -1.13856770e-01, -9.38850946e-02,\n",
              "       -9.21997005e-02, -8.45814680e-02, -7.84492732e-02, -6.53104828e-02,\n",
              "       -6.05956766e-02, -4.36375511e-02, -3.03905917e-02, -1.87043467e-02,\n",
              "       -6.43111172e-03, -8.28610630e-04,  1.00538903e-02,  2.02102325e-02,\n",
              "        3.21202545e-02,  3.69218542e-02,  3.95572818e-02,  4.29220331e-02,\n",
              "        5.12009984e-02,  7.02340327e-02,  7.14742358e-02,  7.34459876e-02,\n",
              "        7.92471995e-02,  1.29306190e-01,  1.30240200e-01,  1.36075867e-01,\n",
              "        1.36740227e-01,  1.54849873e-01,  1.71298864e-01,  1.89960407e-01,\n",
              "        1.93396049e-01,  1.99943831e-01,  2.05783903e-01,  2.15949674e-01,\n",
              "        2.16029584e-01,  2.21596664e-01,  2.28385453e-01,  2.28548247e-01,\n",
              "        2.85558801e-01,  2.92707782e-01,  3.07874513e-01,  3.26437210e-01,\n",
              "        3.37497508e-01,  3.45319212e-01,  3.62405646e-01,  3.63791049e-01,\n",
              "        3.64138542e-01,  3.87590826e-01,  3.96214053e-01,  4.10669686e-01,\n",
              "        4.16055713e-01,  4.17017992e-01,  4.23937185e-01,  4.71274794e-01,\n",
              "        4.91654725e-01,  5.06230192e-01,  5.52431258e-01,  5.58140657e-01,\n",
              "        5.62888471e-01,  5.83364689e-01,  6.04942393e-01,  6.19344289e-01,\n",
              "        6.31850992e-01,  6.70933306e-01,  6.75617613e-01,  7.74292199e-01,\n",
              "        8.17604171e-01,  8.44621440e-01,  8.74464901e-01,  9.28982787e-01])"
            ]
          },
          "metadata": {},
          "execution_count": 172
        }
      ]
    },
    {
      "cell_type": "code",
      "source": [
        "np.argsort(np.array(ratings))"
      ],
      "metadata": {
        "colab": {
          "base_uri": "https://localhost:8080/"
        },
        "id": "5QyLJ3-aLYDY",
        "outputId": "51b9ba54-e945-4813-c29a-cc4b65dd590f"
      },
      "execution_count": 173,
      "outputs": [
        {
          "output_type": "execute_result",
          "data": {
            "text/plain": [
              "array([15, 14, 16, 51, 86, 37, 43, 79, 72,  4, 42, 19, 98, 66, 56, 97, 81,\n",
              "       50, 93, 23, 40, 58, 88, 71, 25, 57, 20, 47, 39, 45, 24, 61, 62, 94,\n",
              "        3, 13, 80, 65, 52, 92, 82, 89, 29, 84, 22, 26, 36, 76, 68, 28, 63,\n",
              "        6, 55, 96, 46, 10, 17,  7, 75, 83, 99, 18,  2, 44, 69,  5, 74, 60,\n",
              "       67, 54, 49, 12, 31, 38, 32, 95, 87, 48,  1, 91, 64, 27,  8, 78, 53,\n",
              "       73, 41, 33, 77, 59, 30,  0, 34, 85, 70,  9, 35, 21, 90, 11])"
            ]
          },
          "metadata": {},
          "execution_count": 173
        }
      ]
    },
    {
      "cell_type": "code",
      "source": [
        "np.array(ratings)[11]"
      ],
      "metadata": {
        "colab": {
          "base_uri": "https://localhost:8080/"
        },
        "id": "Y-jj8Ry4LjSE",
        "outputId": "ece421bd-f5bb-48f8-f73e-da6a061d62c6"
      },
      "execution_count": 174,
      "outputs": [
        {
          "output_type": "execute_result",
          "data": {
            "text/plain": [
              "0.9289827867793357"
            ]
          },
          "metadata": {},
          "execution_count": 174
        }
      ]
    },
    {
      "cell_type": "code",
      "source": [
        "items.iloc[10,1]"
      ],
      "metadata": {
        "colab": {
          "base_uri": "https://localhost:8080/",
          "height": 34
        },
        "id": "OjMnjAmSLs1v",
        "outputId": "597af3a9-9033-40fa-c260-bcb4ebfc6246"
      },
      "execution_count": 175,
      "outputs": [
        {
          "output_type": "execute_result",
          "data": {
            "text/plain": [
              "'Gladiator (2000)'"
            ],
            "application/vnd.google.colaboratory.intrinsic+json": {
              "type": "string"
            }
          },
          "metadata": {},
          "execution_count": 175
        }
      ]
    },
    {
      "cell_type": "code",
      "source": [
        ""
      ],
      "metadata": {
        "id": "8KCs77DSMEw_"
      },
      "execution_count": null,
      "outputs": []
    }
  ],
  "metadata": {
    "colab": {
      "collapsed_sections": [],
      "name": "my_recommender.ipynb",
      "provenance": [],
      "authorship_tag": "ABX9TyMnh61Aze/E3+2h4LokwsSZ",
      "include_colab_link": true
    },
    "kernelspec": {
      "display_name": "Python 3",
      "name": "python3"
    },
    "language_info": {
      "name": "python"
    }
  },
  "nbformat": 4,
  "nbformat_minor": 0
}