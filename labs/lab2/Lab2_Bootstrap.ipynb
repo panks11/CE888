{
  "nbformat": 4,
  "nbformat_minor": 0,
  "metadata": {
    "colab": {
      "name": "Bootstrap.ipynb",
      "provenance": [],
      "collapsed_sections": [],
      "include_colab_link": true
    },
    "kernelspec": {
      "display_name": "Python 3",
      "language": "python",
      "name": "python3"
    },
    "language_info": {
      "codemirror_mode": {
        "name": "ipython",
        "version": 3
      },
      "file_extension": ".py",
      "mimetype": "text/x-python",
      "name": "python",
      "nbconvert_exporter": "python",
      "pygments_lexer": "ipython3",
      "version": "3.7.6"
    },
    "pycharm": {
      "stem_cell": {
        "cell_type": "raw",
        "metadata": {
          "collapsed": false
        },
        "source": []
      }
    }
  },
  "cells": [
    {
      "cell_type": "markdown",
      "metadata": {
        "id": "view-in-github",
        "colab_type": "text"
      },
      "source": [
        "<a href=\"https://colab.research.google.com/github/panks11/CE888/blob/main/labs/Lab1_Bootstrap.ipynb\" target=\"_parent\"><img src=\"https://colab.research.google.com/assets/colab-badge.svg\" alt=\"Open In Colab\"/></a>"
      ]
    },
    {
      "cell_type": "markdown",
      "metadata": {
        "id": "nCi_99yMYIb1"
      },
      "source": [
        "In this notebook you'll create your own bootstrap function following the bootstrap algorithm (check the lecture notes!)"
      ]
    },
    {
      "cell_type": "code",
      "metadata": {
        "id": "LY5zujI2YC37",
        "pycharm": {
          "name": "#%%# Imports\n"
        }
      },
      "source": [
        "import matplotlib\n",
        "import pandas as pd\n",
        "import seaborn as sns\n",
        "import numpy as np\n",
        "\n"
      ],
      "execution_count": 2,
      "outputs": []
    },
    {
      "cell_type": "code",
      "metadata": {
        "id": "Eqkwj4SMY38t"
      },
      "source": [
        "# Load the data\n",
        "df = pd.read_csv('https://raw.githubusercontent.com/albanda/CE888/master/lab2%20-%20bootstrap/customers.csv')\n",
        "data = df.values.T[1]"
      ],
      "execution_count": 3,
      "outputs": []
    },
    {
      "cell_type": "code",
      "source": [
        "\n",
        "print(30*'*')\n",
        "print('Data Info')\n",
        "print('2 Columns Day and Sales , 14 Records/Rows')\n",
        "print(30*'*')\n",
        "print(df.info())\n",
        "print(30*'*')\n",
        "print('Data Statistics')\n",
        "print(30*'*')\n",
        "print(df.describe())\n",
        "print(30*'*')\n",
        "\n",
        "print(30*'*')\n",
        "print('Sample Data')\n",
        "print(30*'*')\n",
        "print(df.head())"
      ],
      "metadata": {
        "id": "haD_Ifwhhjlt",
        "outputId": "3c2203e7-7057-40d9-c91b-859b18d61b36",
        "colab": {
          "base_uri": "https://localhost:8080/"
        }
      },
      "execution_count": 4,
      "outputs": [
        {
          "output_type": "stream",
          "name": "stdout",
          "text": [
            "******************************\n",
            "Data Info\n",
            "2 Columns Day and Sales , 14 Records/Rows\n",
            "******************************\n",
            "<class 'pandas.core.frame.DataFrame'>\n",
            "RangeIndex: 14 entries, 0 to 13\n",
            "Data columns (total 2 columns):\n",
            " #   Column                       Non-Null Count  Dtype  \n",
            "---  ------                       --------------  -----  \n",
            " 0   Day                          14 non-null     int64  \n",
            " 1    Millons of pounds in sales  14 non-null     float64\n",
            "dtypes: float64(1), int64(1)\n",
            "memory usage: 352.0 bytes\n",
            "None\n",
            "******************************\n",
            "Data Statistics\n",
            "******************************\n",
            "           Day   Millons of pounds in sales\n",
            "count  14.0000                    14.000000\n",
            "mean    7.5000                     9.214286\n",
            "std     4.1833                     5.898873\n",
            "min     1.0000                     2.000000\n",
            "25%     4.2500                     5.500000\n",
            "50%     7.5000                     8.500000\n",
            "75%    10.7500                    10.000000\n",
            "max    14.0000                    22.000000\n",
            "******************************\n",
            "******************************\n",
            "Sample Data\n",
            "******************************\n",
            "   Day   Millons of pounds in sales\n",
            "0    1                          2.0\n",
            "1    2                          8.0\n",
            "2    3                         20.0\n",
            "3    4                         13.0\n",
            "4    5                          5.0\n"
          ]
        }
      ]
    },
    {
      "cell_type": "code",
      "metadata": {
        "id": "Gxvc_bScYC4H",
        "pycharm": {
          "name": "#%%\n"
        }
      },
      "source": [
        "\n",
        "# Checking the notes from the lecture, create here your own bootstrap function:\n",
        "# 1. Sample from the input array x to create an array of samples of shape (n_bootstraps, sample_size)\n",
        "# Hint: Check the function random.choice() on Numpy\n",
        "# 2. Calculate and save the mean of the array (this is \"data_mean\" that is returned by the function)\n",
        "# 3. Calculate the mean from each bootstrap (i.e., row) and store it.\n",
        "# (This should be an array of n_bootstraps values)\n",
        "# 4. Calculate the lower and upper bounds for a 95% CI (hint: check the percentile function on Numpy)\n",
        "# 5. Return data_mean, and the lower and upper bounds of your interval\n",
        "def bootstrap_mean(x, sample_size, n_bootstraps):\n",
        "\t# <---INSERT YOUR CODE HERE--->\n",
        "\tarr = np.zeros((n_bootstraps, sample_size))\n",
        "\tfor bootstraps in range(n_bootstraps):\n",
        "\t\tarr[bootstraps,:] = np.random.choice(x,sample_size)\n",
        "\tdata_mean = np.mean(arr)\n",
        "\tlower = np.percentile(np.mean(arr,axis=1),2.5)\n",
        "\tupper = np.percentile(np.mean(arr,axis=1),97.5)\n",
        "\treturn data_mean, lower, upper\n"
      ],
      "execution_count": 5,
      "outputs": []
    },
    {
      "cell_type": "code",
      "metadata": {
        "id": "AN7sEOcMYC4P",
        "pycharm": {
          "name": "#%%\n"
        },
        "outputId": "a8ec5df0-3002-4e5d-87b8-45cc447ee3fa",
        "colab": {
          "base_uri": "https://localhost:8080/",
          "height": 441
        }
      },
      "source": [
        "# Call your bootstrap function and plot the results\n",
        "\n",
        "boots = []\n",
        "for i in range(100, 50000, 1000):\n",
        "    boot = bootstrap_mean(data, data.shape[0], i)\n",
        "    boots.append([i, boot[0], \"mean\"])\n",
        "    boots.append([i, boot[1], \"lower\"])\n",
        "    boots.append([i, boot[2], \"upper\"])\n",
        "\n",
        "df_boot = pd.DataFrame(boots, columns=['Bootstrap Iterations', 'Mean', \"Value\"])\n",
        "sns_plot = sns.lmplot(df_boot.columns[0], df_boot.columns[1], data=df_boot, fit_reg=False, hue=\"Value\")\n",
        "\n",
        "sns_plot.axes[0, 0].set_ylim(0,)\n",
        "sns_plot.axes[0, 0].set_xlim(0, 50000)\n"
      ],
      "execution_count": null,
      "outputs": [
        {
          "output_type": "stream",
          "name": "stderr",
          "text": [
            "/usr/local/lib/python3.7/dist-packages/seaborn/_decorators.py:43: FutureWarning: Pass the following variables as keyword args: x, y. From version 0.12, the only valid positional argument will be `data`, and passing other arguments without an explicit keyword will result in an error or misinterpretation.\n",
            "  FutureWarning\n"
          ]
        },
        {
          "output_type": "execute_result",
          "data": {
            "text/plain": [
              "(0.0, 50000.0)"
            ]
          },
          "metadata": {},
          "execution_count": 22
        },
        {
          "output_type": "display_data",
          "data": {
            "image/png": "[encoded data removed]",
            "text/plain": [
              "<Figure size 425.125x360 with 1 Axes>"
            ]
          },
          "metadata": {
            "needs_background": "light"
          }
        }
      ]
    },
    {
      "cell_type": "markdown",
      "metadata": {
        "id": "MjtP4e2_YC4V"
      },
      "source": [
        "\n",
        "Now, modify the bootstrap function you created above so that you can pass your desired confidence interval as a parameter.\n",
        "\n"
      ]
    },
    {
      "cell_type": "code",
      "metadata": {
        "id": "3K9j0FuGYhHs"
      },
      "source": [
        "def bootstrap_mean_ci(sample, sample_size, n_bootstraps, ci):\n",
        "\t# <---INSERT YOUR CODE HERE--->\n",
        "\t\n",
        "\tarr = np.zeros((n_bootstraps, sample_size))\n",
        "\tfor bootstraps in range(n_bootstraps):\n",
        "\t\tarr[bootstraps,:] = np.random.choice(sample,sample_size)\n",
        "\tdata_mean = np.mean(arr)\n",
        "\tlower = np.percentile(np.mean(arr,axis=1),((100-ci)/2))\n",
        "\tupper = np.percentile(np.mean(arr,axis=1),(100 - (100-ci)/2))\n",
        "\treturn data_mean, lower, upper"
      ],
      "execution_count": 32,
      "outputs": []
    },
    {
      "cell_type": "code",
      "metadata": {
        "id": "uDnjq08GYl-C",
        "outputId": "6fa269ee-de17-44b3-dac4-bf84c9753dfc",
        "colab": {
          "base_uri": "https://localhost:8080/",
          "height": 441
        }
      },
      "source": [
        "boots = []\n",
        "for i in range(100, 50000, 1000):\n",
        "    boot = bootstrap_mean_ci(data, data.shape[0], i, 80)\n",
        "    boots.append([i, boot[0], \"mean\"])\n",
        "    boots.append([i, boot[1], \"lower\"])\n",
        "    boots.append([i, boot[2], \"upper\"])\n",
        "\n",
        "df_boot = pd.DataFrame(boots, columns=['Boostrap Iterations', 'Mean', \"Value\"])\n",
        "sns_plot = sns.lmplot(df_boot.columns[0], df_boot.columns[1], data=df_boot, fit_reg=False, hue=\"Value\")\n",
        "\n",
        "sns_plot.axes[0, 0].set_ylim(0,)\n",
        "sns_plot.axes[0, 0].set_xlim(0, 50000)\n",
        "\n",
        "#sns_plot.savefig(\"bootstrap_confidence_80.pdf\", bbox_inches='tight')\n"
      ],
      "execution_count": null,
      "outputs": [
        {
          "output_type": "stream",
          "name": "stderr",
          "text": [
            "/usr/local/lib/python3.7/dist-packages/seaborn/_decorators.py:43: FutureWarning: Pass the following variables as keyword args: x, y. From version 0.12, the only valid positional argument will be `data`, and passing other arguments without an explicit keyword will result in an error or misinterpretation.\n",
            "  FutureWarning\n"
          ]
        },
        {
          "output_type": "execute_result",
          "data": {
            "text/plain": [
              "(0.0, 50000.0)"
            ]
          },
          "metadata": {},
          "execution_count": 24
        },
        {
          "output_type": "display_data",
          "data": {
            "image/png": "[encoded data removed]",
            "text/plain": [
              "<Figure size 425.125x360 with 1 Axes>"
            ]
          },
          "metadata": {
            "needs_background": "light"
          }
        }
      ]
    },
    {
      "cell_type": "markdown",
      "metadata": {
        "id": "qjNgXW6wdd7r"
      },
      "source": [
        "# Vehicles dataset\n",
        "\n",
        "Now let's work on a different dataset, which is stored in the vehicles.csv file.\n"
      ]
    },
    {
      "cell_type": "code",
      "metadata": {
        "id": "avWv4ipFdpka"
      },
      "source": [
        "# Load and visualise the vehicles dataset\n",
        "# To load the dataset: https://neptune.ai/blog/google-colab-dealing-with-files (check section \"Load individual files directly from GitHub\")\n",
        "\n",
        "df2 =pd.read_csv('https://raw.githubusercontent.com/albanda/CE888/master/lab2%20-%20bootstrap/vehicles.csv')\n",
        "\n",
        "# Note that the current and new fleets are in different columns and have different lengths, so bear this in mind when you're plotting.\n",
        "# You can create separate scatterplots for the two fleets, as you would with the histograms, \n",
        "# or plot them both in one plot (but not one against the other).\n",
        "# <---INSERT YOUR CODE HERE--->\n",
        "# Note: you can add more cells as needed to organise your code and your plots\n"
      ],
      "execution_count": 16,
      "outputs": []
    },
    {
      "cell_type": "code",
      "source": [
        "print(30*'*')\n",
        "print('Data Info')\n",
        "print('2 Columns Current Fleet : 249 Non Null values and New Fleet : 79 non null values')\n",
        "print(30*'*')\n",
        "print(df2.info())\n",
        "print(30*'*')\n",
        "print('Data Statistics')\n",
        "print(30*'*')\n",
        "print(df2.describe())\n",
        "print(30*'*')\n",
        "\n",
        "print(30*'*')\n",
        "print('Sample Data')\n",
        "print(30*'*')\n",
        "print(df2.head())"
      ],
      "metadata": {
        "colab": {
          "base_uri": "https://localhost:8080/"
        },
        "id": "4Pfy-3U95tg4",
        "outputId": "8bc9be19-c15a-4040-9cd0-ecf1790f4e20"
      },
      "execution_count": 17,
      "outputs": [
        {
          "output_type": "stream",
          "name": "stdout",
          "text": [
            "******************************\n",
            "Data Info\n",
            "2 Columns Current Fleet : 249 Non Null values and New Fleet : 79 non null values\n",
            "******************************\n",
            "<class 'pandas.core.frame.DataFrame'>\n",
            "RangeIndex: 249 entries, 0 to 248\n",
            "Data columns (total 2 columns):\n",
            " #   Column         Non-Null Count  Dtype  \n",
            "---  ------         --------------  -----  \n",
            " 0   Current fleet  249 non-null    int64  \n",
            " 1   New Fleet      79 non-null     float64\n",
            "dtypes: float64(1), int64(1)\n",
            "memory usage: 4.0 KB\n",
            "None\n",
            "******************************\n",
            "Data Statistics\n",
            "******************************\n",
            "       Current fleet  New Fleet\n",
            "count     249.000000  79.000000\n",
            "mean       20.144578  30.481013\n",
            "std         6.414699   6.107710\n",
            "min         9.000000  18.000000\n",
            "25%        15.000000  25.500000\n",
            "50%        19.000000  32.000000\n",
            "75%        24.000000  34.000000\n",
            "max        39.000000  47.000000\n",
            "******************************\n",
            "******************************\n",
            "Sample Data\n",
            "******************************\n",
            "   Current fleet  New Fleet\n",
            "0             18       24.0\n",
            "1             15       27.0\n",
            "2             18       27.0\n",
            "3             16       25.0\n",
            "4             17       31.0\n"
          ]
        }
      ]
    },
    {
      "cell_type": "code",
      "source": [
        "print(\" New fleet - Range :{}  to {} \".format(df2['New Fleet'].min(),df2['New Fleet'].max()))\n",
        "print(\" Current fleet - Range : {} to {}\".format(df2['Current fleet'].min(),df2['Current fleet'].max()))"
      ],
      "metadata": {
        "colab": {
          "base_uri": "https://localhost:8080/"
        },
        "id": "jnuTa9cN-jIo",
        "outputId": "6294a409-948e-4db3-f52f-475217e19d64"
      },
      "execution_count": 18,
      "outputs": [
        {
          "output_type": "stream",
          "name": "stdout",
          "text": [
            " New fleet - Range :18.0  to 47.0 \n",
            " Current fleet - Range : 9 to 39\n"
          ]
        }
      ]
    },
    {
      "cell_type": "code",
      "source": [
        "c_fleet = df2['Current fleet']\n",
        "n_fleet = df2['New Fleet'].dropna()"
      ],
      "metadata": {
        "id": "pfUikJVeBwtg"
      },
      "execution_count": 19,
      "outputs": []
    },
    {
      "cell_type": "code",
      "source": [
        "sns.distplot(df2['Current fleet'],bins=20)"
      ],
      "metadata": {
        "colab": {
          "base_uri": "https://localhost:8080/",
          "height": 351
        },
        "id": "gpiHTYnu7Zxp",
        "outputId": "3ef149f4-7fd3-4bc3-ebde-d34f20d6cbd8"
      },
      "execution_count": 20,
      "outputs": [
        {
          "output_type": "stream",
          "name": "stderr",
          "text": [
            "/usr/local/lib/python3.7/dist-packages/seaborn/distributions.py:2619: FutureWarning: `distplot` is a deprecated function and will be removed in a future version. Please adapt your code to use either `displot` (a figure-level function with similar flexibility) or `histplot` (an axes-level function for histograms).\n",
            "  warnings.warn(msg, FutureWarning)\n"
          ]
        },
        {
          "output_type": "execute_result",
          "data": {
            "text/plain": [
              "<matplotlib.axes._subplots.AxesSubplot at 0x7fd59730f6d0>"
            ]
          },
          "metadata": {},
          "execution_count": 20
        },
        {
          "output_type": "display_data",
          "data": {
            "image/png": "[encoded data removed]",
            "text/plain": [
              "<Figure size 432x288 with 1 Axes>"
            ]
          },
          "metadata": {
            "needs_background": "light"
          }
        }
      ]
    },
    {
      "cell_type": "code",
      "source": [
        "sns.distplot(df2['New Fleet'].dropna(),bins=20)"
      ],
      "metadata": {
        "colab": {
          "base_uri": "https://localhost:8080/",
          "height": 351
        },
        "id": "f94JvMsN-K2R",
        "outputId": "db92ecaa-98af-42b0-d1e7-e3c43c683758"
      },
      "execution_count": 21,
      "outputs": [
        {
          "output_type": "stream",
          "name": "stderr",
          "text": [
            "/usr/local/lib/python3.7/dist-packages/seaborn/distributions.py:2619: FutureWarning: `distplot` is a deprecated function and will be removed in a future version. Please adapt your code to use either `displot` (a figure-level function with similar flexibility) or `histplot` (an axes-level function for histograms).\n",
            "  warnings.warn(msg, FutureWarning)\n"
          ]
        },
        {
          "output_type": "execute_result",
          "data": {
            "text/plain": [
              "<matplotlib.axes._subplots.AxesSubplot at 0x7fd5abfbc350>"
            ]
          },
          "metadata": {},
          "execution_count": 21
        },
        {
          "output_type": "display_data",
          "data": {
            "image/png": "[encoded data removed]",
            "text/plain": [
              "<Figure size 432x288 with 1 Axes>"
            ]
          },
          "metadata": {
            "needs_background": "light"
          }
        }
      ]
    },
    {
      "cell_type": "code",
      "source": [
        "sns.scatterplot(range(len(df2['Current fleet'])),df2['Current fleet'],label= 'Current Fleet')\n",
        "sns.scatterplot(range(len(df2['New Fleet'].dropna())),df2['New Fleet'].dropna(),label= 'New Fleet')"
      ],
      "metadata": {
        "colab": {
          "base_uri": "https://localhost:8080/",
          "height": 372
        },
        "id": "GvWOapDi84f9",
        "outputId": "72281531-7558-4851-8ba4-bc1ceee2d4de"
      },
      "execution_count": 22,
      "outputs": [
        {
          "output_type": "stream",
          "name": "stderr",
          "text": [
            "/usr/local/lib/python3.7/dist-packages/seaborn/_decorators.py:43: FutureWarning: Pass the following variables as keyword args: x, y. From version 0.12, the only valid positional argument will be `data`, and passing other arguments without an explicit keyword will result in an error or misinterpretation.\n",
            "  FutureWarning\n",
            "/usr/local/lib/python3.7/dist-packages/seaborn/_decorators.py:43: FutureWarning: Pass the following variables as keyword args: x, y. From version 0.12, the only valid positional argument will be `data`, and passing other arguments without an explicit keyword will result in an error or misinterpretation.\n",
            "  FutureWarning\n"
          ]
        },
        {
          "output_type": "execute_result",
          "data": {
            "text/plain": [
              "<matplotlib.axes._subplots.AxesSubplot at 0x7fd5944b2f50>"
            ]
          },
          "metadata": {},
          "execution_count": 22
        },
        {
          "output_type": "display_data",
          "data": {
            "image/png": "[encoded data removed]",
            "text/plain": [
              "<Figure size 432x288 with 1 Axes>"
            ]
          },
          "metadata": {
            "needs_background": "light"
          }
        }
      ]
    },
    {
      "cell_type": "markdown",
      "metadata": {
        "id": "B5d0tXDpIEj8"
      },
      "source": [
        "## Compare the two fleets\n",
        "\n",
        "The business analysts come up a comparison algorithm that requires the upper and lower bounds for the mean in order to say which fleet is better.\n",
        "1. Calculate the mean of both samples.\n",
        "2. Using the bootstrap function that you created:\n",
        "    - Construct the 95% CI of the mean of the current fleet.\n",
        "    - Construct the 95% CI of the mean of the new fleet.\n",
        "    - Are they comparable? (i.e., is one better than the other?) -- you can do this with a permutation test (check the lecture notes!)"
      ]
    },
    {
      "cell_type": "code",
      "source": [
        "print(np.mean(c_fleet))\n",
        "print(np.mean(n_fleet))"
      ],
      "metadata": {
        "colab": {
          "base_uri": "https://localhost:8080/"
        },
        "id": "s2-jd6w3DedT",
        "outputId": "52a3493b-a5a7-45aa-a366-5693c2c104ff"
      },
      "execution_count": 23,
      "outputs": [
        {
          "output_type": "stream",
          "name": "stdout",
          "text": [
            "20.14457831325301\n",
            "30.481012658227847\n"
          ]
        }
      ]
    },
    {
      "cell_type": "code",
      "source": [
        "print(\"Current Fleet: Mean , Lower , Upper : {}\".format(bootstrap_mean_ci(c_fleet, len(c_fleet), 10000, 95)))\n",
        "print(\"New Fleet: Mean , Lower , Upper : {}\".format(bootstrap_mean_ci(n_fleet, len(n_fleet), 10000, 95)))"
      ],
      "metadata": {
        "colab": {
          "base_uri": "https://localhost:8080/"
        },
        "id": "j2zACLMcCmWe",
        "outputId": "71bba52e-3d24-4599-a3e9-685999528531"
      },
      "execution_count": 24,
      "outputs": [
        {
          "output_type": "stream",
          "name": "stdout",
          "text": [
            "Current Fleet: Mean , Lower , Upper : (20.146228112449798, 19.3574297188755, 20.951907630522086)\n",
            "New Fleet: Mean , Lower , Upper : (30.488386075949368, 29.139240506329113, 31.81044303797468)\n"
          ]
        }
      ]
    },
    {
      "cell_type": "code",
      "metadata": {
        "id": "MkxvDZG4HC0n"
      },
      "source": [
        "# Create your own function for a permutation test here (you will need it for the lab quiz!):\n",
        "def permut_test(sample1, sample2, n_permutations):\n",
        "    \"\"\"\n",
        "    sample1: 1D array\n",
        "    sample2: 1D array (note that the size of the two arrays can be different)\n",
        "    n_permutations: number of permutations to calculate the p-value\n",
        "    \"\"\"\n",
        "    count = 0\n",
        "    t_obs = np.mean(sample2) - np.mean(sample1)\n",
        "    concat_arr =  np.concatenate((sample1,sample2))\n",
        "    for i in range(n_permutations):\n",
        "      perm_arr = np.random.permutation(concat_arr)\n",
        "      sample1_p = perm_arr[:len(sample1)]\n",
        "      sample2_p = perm_arr[len(sample1):]\n",
        "      t_new = np.mean(sample2_p) - np.mean(sample1_p)\n",
        "      # print(\"tnew : {} tobs :{}\".format(t_new,t_obs))\n",
        "      # print(\"sample1_p : {} sample1 :{}\".format(np.mean(sample1_p),np.mean(sample1)))\n",
        "      # print(\"sample2_p : {} sample2 :{}\".format(np.mean(sample2_p),np.mean(sample2)))\n",
        "      if t_new > t_obs:\n",
        "        count = count + 1\n",
        "\n",
        "    pvalue = count/n_permutations\n",
        "    return pvalue"
      ],
      "execution_count": 25,
      "outputs": []
    },
    {
      "cell_type": "code",
      "source": [
        "permut_test(c_fleet.values ,n_fleet.values,  1000000)"
      ],
      "metadata": {
        "colab": {
          "base_uri": "https://localhost:8080/"
        },
        "id": "KJWrN0xja0fk",
        "outputId": "ea4871d3-8cfc-4bd2-f2bd-0d47e9fd7cdc"
      },
      "execution_count": 76,
      "outputs": [
        {
          "output_type": "execute_result",
          "data": {
            "text/plain": [
              "0.0"
            ]
          },
          "metadata": {},
          "execution_count": 76
        }
      ]
    },
    {
      "cell_type": "code",
      "source": [
        "# Null Hypothesis: Current and New Fleet are same\n",
        "# Alternate Hypothesis : New Fleet is better\n",
        "# Since p < 0.05 , we reject the Null Hypothesis"
      ],
      "metadata": {
        "id": "yE3eOc-Ria9O"
      },
      "execution_count": null,
      "outputs": []
    },
    {
      "cell_type": "code",
      "source": [
        ""
      ],
      "metadata": {
        "id": "5mWEdNYF2vY0"
      },
      "execution_count": 34,
      "outputs": []
    },
    {
      "cell_type": "code",
      "source": [
        "# Quiz"
      ],
      "metadata": {
        "id": "GC8-HaCLAA73"
      },
      "execution_count": 74,
      "outputs": []
    },
    {
      "cell_type": "code",
      "source": [
        "def bootstrap_std_ci(sample, sample_size, n_bootstraps, ci):\n",
        "\t# <---INSERT YOUR CODE HERE--->\n",
        "\t\n",
        "\tarr = np.zeros((n_bootstraps, sample_size))\n",
        "\tfor bootstraps in range(n_bootstraps):\n",
        "\t\tarr[bootstraps,:] = np.random.choice(sample,sample_size)\n",
        "\tdata_mean = np.std(arr)\n",
        "\tlower = np.percentile(np.std(arr,axis=1),((100-ci)/2))\n",
        "\tupper = np.percentile(np.std(arr,axis=1),(100 - (100-ci)/2))\n",
        "\treturn data_mean, lower, upper"
      ],
      "metadata": {
        "id": "AewMrYQLAXQK"
      },
      "execution_count": 75,
      "outputs": []
    },
    {
      "cell_type": "code",
      "source": [
        "bootstrap_mean_ci(data, data.shape[0], 10000 , 95)"
      ],
      "metadata": {
        "id": "Zj-o-pYFAZR6"
      },
      "execution_count": null,
      "outputs": []
    },
    {
      "cell_type": "code",
      "source": [
        "bootstrap_std_ci(data, data.shape[0], 10000 , 73)"
      ],
      "metadata": {
        "id": "udMjSBKsAg0c"
      },
      "execution_count": null,
      "outputs": []
    },
    {
      "cell_type": "code",
      "source": [
        "dem_share_PA = [60.08, 40.64, 36.07, 41.21, 31.04, 43.78, 44.08, 46.85, 44.71, 46.15, 63.10, 52.20, 43.18, 40.24, 39.92, 47.87, 37.77, 40.11, 49.85, 48.61, 38.62, 54.25, 34.84, 47.75, 43.82, 55.97, 58.23, 42.97, 42.38, 36.11, 37.53, 42.65, 50.96, 47.43, 56.24, 45.60, 46.39, 35.22, 48.56, 32.97, 57.88, 36.05, 37.72, 50.36, 32.12, 41.55, 54.66, 57.81, 54.58, 32.88, 54.37, 40.45, 47.61, 60.49, 43.11, 27.32, 44.03, 33.56, 37.26, 54.64, 43.12, 25.34, 49.79, 83.56, 40.09, 60.81, 49.81]\n",
        "dem_share_OH = [56.94, 50.46, 65.99, 45.88, 42.23, 45.26, 57.01, 53.61, 59.10, 61.48, 43.43, 44.69, 54.59, 48.36, 45.89, 48.62, 43.92, 38.23, 28.79, 63.57, 38.07, 40.18, 43.05, 41.56, 42.49, 36.06, 52.76, 46.07, 39.43, 39.26, 47.47, 27.92, 38.01, 45.45, 29.07, 28.94, 51.28, 50.10, 39.84, 36.43, 35.71, 31.47, 47.01, 40.10, 48.76, 31.56, 39.86, 45.31, 35.47, 51.38, 46.33, 48.73, 41.77, 41.32, 48.46, 53.14, 34.01, 54.74, 40.67, 38.96, 46.29, 38.25, 6.80, 31.75, 46.33, 44.90, 33.57, 38.10, 39.67, 40.47, 49.44, 37.62, 36.71, 46.73, 42.20, 53.16, 52.40, 58.36, 68.02, 38.53, 34.58, 69.64, 60.50, 53.53, 36.54, 49.58, 41.97, 38.11]"
      ],
      "metadata": {
        "id": "MzR2tftMA8xK"
      },
      "execution_count": null,
      "outputs": []
    },
    {
      "cell_type": "code",
      "source": [
        "len(dem_share_PA)"
      ],
      "metadata": {
        "id": "k8MAcExIA82j"
      },
      "execution_count": null,
      "outputs": []
    },
    {
      "cell_type": "code",
      "source": [
        "len(dem_share_OH)"
      ],
      "metadata": {
        "id": "4G-qRhRlBC0K"
      },
      "execution_count": null,
      "outputs": []
    },
    {
      "cell_type": "code",
      "source": [
        "a = np.array(dem_share_PA)\n",
        "bootstrap_mean_ci(a, len(a), 25000, 90)"
      ],
      "metadata": {
        "colab": {
          "base_uri": "https://localhost:8080/"
        },
        "id": "PGQ8OriI3FCH",
        "outputId": "7d64b41a-a3f0-47e2-85f1-31133dcf372d"
      },
      "execution_count": 39,
      "outputs": [
        {
          "output_type": "execute_result",
          "data": {
            "text/plain": [
              "(45.469850973134314, 43.54670149253731, 47.454373134328364)"
            ]
          },
          "metadata": {},
          "execution_count": 39
        }
      ]
    },
    {
      "cell_type": "code",
      "source": [
        "b = np.array(dem_share_OH)\n",
        "bootstrap_mean_ci(b, len(b), 25000, 90)"
      ],
      "metadata": {
        "colab": {
          "base_uri": "https://localhost:8080/"
        },
        "id": "F32x135m4RCK",
        "outputId": "968c9463-b59b-4d81-9338-06d28e23e690"
      },
      "execution_count": 40,
      "outputs": [
        {
          "output_type": "execute_result",
          "data": {
            "text/plain": [
              "(44.30159228181818, 42.58464772727273, 46.03150568181818)"
            ]
          },
          "metadata": {},
          "execution_count": 40
        }
      ]
    },
    {
      "cell_type": "code",
      "source": [
        "permut_test(b, a, 20000)"
      ],
      "metadata": {
        "colab": {
          "base_uri": "https://localhost:8080/"
        },
        "id": "w2_HqSdQ4lMu",
        "outputId": "98634a22-cb71-43f3-a59f-0a700d235265"
      },
      "execution_count": 43,
      "outputs": [
        {
          "output_type": "execute_result",
          "data": {
            "text/plain": [
              "0.2342"
            ]
          },
          "metadata": {},
          "execution_count": 43
        }
      ]
    }
  ]
}