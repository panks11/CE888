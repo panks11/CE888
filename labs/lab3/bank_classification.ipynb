{
  "nbformat": 4,
  "nbformat_minor": 0,
  "metadata": {
    "colab": {
      "name": "Copy of bank_classification.ipynb",
      "provenance": [],
      "collapsed_sections": [],
      "authorship_tag": "ABX9TyPjmXgP4Z/Q3c4ytS4YktVj",
      "include_colab_link": true
    },
    "kernelspec": {
      "name": "python3",
      "display_name": "Python 3"
    },
    "language_info": {
      "name": "python"
    }
  },
  "cells": [
    {
      "cell_type": "markdown",
      "metadata": {
        "id": "view-in-github",
        "colab_type": "text"
      },
      "source": [
        "<a href=\"https://colab.research.google.com/github/panks11/CE888/blob/main/labs/lab3/bank_classification.ipynb\" target=\"_parent\"><img src=\"https://colab.research.google.com/assets/colab-badge.svg\" alt=\"Open In Colab\"/></a>"
      ]
    },
    {
      "cell_type": "code",
      "execution_count": 53,
      "metadata": {
        "id": "7IfWuKT1lltb"
      },
      "outputs": [],
      "source": [
        "import pandas as pd\n",
        "from sklearn.preprocessing import LabelEncoder,StandardScaler\n",
        "from sklearn.preprocessing import OneHotEncoder as en\n",
        "%matplotlib inline\n",
        "import matplotlib.pyplot as plt\n",
        "from sklearn.compose import ColumnTransformer\n",
        "from sklearn.model_selection import StratifiedShuffleSplit,cross_val_score,train_test_split\n",
        "from sklearn.ensemble import RandomForestClassifier\n",
        "from sklearn.metrics import make_scorer, confusion_matrix,SCORERS,accuracy_score as acc,f1_score,recall_score\n",
        "from sklearn.dummy import DummyClassifier\n",
        "import numpy as np\n",
        "import itertools"
      ]
    },
    {
      "cell_type": "markdown",
      "source": [
        "## Data Loading"
      ],
      "metadata": {
        "id": "7F87I2utvC5R"
      }
    },
    {
      "cell_type": "code",
      "source": [
        "bank_df = pd.read_csv('https://raw.githubusercontent.com/albanda/CE888/master/lab3/bank-additional-full.csv',delimiter=';')"
      ],
      "metadata": {
        "id": "yBxwfK3-nR0s"
      },
      "execution_count": 54,
      "outputs": []
    },
    {
      "cell_type": "code",
      "source": [
        "# ~Check Data Loading is correct\n",
        "bank_df.head(3)"
      ],
      "metadata": {
        "colab": {
          "base_uri": "https://localhost:8080/",
          "height": 143
        },
        "id": "6eQm58TYogj4",
        "outputId": "9a0034c9-a95e-46d6-e501-b4fde9748c7e"
      },
      "execution_count": 55,
      "outputs": [
        {
          "output_type": "execute_result",
          "data": {
            "text/html": [
              "\n",
              "  <div id=\"df-4b93943d-22d9-48c9-ba45-753a56899cd7\">\n",
              "    <div class=\"colab-df-container\">\n",
              "      <div>\n",
              "<style scoped>\n",
              "    .dataframe tbody tr th:only-of-type {\n",
              "        vertical-align: middle;\n",
              "    }\n",
              "\n",
              "    .dataframe tbody tr th {\n",
              "        vertical-align: top;\n",
              "    }\n",
              "\n",
              "    .dataframe thead th {\n",
              "        text-align: right;\n",
              "    }\n",
              "</style>\n",
              "<table border=\"1\" class=\"dataframe\">\n",
              "  <thead>\n",
              "    <tr style=\"text-align: right;\">\n",
              "      <th></th>\n",
              "      <th>age</th>\n",
              "      <th>job</th>\n",
              "      <th>marital</th>\n",
              "      <th>education</th>\n",
              "      <th>default</th>\n",
              "      <th>housing</th>\n",
              "      <th>loan</th>\n",
              "      <th>contact</th>\n",
              "      <th>month</th>\n",
              "      <th>day_of_week</th>\n",
              "      <th>duration</th>\n",
              "      <th>campaign</th>\n",
              "      <th>pdays</th>\n",
              "      <th>previous</th>\n",
              "      <th>poutcome</th>\n",
              "      <th>emp.var.rate</th>\n",
              "      <th>cons.price.idx</th>\n",
              "      <th>cons.conf.idx</th>\n",
              "      <th>euribor3m</th>\n",
              "      <th>nr.employed</th>\n",
              "      <th>y</th>\n",
              "    </tr>\n",
              "  </thead>\n",
              "  <tbody>\n",
              "    <tr>\n",
              "      <th>0</th>\n",
              "      <td>56</td>\n",
              "      <td>housemaid</td>\n",
              "      <td>married</td>\n",
              "      <td>basic.4y</td>\n",
              "      <td>no</td>\n",
              "      <td>no</td>\n",
              "      <td>no</td>\n",
              "      <td>telephone</td>\n",
              "      <td>may</td>\n",
              "      <td>mon</td>\n",
              "      <td>261</td>\n",
              "      <td>1</td>\n",
              "      <td>999</td>\n",
              "      <td>0</td>\n",
              "      <td>nonexistent</td>\n",
              "      <td>1.1</td>\n",
              "      <td>93.994</td>\n",
              "      <td>-36.4</td>\n",
              "      <td>4.857</td>\n",
              "      <td>5191.0</td>\n",
              "      <td>no</td>\n",
              "    </tr>\n",
              "    <tr>\n",
              "      <th>1</th>\n",
              "      <td>57</td>\n",
              "      <td>services</td>\n",
              "      <td>married</td>\n",
              "      <td>high.school</td>\n",
              "      <td>unknown</td>\n",
              "      <td>no</td>\n",
              "      <td>no</td>\n",
              "      <td>telephone</td>\n",
              "      <td>may</td>\n",
              "      <td>mon</td>\n",
              "      <td>149</td>\n",
              "      <td>1</td>\n",
              "      <td>999</td>\n",
              "      <td>0</td>\n",
              "      <td>nonexistent</td>\n",
              "      <td>1.1</td>\n",
              "      <td>93.994</td>\n",
              "      <td>-36.4</td>\n",
              "      <td>4.857</td>\n",
              "      <td>5191.0</td>\n",
              "      <td>no</td>\n",
              "    </tr>\n",
              "    <tr>\n",
              "      <th>2</th>\n",
              "      <td>37</td>\n",
              "      <td>services</td>\n",
              "      <td>married</td>\n",
              "      <td>high.school</td>\n",
              "      <td>no</td>\n",
              "      <td>yes</td>\n",
              "      <td>no</td>\n",
              "      <td>telephone</td>\n",
              "      <td>may</td>\n",
              "      <td>mon</td>\n",
              "      <td>226</td>\n",
              "      <td>1</td>\n",
              "      <td>999</td>\n",
              "      <td>0</td>\n",
              "      <td>nonexistent</td>\n",
              "      <td>1.1</td>\n",
              "      <td>93.994</td>\n",
              "      <td>-36.4</td>\n",
              "      <td>4.857</td>\n",
              "      <td>5191.0</td>\n",
              "      <td>no</td>\n",
              "    </tr>\n",
              "  </tbody>\n",
              "</table>\n",
              "</div>\n",
              "      <button class=\"colab-df-convert\" onclick=\"convertToInteractive('df-4b93943d-22d9-48c9-ba45-753a56899cd7')\"\n",
              "              title=\"Convert this dataframe to an interactive table.\"\n",
              "              style=\"display:none;\">\n",
              "        \n",
              "  <svg xmlns=\"http://www.w3.org/2000/svg\" height=\"24px\"viewBox=\"0 0 24 24\"\n",
              "       width=\"24px\">\n",
              "    <path d=\"M0 0h24v24H0V0z\" fill=\"none\"/>\n",
              "    <path d=\"M18.56 5.44l.94 2.06.94-2.06 2.06-.94-2.06-.94-.94-2.06-.94 2.06-2.06.94zm-11 1L8.5 8.5l.94-2.06 2.06-.94-2.06-.94L8.5 2.5l-.94 2.06-2.06.94zm10 10l.94 2.06.94-2.06 2.06-.94-2.06-.94-.94-2.06-.94 2.06-2.06.94z\"/><path d=\"M17.41 7.96l-1.37-1.37c-.4-.4-.92-.59-1.43-.59-.52 0-1.04.2-1.43.59L10.3 9.45l-7.72 7.72c-.78.78-.78 2.05 0 2.83L4 21.41c.39.39.9.59 1.41.59.51 0 1.02-.2 1.41-.59l7.78-7.78 2.81-2.81c.8-.78.8-2.07 0-2.86zM5.41 20L4 18.59l7.72-7.72 1.47 1.35L5.41 20z\"/>\n",
              "  </svg>\n",
              "      </button>\n",
              "      \n",
              "  <style>\n",
              "    .colab-df-container {\n",
              "      display:flex;\n",
              "      flex-wrap:wrap;\n",
              "      gap: 12px;\n",
              "    }\n",
              "\n",
              "    .colab-df-convert {\n",
              "      background-color: #E8F0FE;\n",
              "      border: none;\n",
              "      border-radius: 50%;\n",
              "      cursor: pointer;\n",
              "      display: none;\n",
              "      fill: #1967D2;\n",
              "      height: 32px;\n",
              "      padding: 0 0 0 0;\n",
              "      width: 32px;\n",
              "    }\n",
              "\n",
              "    .colab-df-convert:hover {\n",
              "      background-color: #E2EBFA;\n",
              "      box-shadow: 0px 1px 2px rgba(60, 64, 67, 0.3), 0px 1px 3px 1px rgba(60, 64, 67, 0.15);\n",
              "      fill: #174EA6;\n",
              "    }\n",
              "\n",
              "    [theme=dark] .colab-df-convert {\n",
              "      background-color: #3B4455;\n",
              "      fill: #D2E3FC;\n",
              "    }\n",
              "\n",
              "    [theme=dark] .colab-df-convert:hover {\n",
              "      background-color: #434B5C;\n",
              "      box-shadow: 0px 1px 3px 1px rgba(0, 0, 0, 0.15);\n",
              "      filter: drop-shadow(0px 1px 2px rgba(0, 0, 0, 0.3));\n",
              "      fill: #FFFFFF;\n",
              "    }\n",
              "  </style>\n",
              "\n",
              "      <script>\n",
              "        const buttonEl =\n",
              "          document.querySelector('#df-4b93943d-22d9-48c9-ba45-753a56899cd7 button.colab-df-convert');\n",
              "        buttonEl.style.display =\n",
              "          google.colab.kernel.accessAllowed ? 'block' : 'none';\n",
              "\n",
              "        async function convertToInteractive(key) {\n",
              "          const element = document.querySelector('#df-4b93943d-22d9-48c9-ba45-753a56899cd7');\n",
              "          const dataTable =\n",
              "            await google.colab.kernel.invokeFunction('convertToInteractive',\n",
              "                                                     [key], {});\n",
              "          if (!dataTable) return;\n",
              "\n",
              "          const docLinkHtml = 'Like what you see? Visit the ' +\n",
              "            '<a target=\"_blank\" href=https://colab.research.google.com/notebooks/data_table.ipynb>data table notebook</a>'\n",
              "            + ' to learn more about interactive tables.';\n",
              "          element.innerHTML = '';\n",
              "          dataTable['output_type'] = 'display_data';\n",
              "          await google.colab.output.renderOutput(dataTable, element);\n",
              "          const docLink = document.createElement('div');\n",
              "          docLink.innerHTML = docLinkHtml;\n",
              "          element.appendChild(docLink);\n",
              "        }\n",
              "      </script>\n",
              "    </div>\n",
              "  </div>\n",
              "  "
            ],
            "text/plain": [
              "   age        job  marital  ... euribor3m nr.employed   y\n",
              "0   56  housemaid  married  ...     4.857      5191.0  no\n",
              "1   57   services  married  ...     4.857      5191.0  no\n",
              "2   37   services  married  ...     4.857      5191.0  no\n",
              "\n",
              "[3 rows x 21 columns]"
            ]
          },
          "metadata": {},
          "execution_count": 55
        }
      ]
    },
    {
      "cell_type": "code",
      "source": [
        "bank_df.info()\n",
        "# Observations \n",
        "  # 20 Features / Attribute input columns , Output variable 'y' with 41188 rows \n",
        "  # The columns do not contain non null values based on non-null Count"
      ],
      "metadata": {
        "colab": {
          "base_uri": "https://localhost:8080/"
        },
        "id": "3FKFBU8goI3q",
        "outputId": "d69b2a11-4492-40b8-f8a9-68b851c649a6"
      },
      "execution_count": 56,
      "outputs": [
        {
          "output_type": "stream",
          "name": "stdout",
          "text": [
            "<class 'pandas.core.frame.DataFrame'>\n",
            "RangeIndex: 41188 entries, 0 to 41187\n",
            "Data columns (total 21 columns):\n",
            " #   Column          Non-Null Count  Dtype  \n",
            "---  ------          --------------  -----  \n",
            " 0   age             41188 non-null  int64  \n",
            " 1   job             41188 non-null  object \n",
            " 2   marital         41188 non-null  object \n",
            " 3   education       41188 non-null  object \n",
            " 4   default         41188 non-null  object \n",
            " 5   housing         41188 non-null  object \n",
            " 6   loan            41188 non-null  object \n",
            " 7   contact         41188 non-null  object \n",
            " 8   month           41188 non-null  object \n",
            " 9   day_of_week     41188 non-null  object \n",
            " 10  duration        41188 non-null  int64  \n",
            " 11  campaign        41188 non-null  int64  \n",
            " 12  pdays           41188 non-null  int64  \n",
            " 13  previous        41188 non-null  int64  \n",
            " 14  poutcome        41188 non-null  object \n",
            " 15  emp.var.rate    41188 non-null  float64\n",
            " 16  cons.price.idx  41188 non-null  float64\n",
            " 17  cons.conf.idx   41188 non-null  float64\n",
            " 18  euribor3m       41188 non-null  float64\n",
            " 19  nr.employed     41188 non-null  float64\n",
            " 20  y               41188 non-null  object \n",
            "dtypes: float64(5), int64(5), object(11)\n",
            "memory usage: 6.6+ MB\n"
          ]
        }
      ]
    },
    {
      "cell_type": "code",
      "source": [
        "# Summary of Numerical attributes \n",
        "bank_df.describe().transpose()\n",
        "# 75% people are below 47 of Age\n"
      ],
      "metadata": {
        "colab": {
          "base_uri": "https://localhost:8080/",
          "height": 363
        },
        "id": "S2959C3DoaiE",
        "outputId": "f33afc55-f451-4070-9ef1-933051b573dd"
      },
      "execution_count": 57,
      "outputs": [
        {
          "output_type": "execute_result",
          "data": {
            "text/html": [
              "\n",
              "  <div id=\"df-b491abd5-682c-424d-8e18-de210f324174\">\n",
              "    <div class=\"colab-df-container\">\n",
              "      <div>\n",
              "<style scoped>\n",
              "    .dataframe tbody tr th:only-of-type {\n",
              "        vertical-align: middle;\n",
              "    }\n",
              "\n",
              "    .dataframe tbody tr th {\n",
              "        vertical-align: top;\n",
              "    }\n",
              "\n",
              "    .dataframe thead th {\n",
              "        text-align: right;\n",
              "    }\n",
              "</style>\n",
              "<table border=\"1\" class=\"dataframe\">\n",
              "  <thead>\n",
              "    <tr style=\"text-align: right;\">\n",
              "      <th></th>\n",
              "      <th>count</th>\n",
              "      <th>mean</th>\n",
              "      <th>std</th>\n",
              "      <th>min</th>\n",
              "      <th>25%</th>\n",
              "      <th>50%</th>\n",
              "      <th>75%</th>\n",
              "      <th>max</th>\n",
              "    </tr>\n",
              "  </thead>\n",
              "  <tbody>\n",
              "    <tr>\n",
              "      <th>age</th>\n",
              "      <td>41188.0</td>\n",
              "      <td>40.024060</td>\n",
              "      <td>10.421250</td>\n",
              "      <td>17.000</td>\n",
              "      <td>32.000</td>\n",
              "      <td>38.000</td>\n",
              "      <td>47.000</td>\n",
              "      <td>98.000</td>\n",
              "    </tr>\n",
              "    <tr>\n",
              "      <th>duration</th>\n",
              "      <td>41188.0</td>\n",
              "      <td>258.285010</td>\n",
              "      <td>259.279249</td>\n",
              "      <td>0.000</td>\n",
              "      <td>102.000</td>\n",
              "      <td>180.000</td>\n",
              "      <td>319.000</td>\n",
              "      <td>4918.000</td>\n",
              "    </tr>\n",
              "    <tr>\n",
              "      <th>campaign</th>\n",
              "      <td>41188.0</td>\n",
              "      <td>2.567593</td>\n",
              "      <td>2.770014</td>\n",
              "      <td>1.000</td>\n",
              "      <td>1.000</td>\n",
              "      <td>2.000</td>\n",
              "      <td>3.000</td>\n",
              "      <td>56.000</td>\n",
              "    </tr>\n",
              "    <tr>\n",
              "      <th>pdays</th>\n",
              "      <td>41188.0</td>\n",
              "      <td>962.475454</td>\n",
              "      <td>186.910907</td>\n",
              "      <td>0.000</td>\n",
              "      <td>999.000</td>\n",
              "      <td>999.000</td>\n",
              "      <td>999.000</td>\n",
              "      <td>999.000</td>\n",
              "    </tr>\n",
              "    <tr>\n",
              "      <th>previous</th>\n",
              "      <td>41188.0</td>\n",
              "      <td>0.172963</td>\n",
              "      <td>0.494901</td>\n",
              "      <td>0.000</td>\n",
              "      <td>0.000</td>\n",
              "      <td>0.000</td>\n",
              "      <td>0.000</td>\n",
              "      <td>7.000</td>\n",
              "    </tr>\n",
              "    <tr>\n",
              "      <th>emp.var.rate</th>\n",
              "      <td>41188.0</td>\n",
              "      <td>0.081886</td>\n",
              "      <td>1.570960</td>\n",
              "      <td>-3.400</td>\n",
              "      <td>-1.800</td>\n",
              "      <td>1.100</td>\n",
              "      <td>1.400</td>\n",
              "      <td>1.400</td>\n",
              "    </tr>\n",
              "    <tr>\n",
              "      <th>cons.price.idx</th>\n",
              "      <td>41188.0</td>\n",
              "      <td>93.575664</td>\n",
              "      <td>0.578840</td>\n",
              "      <td>92.201</td>\n",
              "      <td>93.075</td>\n",
              "      <td>93.749</td>\n",
              "      <td>93.994</td>\n",
              "      <td>94.767</td>\n",
              "    </tr>\n",
              "    <tr>\n",
              "      <th>cons.conf.idx</th>\n",
              "      <td>41188.0</td>\n",
              "      <td>-40.502600</td>\n",
              "      <td>4.628198</td>\n",
              "      <td>-50.800</td>\n",
              "      <td>-42.700</td>\n",
              "      <td>-41.800</td>\n",
              "      <td>-36.400</td>\n",
              "      <td>-26.900</td>\n",
              "    </tr>\n",
              "    <tr>\n",
              "      <th>euribor3m</th>\n",
              "      <td>41188.0</td>\n",
              "      <td>3.621291</td>\n",
              "      <td>1.734447</td>\n",
              "      <td>0.634</td>\n",
              "      <td>1.344</td>\n",
              "      <td>4.857</td>\n",
              "      <td>4.961</td>\n",
              "      <td>5.045</td>\n",
              "    </tr>\n",
              "    <tr>\n",
              "      <th>nr.employed</th>\n",
              "      <td>41188.0</td>\n",
              "      <td>5167.035911</td>\n",
              "      <td>72.251528</td>\n",
              "      <td>4963.600</td>\n",
              "      <td>5099.100</td>\n",
              "      <td>5191.000</td>\n",
              "      <td>5228.100</td>\n",
              "      <td>5228.100</td>\n",
              "    </tr>\n",
              "  </tbody>\n",
              "</table>\n",
              "</div>\n",
              "      <button class=\"colab-df-convert\" onclick=\"convertToInteractive('df-b491abd5-682c-424d-8e18-de210f324174')\"\n",
              "              title=\"Convert this dataframe to an interactive table.\"\n",
              "              style=\"display:none;\">\n",
              "        \n",
              "  <svg xmlns=\"http://www.w3.org/2000/svg\" height=\"24px\"viewBox=\"0 0 24 24\"\n",
              "       width=\"24px\">\n",
              "    <path d=\"M0 0h24v24H0V0z\" fill=\"none\"/>\n",
              "    <path d=\"M18.56 5.44l.94 2.06.94-2.06 2.06-.94-2.06-.94-.94-2.06-.94 2.06-2.06.94zm-11 1L8.5 8.5l.94-2.06 2.06-.94-2.06-.94L8.5 2.5l-.94 2.06-2.06.94zm10 10l.94 2.06.94-2.06 2.06-.94-2.06-.94-.94-2.06-.94 2.06-2.06.94z\"/><path d=\"M17.41 7.96l-1.37-1.37c-.4-.4-.92-.59-1.43-.59-.52 0-1.04.2-1.43.59L10.3 9.45l-7.72 7.72c-.78.78-.78 2.05 0 2.83L4 21.41c.39.39.9.59 1.41.59.51 0 1.02-.2 1.41-.59l7.78-7.78 2.81-2.81c.8-.78.8-2.07 0-2.86zM5.41 20L4 18.59l7.72-7.72 1.47 1.35L5.41 20z\"/>\n",
              "  </svg>\n",
              "      </button>\n",
              "      \n",
              "  <style>\n",
              "    .colab-df-container {\n",
              "      display:flex;\n",
              "      flex-wrap:wrap;\n",
              "      gap: 12px;\n",
              "    }\n",
              "\n",
              "    .colab-df-convert {\n",
              "      background-color: #E8F0FE;\n",
              "      border: none;\n",
              "      border-radius: 50%;\n",
              "      cursor: pointer;\n",
              "      display: none;\n",
              "      fill: #1967D2;\n",
              "      height: 32px;\n",
              "      padding: 0 0 0 0;\n",
              "      width: 32px;\n",
              "    }\n",
              "\n",
              "    .colab-df-convert:hover {\n",
              "      background-color: #E2EBFA;\n",
              "      box-shadow: 0px 1px 2px rgba(60, 64, 67, 0.3), 0px 1px 3px 1px rgba(60, 64, 67, 0.15);\n",
              "      fill: #174EA6;\n",
              "    }\n",
              "\n",
              "    [theme=dark] .colab-df-convert {\n",
              "      background-color: #3B4455;\n",
              "      fill: #D2E3FC;\n",
              "    }\n",
              "\n",
              "    [theme=dark] .colab-df-convert:hover {\n",
              "      background-color: #434B5C;\n",
              "      box-shadow: 0px 1px 3px 1px rgba(0, 0, 0, 0.15);\n",
              "      filter: drop-shadow(0px 1px 2px rgba(0, 0, 0, 0.3));\n",
              "      fill: #FFFFFF;\n",
              "    }\n",
              "  </style>\n",
              "\n",
              "      <script>\n",
              "        const buttonEl =\n",
              "          document.querySelector('#df-b491abd5-682c-424d-8e18-de210f324174 button.colab-df-convert');\n",
              "        buttonEl.style.display =\n",
              "          google.colab.kernel.accessAllowed ? 'block' : 'none';\n",
              "\n",
              "        async function convertToInteractive(key) {\n",
              "          const element = document.querySelector('#df-b491abd5-682c-424d-8e18-de210f324174');\n",
              "          const dataTable =\n",
              "            await google.colab.kernel.invokeFunction('convertToInteractive',\n",
              "                                                     [key], {});\n",
              "          if (!dataTable) return;\n",
              "\n",
              "          const docLinkHtml = 'Like what you see? Visit the ' +\n",
              "            '<a target=\"_blank\" href=https://colab.research.google.com/notebooks/data_table.ipynb>data table notebook</a>'\n",
              "            + ' to learn more about interactive tables.';\n",
              "          element.innerHTML = '';\n",
              "          dataTable['output_type'] = 'display_data';\n",
              "          await google.colab.output.renderOutput(dataTable, element);\n",
              "          const docLink = document.createElement('div');\n",
              "          docLink.innerHTML = docLinkHtml;\n",
              "          element.appendChild(docLink);\n",
              "        }\n",
              "      </script>\n",
              "    </div>\n",
              "  </div>\n",
              "  "
            ],
            "text/plain": [
              "                  count         mean         std  ...       50%       75%       max\n",
              "age             41188.0    40.024060   10.421250  ...    38.000    47.000    98.000\n",
              "duration        41188.0   258.285010  259.279249  ...   180.000   319.000  4918.000\n",
              "campaign        41188.0     2.567593    2.770014  ...     2.000     3.000    56.000\n",
              "pdays           41188.0   962.475454  186.910907  ...   999.000   999.000   999.000\n",
              "previous        41188.0     0.172963    0.494901  ...     0.000     0.000     7.000\n",
              "emp.var.rate    41188.0     0.081886    1.570960  ...     1.100     1.400     1.400\n",
              "cons.price.idx  41188.0    93.575664    0.578840  ...    93.749    93.994    94.767\n",
              "cons.conf.idx   41188.0   -40.502600    4.628198  ...   -41.800   -36.400   -26.900\n",
              "euribor3m       41188.0     3.621291    1.734447  ...     4.857     4.961     5.045\n",
              "nr.employed     41188.0  5167.035911   72.251528  ...  5191.000  5228.100  5228.100\n",
              "\n",
              "[10 rows x 8 columns]"
            ]
          },
          "metadata": {},
          "execution_count": 57
        }
      ]
    },
    {
      "cell_type": "code",
      "source": [
        "#Visualizing Dataset\n",
        "bank_df.hist(bins=50,figsize=(10,10))\n",
        "plt.show()\n",
        "\n",
        "# attributes have different scales\n",
        "# campaign and duration are right skewed"
      ],
      "metadata": {
        "colab": {
          "base_uri": "https://localhost:8080/",
          "height": 606
        },
        "id": "VF3ApNrjR2Xb",
        "outputId": "aa0fb4a9-f756-426d-fffc-95e76617792e"
      },
      "execution_count": 58,
      "outputs": [
        {
          "output_type": "display_data",
          "data": {
            "image/png": "[encoded data removed]",
            "text/plain": [
              "<Figure size 720x720 with 12 Axes>"
            ]
          },
          "metadata": {
            "needs_background": "light"
          }
        }
      ]
    },
    {
      "cell_type": "code",
      "source": [
        "#Checking values in previous and emp.var.rate as they look discrete in the above graph\n",
        "print(bank_df['previous'].value_counts())\n",
        "print(bank_df['emp.var.rate'].value_counts())"
      ],
      "metadata": {
        "colab": {
          "base_uri": "https://localhost:8080/"
        },
        "id": "AQOYEeYfSrDY",
        "outputId": "f9e60882-8547-4ef9-8036-b1a8d5b434ac"
      },
      "execution_count": 59,
      "outputs": [
        {
          "output_type": "stream",
          "name": "stdout",
          "text": [
            "0    35563\n",
            "1     4561\n",
            "2      754\n",
            "3      216\n",
            "4       70\n",
            "5       18\n",
            "6        5\n",
            "7        1\n",
            "Name: previous, dtype: int64\n",
            " 1.4    16234\n",
            "-1.8     9184\n",
            " 1.1     7763\n",
            "-0.1     3683\n",
            "-2.9     1663\n",
            "-3.4     1071\n",
            "-1.7      773\n",
            "-1.1      635\n",
            "-3.0      172\n",
            "-0.2       10\n",
            "Name: emp.var.rate, dtype: int64\n"
          ]
        }
      ]
    },
    {
      "cell_type": "markdown",
      "source": [
        "## Data preprocessing:\n",
        "\n",
        "\n",
        "\n"
      ],
      "metadata": {
        "id": "x2wUqNSIzG0j"
      }
    },
    {
      "cell_type": "markdown",
      "source": [
        "## Plot histogram of the label and calculate the imbalance in the dataset."
      ],
      "metadata": {
        "id": "Iy9azjbE9vFo"
      }
    },
    {
      "cell_type": "code",
      "source": [
        "# Checking the Data balance\n",
        "print(\"The dataset is imbalanced as the ~89% of the data set belongs to 'yes' category and only ~11% belongs to 'no category\")\n",
        "bank_df['y'].value_counts()"
      ],
      "metadata": {
        "colab": {
          "base_uri": "https://localhost:8080/"
        },
        "id": "AnzTxoSxvZaT",
        "outputId": "c348c444-9369-4c4c-8b44-1c63118cac0d"
      },
      "execution_count": 60,
      "outputs": [
        {
          "output_type": "stream",
          "name": "stdout",
          "text": [
            "The dataset is imbalanced as the ~89% of the data set belongs to 'yes' category and only ~11% belongs to 'no category\n"
          ]
        },
        {
          "output_type": "execute_result",
          "data": {
            "text/plain": [
              "no     36548\n",
              "yes     4640\n",
              "Name: y, dtype: int64"
            ]
          },
          "metadata": {},
          "execution_count": 60
        }
      ]
    },
    {
      "cell_type": "code",
      "source": [
        "# Visualize using Histogram\n",
        "bank_df['y'].value_counts().plot(kind='bar')"
      ],
      "metadata": {
        "colab": {
          "base_uri": "https://localhost:8080/",
          "height": 291
        },
        "id": "4mb9fNIexP6z",
        "outputId": "ef798c2d-5dd2-4931-873f-4448052300a3"
      },
      "execution_count": 61,
      "outputs": [
        {
          "output_type": "execute_result",
          "data": {
            "text/plain": [
              "<matplotlib.axes._subplots.AxesSubplot at 0x7f21d9502450>"
            ]
          },
          "metadata": {},
          "execution_count": 61
        },
        {
          "output_type": "display_data",
          "data": {
            "image/png": "[encoded data removed]",
            "text/plain": [
              "<Figure size 432x288 with 1 Axes>"
            ]
          },
          "metadata": {
            "needs_background": "light"
          }
        }
      ]
    },
    {
      "cell_type": "code",
      "source": [
        "bank_df['y_temp'] = bank_df['y'].replace({'no':0,'yes':1})\n",
        "corr = bank_df.corr()\n",
        "corr.style.background_gradient(cmap='PuBu')\n"
      ],
      "metadata": {
        "colab": {
          "base_uri": "https://localhost:8080/",
          "height": 394
        },
        "id": "8AtSZpQS-IJu",
        "outputId": "38cff6a5-8421-4fa9-9eeb-f5747e64e230"
      },
      "execution_count": 62,
      "outputs": [
        {
          "output_type": "execute_result",
          "data": {
            "text/html": [
              "<style type=\"text/css\">\n",
              "#T_e1e8d_row0_col0, #T_e1e8d_row1_col1, #T_e1e8d_row2_col2, #T_e1e8d_row3_col3, #T_e1e8d_row4_col4, #T_e1e8d_row5_col5, #T_e1e8d_row6_col6, #T_e1e8d_row7_col7, #T_e1e8d_row8_col8, #T_e1e8d_row9_col9, #T_e1e8d_row10_col10 {\n",
              "  background-color: #023858;\n",
              "  color: #f1f1f1;\n",
              "}\n",
              "#T_e1e8d_row0_col1, #T_e1e8d_row10_col0 {\n",
              "  background-color: #f5eff6;\n",
              "  color: #000000;\n",
              "}\n",
              "#T_e1e8d_row0_col2, #T_e1e8d_row1_col7 {\n",
              "  background-color: #f4edf6;\n",
              "  color: #000000;\n",
              "}\n",
              "#T_e1e8d_row0_col3 {\n",
              "  background-color: #afc1dd;\n",
              "  color: #000000;\n",
              "}\n",
              "#T_e1e8d_row0_col4, #T_e1e8d_row1_col4 {\n",
              "  background-color: #a2bcda;\n",
              "  color: #000000;\n",
              "}\n",
              "#T_e1e8d_row0_col5 {\n",
              "  background-color: #c1cae2;\n",
              "  color: #000000;\n",
              "}\n",
              "#T_e1e8d_row0_col6 {\n",
              "  background-color: #e2dfee;\n",
              "  color: #000000;\n",
              "}\n",
              "#T_e1e8d_row0_col7 {\n",
              "  background-color: #dbdaeb;\n",
              "  color: #000000;\n",
              "}\n",
              "#T_e1e8d_row0_col8, #T_e1e8d_row2_col4 {\n",
              "  background-color: #b9c6e0;\n",
              "  color: #000000;\n",
              "}\n",
              "#T_e1e8d_row0_col9 {\n",
              "  background-color: #b8c6e0;\n",
              "  color: #000000;\n",
              "}\n",
              "#T_e1e8d_row0_col10 {\n",
              "  background-color: #c5cce3;\n",
              "  color: #000000;\n",
              "}\n",
              "#T_e1e8d_row1_col0, #T_e1e8d_row5_col0, #T_e1e8d_row6_col0, #T_e1e8d_row8_col10 {\n",
              "  background-color: #faf3f9;\n",
              "  color: #000000;\n",
              "}\n",
              "#T_e1e8d_row1_col2 {\n",
              "  background-color: #fef6fb;\n",
              "  color: #000000;\n",
              "}\n",
              "#T_e1e8d_row1_col3 {\n",
              "  background-color: #b1c2de;\n",
              "  color: #000000;\n",
              "}\n",
              "#T_e1e8d_row1_col5, #T_e1e8d_row2_col6 {\n",
              "  background-color: #c8cde4;\n",
              "  color: #000000;\n",
              "}\n",
              "#T_e1e8d_row1_col6 {\n",
              "  background-color: #e1dfed;\n",
              "  color: #000000;\n",
              "}\n",
              "#T_e1e8d_row1_col8 {\n",
              "  background-color: #c2cbe2;\n",
              "  color: #000000;\n",
              "}\n",
              "#T_e1e8d_row1_col9, #T_e1e8d_row7_col10 {\n",
              "  background-color: #bfc9e1;\n",
              "  color: #000000;\n",
              "}\n",
              "#T_e1e8d_row1_col10 {\n",
              "  background-color: #569dc8;\n",
              "  color: #f1f1f1;\n",
              "}\n",
              "#T_e1e8d_row2_col0, #T_e1e8d_row4_col7, #T_e1e8d_row8_col1 {\n",
              "  background-color: #faf2f8;\n",
              "  color: #000000;\n",
              "}\n",
              "#T_e1e8d_row2_col1, #T_e1e8d_row3_col0, #T_e1e8d_row3_col4, #T_e1e8d_row3_col7, #T_e1e8d_row4_col2, #T_e1e8d_row4_col3, #T_e1e8d_row4_col5, #T_e1e8d_row4_col6, #T_e1e8d_row4_col8, #T_e1e8d_row4_col9, #T_e1e8d_row9_col10 {\n",
              "  background-color: #fff7fb;\n",
              "  color: #000000;\n",
              "}\n",
              "#T_e1e8d_row2_col3, #T_e1e8d_row2_col8 {\n",
              "  background-color: #9ab8d8;\n",
              "  color: #000000;\n",
              "}\n",
              "#T_e1e8d_row2_col5, #T_e1e8d_row7_col9 {\n",
              "  background-color: #9cb9d9;\n",
              "  color: #000000;\n",
              "}\n",
              "#T_e1e8d_row2_col7, #T_e1e8d_row6_col1 {\n",
              "  background-color: #f4eef6;\n",
              "  color: #000000;\n",
              "}\n",
              "#T_e1e8d_row2_col9, #T_e1e8d_row4_col10 {\n",
              "  background-color: #8fb4d6;\n",
              "  color: #000000;\n",
              "}\n",
              "#T_e1e8d_row2_col10, #T_e1e8d_row5_col2 {\n",
              "  background-color: #d9d8ea;\n",
              "  color: #000000;\n",
              "}\n",
              "#T_e1e8d_row3_col1, #T_e1e8d_row3_col10 {\n",
              "  background-color: #fcf4fa;\n",
              "  color: #000000;\n",
              "}\n",
              "#T_e1e8d_row3_col2 {\n",
              "  background-color: #ede7f2;\n",
              "  color: #000000;\n",
              "}\n",
              "#T_e1e8d_row3_col5 {\n",
              "  background-color: #79abd0;\n",
              "  color: #f1f1f1;\n",
              "}\n",
              "#T_e1e8d_row3_col6 {\n",
              "  background-color: #d3d4e7;\n",
              "  color: #000000;\n",
              "}\n",
              "#T_e1e8d_row3_col8 {\n",
              "  background-color: #6ba5cd;\n",
              "  color: #f1f1f1;\n",
              "}\n",
              "#T_e1e8d_row3_col9 {\n",
              "  background-color: #4a98c5;\n",
              "  color: #f1f1f1;\n",
              "}\n",
              "#T_e1e8d_row4_col0, #T_e1e8d_row9_col4, #T_e1e8d_row10_col6 {\n",
              "  background-color: #f7f0f7;\n",
              "  color: #000000;\n",
              "}\n",
              "#T_e1e8d_row4_col1, #T_e1e8d_row8_col4, #T_e1e8d_row10_col5 {\n",
              "  background-color: #f2ecf5;\n",
              "  color: #000000;\n",
              "}\n",
              "#T_e1e8d_row5_col1, #T_e1e8d_row5_col10 {\n",
              "  background-color: #f9f2f8;\n",
              "  color: #000000;\n",
              "}\n",
              "#T_e1e8d_row5_col3 {\n",
              "  background-color: #60a1ca;\n",
              "  color: #f1f1f1;\n",
              "}\n",
              "#T_e1e8d_row5_col4, #T_e1e8d_row10_col8, #T_e1e8d_row10_col9 {\n",
              "  background-color: #f0eaf4;\n",
              "  color: #000000;\n",
              "}\n",
              "#T_e1e8d_row5_col6 {\n",
              "  background-color: #04649e;\n",
              "  color: #f1f1f1;\n",
              "}\n",
              "#T_e1e8d_row5_col7 {\n",
              "  background-color: #cccfe5;\n",
              "  color: #000000;\n",
              "}\n",
              "#T_e1e8d_row5_col8 {\n",
              "  background-color: #023c5f;\n",
              "  color: #f1f1f1;\n",
              "}\n",
              "#T_e1e8d_row5_col9 {\n",
              "  background-color: #034871;\n",
              "  color: #f1f1f1;\n",
              "}\n",
              "#T_e1e8d_row6_col2 {\n",
              "  background-color: #dddbec;\n",
              "  color: #000000;\n",
              "}\n",
              "#T_e1e8d_row6_col3 {\n",
              "  background-color: #94b6d7;\n",
              "  color: #000000;\n",
              "}\n",
              "#T_e1e8d_row6_col4 {\n",
              "  background-color: #d2d3e7;\n",
              "  color: #000000;\n",
              "}\n",
              "#T_e1e8d_row6_col5 {\n",
              "  background-color: #046096;\n",
              "  color: #f1f1f1;\n",
              "}\n",
              "#T_e1e8d_row6_col7 {\n",
              "  background-color: #e9e5f1;\n",
              "  color: #000000;\n",
              "}\n",
              "#T_e1e8d_row6_col8 {\n",
              "  background-color: #0569a5;\n",
              "  color: #f1f1f1;\n",
              "}\n",
              "#T_e1e8d_row6_col9 {\n",
              "  background-color: #2081b9;\n",
              "  color: #f1f1f1;\n",
              "}\n",
              "#T_e1e8d_row6_col10 {\n",
              "  background-color: #e4e1ef;\n",
              "  color: #000000;\n",
              "}\n",
              "#T_e1e8d_row7_col0 {\n",
              "  background-color: #e5e1ef;\n",
              "  color: #000000;\n",
              "}\n",
              "#T_e1e8d_row7_col1, #T_e1e8d_row7_col2 {\n",
              "  background-color: #f6eff7;\n",
              "  color: #000000;\n",
              "}\n",
              "#T_e1e8d_row7_col3 {\n",
              "  background-color: #bbc7e0;\n",
              "  color: #000000;\n",
              "}\n",
              "#T_e1e8d_row7_col4, #T_e1e8d_row8_col7 {\n",
              "  background-color: #b3c3de;\n",
              "  color: #000000;\n",
              "}\n",
              "#T_e1e8d_row7_col5 {\n",
              "  background-color: #8eb3d5;\n",
              "  color: #000000;\n",
              "}\n",
              "#T_e1e8d_row7_col6 {\n",
              "  background-color: #d8d7e9;\n",
              "  color: #000000;\n",
              "}\n",
              "#T_e1e8d_row7_col8 {\n",
              "  background-color: #73a9cf;\n",
              "  color: #f1f1f1;\n",
              "}\n",
              "#T_e1e8d_row8_col0 {\n",
              "  background-color: #f8f1f8;\n",
              "  color: #000000;\n",
              "}\n",
              "#T_e1e8d_row8_col2 {\n",
              "  background-color: #dcdaeb;\n",
              "  color: #000000;\n",
              "}\n",
              "#T_e1e8d_row8_col3 {\n",
              "  background-color: #589ec8;\n",
              "  color: #f1f1f1;\n",
              "}\n",
              "#T_e1e8d_row8_col5 {\n",
              "  background-color: #023d60;\n",
              "  color: #f1f1f1;\n",
              "}\n",
              "#T_e1e8d_row8_col6 {\n",
              "  background-color: #0872b1;\n",
              "  color: #f1f1f1;\n",
              "}\n",
              "#T_e1e8d_row8_col9, #T_e1e8d_row9_col8 {\n",
              "  background-color: #034267;\n",
              "  color: #f1f1f1;\n",
              "}\n",
              "#T_e1e8d_row9_col0, #T_e1e8d_row10_col2 {\n",
              "  background-color: #fdf5fa;\n",
              "  color: #000000;\n",
              "}\n",
              "#T_e1e8d_row9_col1 {\n",
              "  background-color: #fbf4f9;\n",
              "  color: #000000;\n",
              "}\n",
              "#T_e1e8d_row9_col2 {\n",
              "  background-color: #dad9ea;\n",
              "  color: #000000;\n",
              "}\n",
              "#T_e1e8d_row9_col3, #T_e1e8d_row9_col6 {\n",
              "  background-color: #4094c3;\n",
              "  color: #f1f1f1;\n",
              "}\n",
              "#T_e1e8d_row9_col5 {\n",
              "  background-color: #034973;\n",
              "  color: #f1f1f1;\n",
              "}\n",
              "#T_e1e8d_row9_col7 {\n",
              "  background-color: #e0deed;\n",
              "  color: #000000;\n",
              "}\n",
              "#T_e1e8d_row10_col1 {\n",
              "  background-color: #8bb2d4;\n",
              "  color: #000000;\n",
              "}\n",
              "#T_e1e8d_row10_col3 {\n",
              "  background-color: #e3e0ee;\n",
              "  color: #000000;\n",
              "}\n",
              "#T_e1e8d_row10_col4 {\n",
              "  background-color: #6da6cd;\n",
              "  color: #f1f1f1;\n",
              "}\n",
              "#T_e1e8d_row10_col7 {\n",
              "  background-color: #eae6f1;\n",
              "  color: #000000;\n",
              "}\n",
              "</style>\n",
              "<table id=\"T_e1e8d_\" class=\"dataframe\">\n",
              "  <thead>\n",
              "    <tr>\n",
              "      <th class=\"blank level0\" >&nbsp;</th>\n",
              "      <th class=\"col_heading level0 col0\" >age</th>\n",
              "      <th class=\"col_heading level0 col1\" >duration</th>\n",
              "      <th class=\"col_heading level0 col2\" >campaign</th>\n",
              "      <th class=\"col_heading level0 col3\" >pdays</th>\n",
              "      <th class=\"col_heading level0 col4\" >previous</th>\n",
              "      <th class=\"col_heading level0 col5\" >emp.var.rate</th>\n",
              "      <th class=\"col_heading level0 col6\" >cons.price.idx</th>\n",
              "      <th class=\"col_heading level0 col7\" >cons.conf.idx</th>\n",
              "      <th class=\"col_heading level0 col8\" >euribor3m</th>\n",
              "      <th class=\"col_heading level0 col9\" >nr.employed</th>\n",
              "      <th class=\"col_heading level0 col10\" >y_temp</th>\n",
              "    </tr>\n",
              "  </thead>\n",
              "  <tbody>\n",
              "    <tr>\n",
              "      <th id=\"T_e1e8d_level0_row0\" class=\"row_heading level0 row0\" >age</th>\n",
              "      <td id=\"T_e1e8d_row0_col0\" class=\"data row0 col0\" >1.000000</td>\n",
              "      <td id=\"T_e1e8d_row0_col1\" class=\"data row0 col1\" >-0.000866</td>\n",
              "      <td id=\"T_e1e8d_row0_col2\" class=\"data row0 col2\" >0.004594</td>\n",
              "      <td id=\"T_e1e8d_row0_col3\" class=\"data row0 col3\" >-0.034369</td>\n",
              "      <td id=\"T_e1e8d_row0_col4\" class=\"data row0 col4\" >0.024365</td>\n",
              "      <td id=\"T_e1e8d_row0_col5\" class=\"data row0 col5\" >-0.000371</td>\n",
              "      <td id=\"T_e1e8d_row0_col6\" class=\"data row0 col6\" >0.000857</td>\n",
              "      <td id=\"T_e1e8d_row0_col7\" class=\"data row0 col7\" >0.129372</td>\n",
              "      <td id=\"T_e1e8d_row0_col8\" class=\"data row0 col8\" >0.010767</td>\n",
              "      <td id=\"T_e1e8d_row0_col9\" class=\"data row0 col9\" >-0.017725</td>\n",
              "      <td id=\"T_e1e8d_row0_col10\" class=\"data row0 col10\" >0.030399</td>\n",
              "    </tr>\n",
              "    <tr>\n",
              "      <th id=\"T_e1e8d_level0_row1\" class=\"row_heading level0 row1\" >duration</th>\n",
              "      <td id=\"T_e1e8d_row1_col0\" class=\"data row1 col0\" >-0.000866</td>\n",
              "      <td id=\"T_e1e8d_row1_col1\" class=\"data row1 col1\" >1.000000</td>\n",
              "      <td id=\"T_e1e8d_row1_col2\" class=\"data row1 col2\" >-0.071699</td>\n",
              "      <td id=\"T_e1e8d_row1_col3\" class=\"data row1 col3\" >-0.047577</td>\n",
              "      <td id=\"T_e1e8d_row1_col4\" class=\"data row1 col4\" >0.020640</td>\n",
              "      <td id=\"T_e1e8d_row1_col5\" class=\"data row1 col5\" >-0.027968</td>\n",
              "      <td id=\"T_e1e8d_row1_col6\" class=\"data row1 col6\" >0.005312</td>\n",
              "      <td id=\"T_e1e8d_row1_col7\" class=\"data row1 col7\" >-0.008173</td>\n",
              "      <td id=\"T_e1e8d_row1_col8\" class=\"data row1 col8\" >-0.032897</td>\n",
              "      <td id=\"T_e1e8d_row1_col9\" class=\"data row1 col9\" >-0.044703</td>\n",
              "      <td id=\"T_e1e8d_row1_col10\" class=\"data row1 col10\" >0.405274</td>\n",
              "    </tr>\n",
              "    <tr>\n",
              "      <th id=\"T_e1e8d_level0_row2\" class=\"row_heading level0 row2\" >campaign</th>\n",
              "      <td id=\"T_e1e8d_row2_col0\" class=\"data row2 col0\" >0.004594</td>\n",
              "      <td id=\"T_e1e8d_row2_col1\" class=\"data row2 col1\" >-0.071699</td>\n",
              "      <td id=\"T_e1e8d_row2_col2\" class=\"data row2 col2\" >1.000000</td>\n",
              "      <td id=\"T_e1e8d_row2_col3\" class=\"data row2 col3\" >0.052584</td>\n",
              "      <td id=\"T_e1e8d_row2_col4\" class=\"data row2 col4\" >-0.079141</td>\n",
              "      <td id=\"T_e1e8d_row2_col5\" class=\"data row2 col5\" >0.150754</td>\n",
              "      <td id=\"T_e1e8d_row2_col6\" class=\"data row2 col6\" >0.127836</td>\n",
              "      <td id=\"T_e1e8d_row2_col7\" class=\"data row2 col7\" >-0.013733</td>\n",
              "      <td id=\"T_e1e8d_row2_col8\" class=\"data row2 col8\" >0.135133</td>\n",
              "      <td id=\"T_e1e8d_row2_col9\" class=\"data row2 col9\" >0.144095</td>\n",
              "      <td id=\"T_e1e8d_row2_col10\" class=\"data row2 col10\" >-0.066357</td>\n",
              "    </tr>\n",
              "    <tr>\n",
              "      <th id=\"T_e1e8d_level0_row3\" class=\"row_heading level0 row3\" >pdays</th>\n",
              "      <td id=\"T_e1e8d_row3_col0\" class=\"data row3 col0\" >-0.034369</td>\n",
              "      <td id=\"T_e1e8d_row3_col1\" class=\"data row3 col1\" >-0.047577</td>\n",
              "      <td id=\"T_e1e8d_row3_col2\" class=\"data row3 col2\" >0.052584</td>\n",
              "      <td id=\"T_e1e8d_row3_col3\" class=\"data row3 col3\" >1.000000</td>\n",
              "      <td id=\"T_e1e8d_row3_col4\" class=\"data row3 col4\" >-0.587514</td>\n",
              "      <td id=\"T_e1e8d_row3_col5\" class=\"data row3 col5\" >0.271004</td>\n",
              "      <td id=\"T_e1e8d_row3_col6\" class=\"data row3 col6\" >0.078889</td>\n",
              "      <td id=\"T_e1e8d_row3_col7\" class=\"data row3 col7\" >-0.091342</td>\n",
              "      <td id=\"T_e1e8d_row3_col8\" class=\"data row3 col8\" >0.296899</td>\n",
              "      <td id=\"T_e1e8d_row3_col9\" class=\"data row3 col9\" >0.372605</td>\n",
              "      <td id=\"T_e1e8d_row3_col10\" class=\"data row3 col10\" >-0.324914</td>\n",
              "    </tr>\n",
              "    <tr>\n",
              "      <th id=\"T_e1e8d_level0_row4\" class=\"row_heading level0 row4\" >previous</th>\n",
              "      <td id=\"T_e1e8d_row4_col0\" class=\"data row4 col0\" >0.024365</td>\n",
              "      <td id=\"T_e1e8d_row4_col1\" class=\"data row4 col1\" >0.020640</td>\n",
              "      <td id=\"T_e1e8d_row4_col2\" class=\"data row4 col2\" >-0.079141</td>\n",
              "      <td id=\"T_e1e8d_row4_col3\" class=\"data row4 col3\" >-0.587514</td>\n",
              "      <td id=\"T_e1e8d_row4_col4\" class=\"data row4 col4\" >1.000000</td>\n",
              "      <td id=\"T_e1e8d_row4_col5\" class=\"data row4 col5\" >-0.420489</td>\n",
              "      <td id=\"T_e1e8d_row4_col6\" class=\"data row4 col6\" >-0.203130</td>\n",
              "      <td id=\"T_e1e8d_row4_col7\" class=\"data row4 col7\" >-0.050936</td>\n",
              "      <td id=\"T_e1e8d_row4_col8\" class=\"data row4 col8\" >-0.454494</td>\n",
              "      <td id=\"T_e1e8d_row4_col9\" class=\"data row4 col9\" >-0.501333</td>\n",
              "      <td id=\"T_e1e8d_row4_col10\" class=\"data row4 col10\" >0.230181</td>\n",
              "    </tr>\n",
              "    <tr>\n",
              "      <th id=\"T_e1e8d_level0_row5\" class=\"row_heading level0 row5\" >emp.var.rate</th>\n",
              "      <td id=\"T_e1e8d_row5_col0\" class=\"data row5 col0\" >-0.000371</td>\n",
              "      <td id=\"T_e1e8d_row5_col1\" class=\"data row5 col1\" >-0.027968</td>\n",
              "      <td id=\"T_e1e8d_row5_col2\" class=\"data row5 col2\" >0.150754</td>\n",
              "      <td id=\"T_e1e8d_row5_col3\" class=\"data row5 col3\" >0.271004</td>\n",
              "      <td id=\"T_e1e8d_row5_col4\" class=\"data row5 col4\" >-0.420489</td>\n",
              "      <td id=\"T_e1e8d_row5_col5\" class=\"data row5 col5\" >1.000000</td>\n",
              "      <td id=\"T_e1e8d_row5_col6\" class=\"data row5 col6\" >0.775334</td>\n",
              "      <td id=\"T_e1e8d_row5_col7\" class=\"data row5 col7\" >0.196041</td>\n",
              "      <td id=\"T_e1e8d_row5_col8\" class=\"data row5 col8\" >0.972245</td>\n",
              "      <td id=\"T_e1e8d_row5_col9\" class=\"data row5 col9\" >0.906970</td>\n",
              "      <td id=\"T_e1e8d_row5_col10\" class=\"data row5 col10\" >-0.298334</td>\n",
              "    </tr>\n",
              "    <tr>\n",
              "      <th id=\"T_e1e8d_level0_row6\" class=\"row_heading level0 row6\" >cons.price.idx</th>\n",
              "      <td id=\"T_e1e8d_row6_col0\" class=\"data row6 col0\" >0.000857</td>\n",
              "      <td id=\"T_e1e8d_row6_col1\" class=\"data row6 col1\" >0.005312</td>\n",
              "      <td id=\"T_e1e8d_row6_col2\" class=\"data row6 col2\" >0.127836</td>\n",
              "      <td id=\"T_e1e8d_row6_col3\" class=\"data row6 col3\" >0.078889</td>\n",
              "      <td id=\"T_e1e8d_row6_col4\" class=\"data row6 col4\" >-0.203130</td>\n",
              "      <td id=\"T_e1e8d_row6_col5\" class=\"data row6 col5\" >0.775334</td>\n",
              "      <td id=\"T_e1e8d_row6_col6\" class=\"data row6 col6\" >1.000000</td>\n",
              "      <td id=\"T_e1e8d_row6_col7\" class=\"data row6 col7\" >0.058986</td>\n",
              "      <td id=\"T_e1e8d_row6_col8\" class=\"data row6 col8\" >0.688230</td>\n",
              "      <td id=\"T_e1e8d_row6_col9\" class=\"data row6 col9\" >0.522034</td>\n",
              "      <td id=\"T_e1e8d_row6_col10\" class=\"data row6 col10\" >-0.136211</td>\n",
              "    </tr>\n",
              "    <tr>\n",
              "      <th id=\"T_e1e8d_level0_row7\" class=\"row_heading level0 row7\" >cons.conf.idx</th>\n",
              "      <td id=\"T_e1e8d_row7_col0\" class=\"data row7 col0\" >0.129372</td>\n",
              "      <td id=\"T_e1e8d_row7_col1\" class=\"data row7 col1\" >-0.008173</td>\n",
              "      <td id=\"T_e1e8d_row7_col2\" class=\"data row7 col2\" >-0.013733</td>\n",
              "      <td id=\"T_e1e8d_row7_col3\" class=\"data row7 col3\" >-0.091342</td>\n",
              "      <td id=\"T_e1e8d_row7_col4\" class=\"data row7 col4\" >-0.050936</td>\n",
              "      <td id=\"T_e1e8d_row7_col5\" class=\"data row7 col5\" >0.196041</td>\n",
              "      <td id=\"T_e1e8d_row7_col6\" class=\"data row7 col6\" >0.058986</td>\n",
              "      <td id=\"T_e1e8d_row7_col7\" class=\"data row7 col7\" >1.000000</td>\n",
              "      <td id=\"T_e1e8d_row7_col8\" class=\"data row7 col8\" >0.277686</td>\n",
              "      <td id=\"T_e1e8d_row7_col9\" class=\"data row7 col9\" >0.100513</td>\n",
              "      <td id=\"T_e1e8d_row7_col10\" class=\"data row7 col10\" >0.054878</td>\n",
              "    </tr>\n",
              "    <tr>\n",
              "      <th id=\"T_e1e8d_level0_row8\" class=\"row_heading level0 row8\" >euribor3m</th>\n",
              "      <td id=\"T_e1e8d_row8_col0\" class=\"data row8 col0\" >0.010767</td>\n",
              "      <td id=\"T_e1e8d_row8_col1\" class=\"data row8 col1\" >-0.032897</td>\n",
              "      <td id=\"T_e1e8d_row8_col2\" class=\"data row8 col2\" >0.135133</td>\n",
              "      <td id=\"T_e1e8d_row8_col3\" class=\"data row8 col3\" >0.296899</td>\n",
              "      <td id=\"T_e1e8d_row8_col4\" class=\"data row8 col4\" >-0.454494</td>\n",
              "      <td id=\"T_e1e8d_row8_col5\" class=\"data row8 col5\" >0.972245</td>\n",
              "      <td id=\"T_e1e8d_row8_col6\" class=\"data row8 col6\" >0.688230</td>\n",
              "      <td id=\"T_e1e8d_row8_col7\" class=\"data row8 col7\" >0.277686</td>\n",
              "      <td id=\"T_e1e8d_row8_col8\" class=\"data row8 col8\" >1.000000</td>\n",
              "      <td id=\"T_e1e8d_row8_col9\" class=\"data row8 col9\" >0.945154</td>\n",
              "      <td id=\"T_e1e8d_row8_col10\" class=\"data row8 col10\" >-0.307771</td>\n",
              "    </tr>\n",
              "    <tr>\n",
              "      <th id=\"T_e1e8d_level0_row9\" class=\"row_heading level0 row9\" >nr.employed</th>\n",
              "      <td id=\"T_e1e8d_row9_col0\" class=\"data row9 col0\" >-0.017725</td>\n",
              "      <td id=\"T_e1e8d_row9_col1\" class=\"data row9 col1\" >-0.044703</td>\n",
              "      <td id=\"T_e1e8d_row9_col2\" class=\"data row9 col2\" >0.144095</td>\n",
              "      <td id=\"T_e1e8d_row9_col3\" class=\"data row9 col3\" >0.372605</td>\n",
              "      <td id=\"T_e1e8d_row9_col4\" class=\"data row9 col4\" >-0.501333</td>\n",
              "      <td id=\"T_e1e8d_row9_col5\" class=\"data row9 col5\" >0.906970</td>\n",
              "      <td id=\"T_e1e8d_row9_col6\" class=\"data row9 col6\" >0.522034</td>\n",
              "      <td id=\"T_e1e8d_row9_col7\" class=\"data row9 col7\" >0.100513</td>\n",
              "      <td id=\"T_e1e8d_row9_col8\" class=\"data row9 col8\" >0.945154</td>\n",
              "      <td id=\"T_e1e8d_row9_col9\" class=\"data row9 col9\" >1.000000</td>\n",
              "      <td id=\"T_e1e8d_row9_col10\" class=\"data row9 col10\" >-0.354678</td>\n",
              "    </tr>\n",
              "    <tr>\n",
              "      <th id=\"T_e1e8d_level0_row10\" class=\"row_heading level0 row10\" >y_temp</th>\n",
              "      <td id=\"T_e1e8d_row10_col0\" class=\"data row10 col0\" >0.030399</td>\n",
              "      <td id=\"T_e1e8d_row10_col1\" class=\"data row10 col1\" >0.405274</td>\n",
              "      <td id=\"T_e1e8d_row10_col2\" class=\"data row10 col2\" >-0.066357</td>\n",
              "      <td id=\"T_e1e8d_row10_col3\" class=\"data row10 col3\" >-0.324914</td>\n",
              "      <td id=\"T_e1e8d_row10_col4\" class=\"data row10 col4\" >0.230181</td>\n",
              "      <td id=\"T_e1e8d_row10_col5\" class=\"data row10 col5\" >-0.298334</td>\n",
              "      <td id=\"T_e1e8d_row10_col6\" class=\"data row10 col6\" >-0.136211</td>\n",
              "      <td id=\"T_e1e8d_row10_col7\" class=\"data row10 col7\" >0.054878</td>\n",
              "      <td id=\"T_e1e8d_row10_col8\" class=\"data row10 col8\" >-0.307771</td>\n",
              "      <td id=\"T_e1e8d_row10_col9\" class=\"data row10 col9\" >-0.354678</td>\n",
              "      <td id=\"T_e1e8d_row10_col10\" class=\"data row10 col10\" >1.000000</td>\n",
              "    </tr>\n",
              "  </tbody>\n",
              "</table>\n"
            ],
            "text/plain": [
              "<pandas.io.formats.style.Styler at 0x7f21da3edf10>"
            ]
          },
          "metadata": {},
          "execution_count": 62
        }
      ]
    },
    {
      "cell_type": "code",
      "source": [
        "bank_df.drop('y_temp',axis=1,inplace=True)"
      ],
      "metadata": {
        "id": "ok84rTX0q4By"
      },
      "execution_count": 63,
      "outputs": []
    },
    {
      "cell_type": "markdown",
      "source": [
        "Dropping Duration"
      ],
      "metadata": {
        "id": "OvnuNEfXq7jb"
      }
    },
    {
      "cell_type": "code",
      "source": [
        "bank_df.drop('duration',axis=1,inplace=True)\n",
        "bank_df.columns"
      ],
      "metadata": {
        "colab": {
          "base_uri": "https://localhost:8080/"
        },
        "id": "kYX69RMR4V-1",
        "outputId": "ea0a0bac-ca20-4f08-ede5-6b334c5f8d24"
      },
      "execution_count": 64,
      "outputs": [
        {
          "output_type": "execute_result",
          "data": {
            "text/plain": [
              "Index(['age', 'job', 'marital', 'education', 'default', 'housing', 'loan',\n",
              "       'contact', 'month', 'day_of_week', 'campaign', 'pdays', 'previous',\n",
              "       'poutcome', 'emp.var.rate', 'cons.price.idx', 'cons.conf.idx',\n",
              "       'euribor3m', 'nr.employed', 'y'],\n",
              "      dtype='object')"
            ]
          },
          "metadata": {},
          "execution_count": 64
        }
      ]
    },
    {
      "cell_type": "markdown",
      "source": [
        "Checking the values in Categorical Features"
      ],
      "metadata": {
        "id": "X3tj96C8r32n"
      }
    },
    {
      "cell_type": "code",
      "source": [
        "cat_features = ['job', \n",
        "            'marital', \n",
        "            'education', \n",
        "            'default', \n",
        "            'housing', \n",
        "            'loan',\n",
        "            'contact', \n",
        "            'month', \n",
        "            'day_of_week',\n",
        "            'poutcome']"
      ],
      "metadata": {
        "id": "av4qsqsR9FAW"
      },
      "execution_count": 65,
      "outputs": []
    },
    {
      "cell_type": "code",
      "source": [
        "for feature in cat_features:\n",
        "  print(10*'*',feature,10*'*')\n",
        "  print(bank_df[feature].value_counts())"
      ],
      "metadata": {
        "colab": {
          "base_uri": "https://localhost:8080/"
        },
        "id": "c6VoBDyP-KoM",
        "outputId": "fd64b261-5d94-4ce0-e2d0-01df62232908"
      },
      "execution_count": 66,
      "outputs": [
        {
          "output_type": "stream",
          "name": "stdout",
          "text": [
            "********** job **********\n",
            "admin.           10422\n",
            "blue-collar       9254\n",
            "technician        6743\n",
            "services          3969\n",
            "management        2924\n",
            "retired           1720\n",
            "entrepreneur      1456\n",
            "self-employed     1421\n",
            "housemaid         1060\n",
            "unemployed        1014\n",
            "student            875\n",
            "unknown            330\n",
            "Name: job, dtype: int64\n",
            "********** marital **********\n",
            "married     24928\n",
            "single      11568\n",
            "divorced     4612\n",
            "unknown        80\n",
            "Name: marital, dtype: int64\n",
            "********** education **********\n",
            "university.degree      12168\n",
            "high.school             9515\n",
            "basic.9y                6045\n",
            "professional.course     5243\n",
            "basic.4y                4176\n",
            "basic.6y                2292\n",
            "unknown                 1731\n",
            "illiterate                18\n",
            "Name: education, dtype: int64\n",
            "********** default **********\n",
            "no         32588\n",
            "unknown     8597\n",
            "yes            3\n",
            "Name: default, dtype: int64\n",
            "********** housing **********\n",
            "yes        21576\n",
            "no         18622\n",
            "unknown      990\n",
            "Name: housing, dtype: int64\n",
            "********** loan **********\n",
            "no         33950\n",
            "yes         6248\n",
            "unknown      990\n",
            "Name: loan, dtype: int64\n",
            "********** contact **********\n",
            "cellular     26144\n",
            "telephone    15044\n",
            "Name: contact, dtype: int64\n",
            "********** month **********\n",
            "may    13769\n",
            "jul     7174\n",
            "aug     6178\n",
            "jun     5318\n",
            "nov     4101\n",
            "apr     2632\n",
            "oct      718\n",
            "sep      570\n",
            "mar      546\n",
            "dec      182\n",
            "Name: month, dtype: int64\n",
            "********** day_of_week **********\n",
            "thu    8623\n",
            "mon    8514\n",
            "wed    8134\n",
            "tue    8090\n",
            "fri    7827\n",
            "Name: day_of_week, dtype: int64\n",
            "********** poutcome **********\n",
            "nonexistent    35563\n",
            "failure         4252\n",
            "success         1373\n",
            "Name: poutcome, dtype: int64\n"
          ]
        }
      ]
    },
    {
      "cell_type": "markdown",
      "source": [
        "Handling Categorical Variables"
      ],
      "metadata": {
        "id": "8XioXtx4rR4M"
      }
    },
    {
      "cell_type": "code",
      "source": [
        "df_dummies = pd.get_dummies(bank_df)"
      ],
      "metadata": {
        "id": "E3ngPDRKzqV4"
      },
      "execution_count": 67,
      "outputs": []
    },
    {
      "cell_type": "code",
      "source": [
        "df_dummies.columns\n"
      ],
      "metadata": {
        "colab": {
          "base_uri": "https://localhost:8080/"
        },
        "id": "Wyc4iorPDwy7",
        "outputId": "6dab15d5-9d0c-4896-e4a4-d98665ddee35"
      },
      "execution_count": 68,
      "outputs": [
        {
          "output_type": "execute_result",
          "data": {
            "text/plain": [
              "Index(['age', 'campaign', 'pdays', 'previous', 'emp.var.rate',\n",
              "       'cons.price.idx', 'cons.conf.idx', 'euribor3m', 'nr.employed',\n",
              "       'job_admin.', 'job_blue-collar', 'job_entrepreneur', 'job_housemaid',\n",
              "       'job_management', 'job_retired', 'job_self-employed', 'job_services',\n",
              "       'job_student', 'job_technician', 'job_unemployed', 'job_unknown',\n",
              "       'marital_divorced', 'marital_married', 'marital_single',\n",
              "       'marital_unknown', 'education_basic.4y', 'education_basic.6y',\n",
              "       'education_basic.9y', 'education_high.school', 'education_illiterate',\n",
              "       'education_professional.course', 'education_university.degree',\n",
              "       'education_unknown', 'default_no', 'default_unknown', 'default_yes',\n",
              "       'housing_no', 'housing_unknown', 'housing_yes', 'loan_no',\n",
              "       'loan_unknown', 'loan_yes', 'contact_cellular', 'contact_telephone',\n",
              "       'month_apr', 'month_aug', 'month_dec', 'month_jul', 'month_jun',\n",
              "       'month_mar', 'month_may', 'month_nov', 'month_oct', 'month_sep',\n",
              "       'day_of_week_fri', 'day_of_week_mon', 'day_of_week_thu',\n",
              "       'day_of_week_tue', 'day_of_week_wed', 'poutcome_failure',\n",
              "       'poutcome_nonexistent', 'poutcome_success', 'y_no', 'y_yes'],\n",
              "      dtype='object')"
            ]
          },
          "metadata": {},
          "execution_count": 68
        }
      ]
    },
    {
      "cell_type": "code",
      "source": [
        "df_dummies = df_dummies.rename(columns = {'y_yes':'y'})\n",
        "df_dummies.drop('y_no',axis=1,inplace=True)\n",
        "df_dummies['y'].value_counts()"
      ],
      "metadata": {
        "colab": {
          "base_uri": "https://localhost:8080/"
        },
        "id": "nVKq70Gl2Uwz",
        "outputId": "a538d492-a7af-412d-f09a-6cc419259042"
      },
      "execution_count": 69,
      "outputs": [
        {
          "output_type": "execute_result",
          "data": {
            "text/plain": [
              "0    36548\n",
              "1     4640\n",
              "Name: y, dtype: int64"
            ]
          },
          "metadata": {},
          "execution_count": 69
        }
      ]
    },
    {
      "cell_type": "code",
      "source": [
        "train, test = train_test_split(df_dummies, test_size=0.2, random_state=50,stratify=df_dummies['y'])  "
      ],
      "metadata": {
        "id": "n6I1U6Uy05vC"
      },
      "execution_count": 70,
      "outputs": []
    },
    {
      "cell_type": "code",
      "source": [
        "# split = StratifiedShuffleSplit(n_splits=1,test_size=0.2,random_state=50)\n",
        "\n",
        "# for train_i,test_i in split.split(bank_df,bank_df['y']):\n",
        "#   train = bank_df.loc[train_i]\n",
        "#   test = bank_df.loc[test_i]"
      ],
      "metadata": {
        "id": "5Yos_9xnBi9Z"
      },
      "execution_count": 71,
      "outputs": []
    },
    {
      "cell_type": "code",
      "source": [
        "# Check ratio of the samples in Test and train sample\n",
        "print(\"Training Shape {} and %\".format(train.shape))\n",
        "print(train['y'].value_counts()/len(train))\n",
        "print(\"Test shape {} and %\".format(test.shape))\n",
        "print(test['y'].value_counts()/len(test))"
      ],
      "metadata": {
        "colab": {
          "base_uri": "https://localhost:8080/"
        },
        "id": "uAKC7B_qCgM9",
        "outputId": "1a11fb9b-2d06-484f-edaa-d1410b8b250e"
      },
      "execution_count": 72,
      "outputs": [
        {
          "output_type": "stream",
          "name": "stdout",
          "text": [
            "Training Shape (32950, 63) and %\n",
            "0    0.887344\n",
            "1    0.112656\n",
            "Name: y, dtype: float64\n",
            "Test shape (8238, 63) and %\n",
            "0    0.887351\n",
            "1    0.112649\n",
            "Name: y, dtype: float64\n"
          ]
        }
      ]
    },
    {
      "cell_type": "code",
      "source": [
        "X_train = train.drop('y',axis=1)\n",
        "y_train = train['y'].copy()"
      ],
      "metadata": {
        "id": "ucgHKexS62N-"
      },
      "execution_count": 73,
      "outputs": []
    },
    {
      "cell_type": "code",
      "source": [
        "X_test = test.drop('y',axis=1)\n",
        "y_test = test['y'].copy()"
      ],
      "metadata": {
        "id": "sCX_Tr9r2egI"
      },
      "execution_count": 74,
      "outputs": []
    },
    {
      "cell_type": "markdown",
      "source": [
        "## Use LabelEncoder to convert the label into numbers."
      ],
      "metadata": {
        "id": "p2ZQ_sLZzY-s"
      }
    },
    {
      "cell_type": "code",
      "source": [
        "label_encoder = LabelEncoder()\n",
        "y_train_processed = label_encoder.fit_transform(y_train)"
      ],
      "metadata": {
        "id": "-Q60NhwTFPz-"
      },
      "execution_count": 75,
      "outputs": []
    },
    {
      "cell_type": "markdown",
      "source": [
        "Handling Numeric Values"
      ],
      "metadata": {
        "id": "QgCVML8gsmXf"
      }
    },
    {
      "cell_type": "code",
      "source": [
        "num_features = ['age','campaign','pdays','previous','emp.var.rate','cons.price.idx','cons.conf.idx','euribor3m','nr.employed']"
      ],
      "metadata": {
        "id": "Af9oz44ozUou"
      },
      "execution_count": 76,
      "outputs": []
    },
    {
      "cell_type": "code",
      "source": [
        "colTransformer = ColumnTransformer([(\"num\",StandardScaler(),num_features),],remainder='passthrough')"
      ],
      "metadata": {
        "id": "UzyFiIuXS7lT"
      },
      "execution_count": 77,
      "outputs": []
    },
    {
      "cell_type": "code",
      "source": [
        "X_train_processed  = colTransformer.fit_transform(X_train)\n",
        "X_train_processed[0,:]"
      ],
      "metadata": {
        "colab": {
          "base_uri": "https://localhost:8080/"
        },
        "id": "h5eUlKbcUzez",
        "outputId": "084abeb4-916b-4404-fd3d-8c2118d81b7c"
      },
      "execution_count": 78,
      "outputs": [
        {
          "output_type": "execute_result",
          "data": {
            "text/plain": [
              "array([-1.72917814,  0.15624845, -5.17551625,  1.68199284, -2.21626217,\n",
              "       -1.97491842,  2.93585685, -1.66734612, -2.07125007,  0.        ,\n",
              "        0.        ,  0.        ,  0.        ,  0.        ,  0.        ,\n",
              "        0.        ,  0.        ,  1.        ,  0.        ,  0.        ,\n",
              "        0.        ,  0.        ,  0.        ,  1.        ,  0.        ,\n",
              "        0.        ,  0.        ,  0.        ,  1.        ,  0.        ,\n",
              "        0.        ,  0.        ,  0.        ,  1.        ,  0.        ,\n",
              "        0.        ,  1.        ,  0.        ,  0.        ,  1.        ,\n",
              "        0.        ,  0.        ,  1.        ,  0.        ,  0.        ,\n",
              "        0.        ,  0.        ,  0.        ,  0.        ,  0.        ,\n",
              "        0.        ,  0.        ,  1.        ,  0.        ,  1.        ,\n",
              "        0.        ,  0.        ,  0.        ,  0.        ,  0.        ,\n",
              "        0.        ,  1.        ])"
            ]
          },
          "metadata": {},
          "execution_count": 78
        }
      ]
    },
    {
      "cell_type": "code",
      "source": [
        "print( sorted(SCORERS.keys()))"
      ],
      "metadata": {
        "colab": {
          "base_uri": "https://localhost:8080/"
        },
        "id": "bKj3xmcjl89n",
        "outputId": "0be7c03d-6936-4e75-a009-9ec23c0ce00a"
      },
      "execution_count": 79,
      "outputs": [
        {
          "output_type": "stream",
          "name": "stdout",
          "text": [
            "['accuracy', 'adjusted_mutual_info_score', 'adjusted_rand_score', 'average_precision', 'balanced_accuracy', 'completeness_score', 'explained_variance', 'f1', 'f1_macro', 'f1_micro', 'f1_samples', 'f1_weighted', 'fowlkes_mallows_score', 'homogeneity_score', 'jaccard', 'jaccard_macro', 'jaccard_micro', 'jaccard_samples', 'jaccard_weighted', 'max_error', 'mutual_info_score', 'neg_brier_score', 'neg_log_loss', 'neg_mean_absolute_error', 'neg_mean_absolute_percentage_error', 'neg_mean_gamma_deviance', 'neg_mean_poisson_deviance', 'neg_mean_squared_error', 'neg_mean_squared_log_error', 'neg_median_absolute_error', 'neg_root_mean_squared_error', 'normalized_mutual_info_score', 'precision', 'precision_macro', 'precision_micro', 'precision_samples', 'precision_weighted', 'r2', 'rand_score', 'recall', 'recall_macro', 'recall_micro', 'recall_samples', 'recall_weighted', 'roc_auc', 'roc_auc_ovo', 'roc_auc_ovo_weighted', 'roc_auc_ovr', 'roc_auc_ovr_weighted', 'top_k_accuracy', 'v_measure_score']\n"
          ]
        }
      ]
    },
    {
      "cell_type": "code",
      "source": [
        "clf = RandomForestClassifier(n_estimators=100,max_depth=3)\n",
        "scores = cross_val_score(clf, X_train_processed, y_train_processed, cv=10, scoring=make_scorer(acc))  # cross-validation\n",
        "print(\"ACC: %.2f +/- %.2f\" % (scores.mean(), scores.std()))"
      ],
      "metadata": {
        "colab": {
          "base_uri": "https://localhost:8080/",
          "height": 362
        },
        "id": "ytUfzLlKVgQR",
        "outputId": "28cae614-f7b8-472a-9467-c24f7ee51cf6"
      },
      "execution_count": 80,
      "outputs": [
        {
          "output_type": "error",
          "ename": "KeyboardInterrupt",
          "evalue": "ignored",
          "traceback": [
            "\u001b[0;31m---------------------------------------------------------------------------\u001b[0m",
            "\u001b[0;31mKeyboardInterrupt\u001b[0m                         Traceback (most recent call last)",
            "\u001b[0;32m<ipython-input-80-4ed9a57fb36c>\u001b[0m in \u001b[0;36m<module>\u001b[0;34m()\u001b[0m\n\u001b[1;32m      1\u001b[0m \u001b[0mclf\u001b[0m \u001b[0;34m=\u001b[0m \u001b[0mRandomForestClassifier\u001b[0m\u001b[0;34m(\u001b[0m\u001b[0mn_estimators\u001b[0m\u001b[0;34m=\u001b[0m\u001b[0;36m100\u001b[0m\u001b[0;34m,\u001b[0m\u001b[0mmax_depth\u001b[0m\u001b[0;34m=\u001b[0m\u001b[0;36m3\u001b[0m\u001b[0;34m)\u001b[0m\u001b[0;34m\u001b[0m\u001b[0;34m\u001b[0m\u001b[0m\n\u001b[0;32m----> 2\u001b[0;31m \u001b[0mscores\u001b[0m \u001b[0;34m=\u001b[0m \u001b[0mcross_val_score\u001b[0m\u001b[0;34m(\u001b[0m\u001b[0mclf\u001b[0m\u001b[0;34m,\u001b[0m \u001b[0mX_train_processed\u001b[0m\u001b[0;34m,\u001b[0m \u001b[0my_train_processed\u001b[0m\u001b[0;34m,\u001b[0m \u001b[0mcv\u001b[0m\u001b[0;34m=\u001b[0m\u001b[0;36m10\u001b[0m\u001b[0;34m,\u001b[0m \u001b[0mscoring\u001b[0m\u001b[0;34m=\u001b[0m\u001b[0mmake_scorer\u001b[0m\u001b[0;34m(\u001b[0m\u001b[0macc\u001b[0m\u001b[0;34m)\u001b[0m\u001b[0;34m)\u001b[0m  \u001b[0;31m# cross-validation\u001b[0m\u001b[0;34m\u001b[0m\u001b[0;34m\u001b[0m\u001b[0m\n\u001b[0m\u001b[1;32m      3\u001b[0m \u001b[0mprint\u001b[0m\u001b[0;34m(\u001b[0m\u001b[0;34m\"ACC: %.2f +/- %.2f\"\u001b[0m \u001b[0;34m%\u001b[0m \u001b[0;34m(\u001b[0m\u001b[0mscores\u001b[0m\u001b[0;34m.\u001b[0m\u001b[0mmean\u001b[0m\u001b[0;34m(\u001b[0m\u001b[0;34m)\u001b[0m\u001b[0;34m,\u001b[0m \u001b[0mscores\u001b[0m\u001b[0;34m.\u001b[0m\u001b[0mstd\u001b[0m\u001b[0;34m(\u001b[0m\u001b[0;34m)\u001b[0m\u001b[0;34m)\u001b[0m\u001b[0;34m)\u001b[0m\u001b[0;34m\u001b[0m\u001b[0;34m\u001b[0m\u001b[0m\n",
            "\u001b[0;32m/usr/local/lib/python3.7/dist-packages/sklearn/model_selection/_validation.py\u001b[0m in \u001b[0;36mcross_val_score\u001b[0;34m(estimator, X, y, groups, scoring, cv, n_jobs, verbose, fit_params, pre_dispatch, error_score)\u001b[0m\n\u001b[1;32m    518\u001b[0m         \u001b[0mfit_params\u001b[0m\u001b[0;34m=\u001b[0m\u001b[0mfit_params\u001b[0m\u001b[0;34m,\u001b[0m\u001b[0;34m\u001b[0m\u001b[0;34m\u001b[0m\u001b[0m\n\u001b[1;32m    519\u001b[0m         \u001b[0mpre_dispatch\u001b[0m\u001b[0;34m=\u001b[0m\u001b[0mpre_dispatch\u001b[0m\u001b[0;34m,\u001b[0m\u001b[0;34m\u001b[0m\u001b[0;34m\u001b[0m\u001b[0m\n\u001b[0;32m--> 520\u001b[0;31m         \u001b[0merror_score\u001b[0m\u001b[0;34m=\u001b[0m\u001b[0merror_score\u001b[0m\u001b[0;34m,\u001b[0m\u001b[0;34m\u001b[0m\u001b[0;34m\u001b[0m\u001b[0m\n\u001b[0m\u001b[1;32m    521\u001b[0m     )\n\u001b[1;32m    522\u001b[0m     \u001b[0;32mreturn\u001b[0m \u001b[0mcv_results\u001b[0m\u001b[0;34m[\u001b[0m\u001b[0;34m\"test_score\"\u001b[0m\u001b[0;34m]\u001b[0m\u001b[0;34m\u001b[0m\u001b[0;34m\u001b[0m\u001b[0m\n",
            "\u001b[0;32m/usr/local/lib/python3.7/dist-packages/sklearn/model_selection/_validation.py\u001b[0m in \u001b[0;36mcross_validate\u001b[0;34m(estimator, X, y, groups, scoring, cv, n_jobs, verbose, fit_params, pre_dispatch, return_train_score, return_estimator, error_score)\u001b[0m\n\u001b[1;32m    281\u001b[0m             \u001b[0merror_score\u001b[0m\u001b[0;34m=\u001b[0m\u001b[0merror_score\u001b[0m\u001b[0;34m,\u001b[0m\u001b[0;34m\u001b[0m\u001b[0;34m\u001b[0m\u001b[0m\n\u001b[1;32m    282\u001b[0m         )\n\u001b[0;32m--> 283\u001b[0;31m         \u001b[0;32mfor\u001b[0m \u001b[0mtrain\u001b[0m\u001b[0;34m,\u001b[0m \u001b[0mtest\u001b[0m \u001b[0;32min\u001b[0m \u001b[0mcv\u001b[0m\u001b[0;34m.\u001b[0m\u001b[0msplit\u001b[0m\u001b[0;34m(\u001b[0m\u001b[0mX\u001b[0m\u001b[0;34m,\u001b[0m \u001b[0my\u001b[0m\u001b[0;34m,\u001b[0m \u001b[0mgroups\u001b[0m\u001b[0;34m)\u001b[0m\u001b[0;34m\u001b[0m\u001b[0;34m\u001b[0m\u001b[0m\n\u001b[0m\u001b[1;32m    284\u001b[0m     )\n\u001b[1;32m    285\u001b[0m \u001b[0;34m\u001b[0m\u001b[0m\n",
            "\u001b[0;32m/usr/local/lib/python3.7/dist-packages/joblib/parallel.py\u001b[0m in \u001b[0;36m__call__\u001b[0;34m(self, iterable)\u001b[0m\n\u001b[1;32m   1044\u001b[0m                 \u001b[0mself\u001b[0m\u001b[0;34m.\u001b[0m\u001b[0m_iterating\u001b[0m \u001b[0;34m=\u001b[0m \u001b[0mself\u001b[0m\u001b[0;34m.\u001b[0m\u001b[0m_original_iterator\u001b[0m \u001b[0;32mis\u001b[0m \u001b[0;32mnot\u001b[0m \u001b[0;32mNone\u001b[0m\u001b[0;34m\u001b[0m\u001b[0;34m\u001b[0m\u001b[0m\n\u001b[1;32m   1045\u001b[0m \u001b[0;34m\u001b[0m\u001b[0m\n\u001b[0;32m-> 1046\u001b[0;31m             \u001b[0;32mwhile\u001b[0m \u001b[0mself\u001b[0m\u001b[0;34m.\u001b[0m\u001b[0mdispatch_one_batch\u001b[0m\u001b[0;34m(\u001b[0m\u001b[0miterator\u001b[0m\u001b[0;34m)\u001b[0m\u001b[0;34m:\u001b[0m\u001b[0;34m\u001b[0m\u001b[0;34m\u001b[0m\u001b[0m\n\u001b[0m\u001b[1;32m   1047\u001b[0m                 \u001b[0;32mpass\u001b[0m\u001b[0;34m\u001b[0m\u001b[0;34m\u001b[0m\u001b[0m\n\u001b[1;32m   1048\u001b[0m \u001b[0;34m\u001b[0m\u001b[0m\n",
            "\u001b[0;32m/usr/local/lib/python3.7/dist-packages/joblib/parallel.py\u001b[0m in \u001b[0;36mdispatch_one_batch\u001b[0;34m(self, iterator)\u001b[0m\n\u001b[1;32m    859\u001b[0m                 \u001b[0;32mreturn\u001b[0m \u001b[0;32mFalse\u001b[0m\u001b[0;34m\u001b[0m\u001b[0;34m\u001b[0m\u001b[0m\n\u001b[1;32m    860\u001b[0m             \u001b[0;32melse\u001b[0m\u001b[0;34m:\u001b[0m\u001b[0;34m\u001b[0m\u001b[0;34m\u001b[0m\u001b[0m\n\u001b[0;32m--> 861\u001b[0;31m                 \u001b[0mself\u001b[0m\u001b[0;34m.\u001b[0m\u001b[0m_dispatch\u001b[0m\u001b[0;34m(\u001b[0m\u001b[0mtasks\u001b[0m\u001b[0;34m)\u001b[0m\u001b[0;34m\u001b[0m\u001b[0;34m\u001b[0m\u001b[0m\n\u001b[0m\u001b[1;32m    862\u001b[0m                 \u001b[0;32mreturn\u001b[0m \u001b[0;32mTrue\u001b[0m\u001b[0;34m\u001b[0m\u001b[0;34m\u001b[0m\u001b[0m\n\u001b[1;32m    863\u001b[0m \u001b[0;34m\u001b[0m\u001b[0m\n",
            "\u001b[0;32m/usr/local/lib/python3.7/dist-packages/joblib/parallel.py\u001b[0m in \u001b[0;36m_dispatch\u001b[0;34m(self, batch)\u001b[0m\n\u001b[1;32m    777\u001b[0m         \u001b[0;32mwith\u001b[0m \u001b[0mself\u001b[0m\u001b[0;34m.\u001b[0m\u001b[0m_lock\u001b[0m\u001b[0;34m:\u001b[0m\u001b[0;34m\u001b[0m\u001b[0;34m\u001b[0m\u001b[0m\n\u001b[1;32m    778\u001b[0m             \u001b[0mjob_idx\u001b[0m \u001b[0;34m=\u001b[0m \u001b[0mlen\u001b[0m\u001b[0;34m(\u001b[0m\u001b[0mself\u001b[0m\u001b[0;34m.\u001b[0m\u001b[0m_jobs\u001b[0m\u001b[0;34m)\u001b[0m\u001b[0;34m\u001b[0m\u001b[0;34m\u001b[0m\u001b[0m\n\u001b[0;32m--> 779\u001b[0;31m             \u001b[0mjob\u001b[0m \u001b[0;34m=\u001b[0m \u001b[0mself\u001b[0m\u001b[0;34m.\u001b[0m\u001b[0m_backend\u001b[0m\u001b[0;34m.\u001b[0m\u001b[0mapply_async\u001b[0m\u001b[0;34m(\u001b[0m\u001b[0mbatch\u001b[0m\u001b[0;34m,\u001b[0m \u001b[0mcallback\u001b[0m\u001b[0;34m=\u001b[0m\u001b[0mcb\u001b[0m\u001b[0;34m)\u001b[0m\u001b[0;34m\u001b[0m\u001b[0;34m\u001b[0m\u001b[0m\n\u001b[0m\u001b[1;32m    780\u001b[0m             \u001b[0;31m# A job can complete so quickly than its callback is\u001b[0m\u001b[0;34m\u001b[0m\u001b[0;34m\u001b[0m\u001b[0;34m\u001b[0m\u001b[0m\n\u001b[1;32m    781\u001b[0m             \u001b[0;31m# called before we get here, causing self._jobs to\u001b[0m\u001b[0;34m\u001b[0m\u001b[0;34m\u001b[0m\u001b[0;34m\u001b[0m\u001b[0m\n",
            "\u001b[0;32m/usr/local/lib/python3.7/dist-packages/joblib/_parallel_backends.py\u001b[0m in \u001b[0;36mapply_async\u001b[0;34m(self, func, callback)\u001b[0m\n\u001b[1;32m    206\u001b[0m     \u001b[0;32mdef\u001b[0m \u001b[0mapply_async\u001b[0m\u001b[0;34m(\u001b[0m\u001b[0mself\u001b[0m\u001b[0;34m,\u001b[0m \u001b[0mfunc\u001b[0m\u001b[0;34m,\u001b[0m \u001b[0mcallback\u001b[0m\u001b[0;34m=\u001b[0m\u001b[0;32mNone\u001b[0m\u001b[0;34m)\u001b[0m\u001b[0;34m:\u001b[0m\u001b[0;34m\u001b[0m\u001b[0;34m\u001b[0m\u001b[0m\n\u001b[1;32m    207\u001b[0m         \u001b[0;34m\"\"\"Schedule a func to be run\"\"\"\u001b[0m\u001b[0;34m\u001b[0m\u001b[0;34m\u001b[0m\u001b[0m\n\u001b[0;32m--> 208\u001b[0;31m         \u001b[0mresult\u001b[0m \u001b[0;34m=\u001b[0m \u001b[0mImmediateResult\u001b[0m\u001b[0;34m(\u001b[0m\u001b[0mfunc\u001b[0m\u001b[0;34m)\u001b[0m\u001b[0;34m\u001b[0m\u001b[0;34m\u001b[0m\u001b[0m\n\u001b[0m\u001b[1;32m    209\u001b[0m         \u001b[0;32mif\u001b[0m \u001b[0mcallback\u001b[0m\u001b[0;34m:\u001b[0m\u001b[0;34m\u001b[0m\u001b[0;34m\u001b[0m\u001b[0m\n\u001b[1;32m    210\u001b[0m             \u001b[0mcallback\u001b[0m\u001b[0;34m(\u001b[0m\u001b[0mresult\u001b[0m\u001b[0;34m)\u001b[0m\u001b[0;34m\u001b[0m\u001b[0;34m\u001b[0m\u001b[0m\n",
            "\u001b[0;32m/usr/local/lib/python3.7/dist-packages/joblib/_parallel_backends.py\u001b[0m in \u001b[0;36m__init__\u001b[0;34m(self, batch)\u001b[0m\n\u001b[1;32m    570\u001b[0m         \u001b[0;31m# Don't delay the application, to avoid keeping the input\u001b[0m\u001b[0;34m\u001b[0m\u001b[0;34m\u001b[0m\u001b[0;34m\u001b[0m\u001b[0m\n\u001b[1;32m    571\u001b[0m         \u001b[0;31m# arguments in memory\u001b[0m\u001b[0;34m\u001b[0m\u001b[0;34m\u001b[0m\u001b[0;34m\u001b[0m\u001b[0m\n\u001b[0;32m--> 572\u001b[0;31m         \u001b[0mself\u001b[0m\u001b[0;34m.\u001b[0m\u001b[0mresults\u001b[0m \u001b[0;34m=\u001b[0m \u001b[0mbatch\u001b[0m\u001b[0;34m(\u001b[0m\u001b[0;34m)\u001b[0m\u001b[0;34m\u001b[0m\u001b[0;34m\u001b[0m\u001b[0m\n\u001b[0m\u001b[1;32m    573\u001b[0m \u001b[0;34m\u001b[0m\u001b[0m\n\u001b[1;32m    574\u001b[0m     \u001b[0;32mdef\u001b[0m \u001b[0mget\u001b[0m\u001b[0;34m(\u001b[0m\u001b[0mself\u001b[0m\u001b[0;34m)\u001b[0m\u001b[0;34m:\u001b[0m\u001b[0;34m\u001b[0m\u001b[0;34m\u001b[0m\u001b[0m\n",
            "\u001b[0;32m/usr/local/lib/python3.7/dist-packages/joblib/parallel.py\u001b[0m in \u001b[0;36m__call__\u001b[0;34m(self)\u001b[0m\n\u001b[1;32m    261\u001b[0m         \u001b[0;32mwith\u001b[0m \u001b[0mparallel_backend\u001b[0m\u001b[0;34m(\u001b[0m\u001b[0mself\u001b[0m\u001b[0;34m.\u001b[0m\u001b[0m_backend\u001b[0m\u001b[0;34m,\u001b[0m \u001b[0mn_jobs\u001b[0m\u001b[0;34m=\u001b[0m\u001b[0mself\u001b[0m\u001b[0;34m.\u001b[0m\u001b[0m_n_jobs\u001b[0m\u001b[0;34m)\u001b[0m\u001b[0;34m:\u001b[0m\u001b[0;34m\u001b[0m\u001b[0;34m\u001b[0m\u001b[0m\n\u001b[1;32m    262\u001b[0m             return [func(*args, **kwargs)\n\u001b[0;32m--> 263\u001b[0;31m                     for func, args, kwargs in self.items]\n\u001b[0m\u001b[1;32m    264\u001b[0m \u001b[0;34m\u001b[0m\u001b[0m\n\u001b[1;32m    265\u001b[0m     \u001b[0;32mdef\u001b[0m \u001b[0m__reduce__\u001b[0m\u001b[0;34m(\u001b[0m\u001b[0mself\u001b[0m\u001b[0;34m)\u001b[0m\u001b[0;34m:\u001b[0m\u001b[0;34m\u001b[0m\u001b[0;34m\u001b[0m\u001b[0m\n",
            "\u001b[0;32m/usr/local/lib/python3.7/dist-packages/joblib/parallel.py\u001b[0m in \u001b[0;36m<listcomp>\u001b[0;34m(.0)\u001b[0m\n\u001b[1;32m    261\u001b[0m         \u001b[0;32mwith\u001b[0m \u001b[0mparallel_backend\u001b[0m\u001b[0;34m(\u001b[0m\u001b[0mself\u001b[0m\u001b[0;34m.\u001b[0m\u001b[0m_backend\u001b[0m\u001b[0;34m,\u001b[0m \u001b[0mn_jobs\u001b[0m\u001b[0;34m=\u001b[0m\u001b[0mself\u001b[0m\u001b[0;34m.\u001b[0m\u001b[0m_n_jobs\u001b[0m\u001b[0;34m)\u001b[0m\u001b[0;34m:\u001b[0m\u001b[0;34m\u001b[0m\u001b[0;34m\u001b[0m\u001b[0m\n\u001b[1;32m    262\u001b[0m             return [func(*args, **kwargs)\n\u001b[0;32m--> 263\u001b[0;31m                     for func, args, kwargs in self.items]\n\u001b[0m\u001b[1;32m    264\u001b[0m \u001b[0;34m\u001b[0m\u001b[0m\n\u001b[1;32m    265\u001b[0m     \u001b[0;32mdef\u001b[0m \u001b[0m__reduce__\u001b[0m\u001b[0;34m(\u001b[0m\u001b[0mself\u001b[0m\u001b[0;34m)\u001b[0m\u001b[0;34m:\u001b[0m\u001b[0;34m\u001b[0m\u001b[0;34m\u001b[0m\u001b[0m\n",
            "\u001b[0;32m/usr/local/lib/python3.7/dist-packages/sklearn/utils/fixes.py\u001b[0m in \u001b[0;36m__call__\u001b[0;34m(self, *args, **kwargs)\u001b[0m\n\u001b[1;32m    214\u001b[0m     \u001b[0;32mdef\u001b[0m \u001b[0m__call__\u001b[0m\u001b[0;34m(\u001b[0m\u001b[0mself\u001b[0m\u001b[0;34m,\u001b[0m \u001b[0;34m*\u001b[0m\u001b[0margs\u001b[0m\u001b[0;34m,\u001b[0m \u001b[0;34m**\u001b[0m\u001b[0mkwargs\u001b[0m\u001b[0;34m)\u001b[0m\u001b[0;34m:\u001b[0m\u001b[0;34m\u001b[0m\u001b[0;34m\u001b[0m\u001b[0m\n\u001b[1;32m    215\u001b[0m         \u001b[0;32mwith\u001b[0m \u001b[0mconfig_context\u001b[0m\u001b[0;34m(\u001b[0m\u001b[0;34m**\u001b[0m\u001b[0mself\u001b[0m\u001b[0;34m.\u001b[0m\u001b[0mconfig\u001b[0m\u001b[0;34m)\u001b[0m\u001b[0;34m:\u001b[0m\u001b[0;34m\u001b[0m\u001b[0;34m\u001b[0m\u001b[0m\n\u001b[0;32m--> 216\u001b[0;31m             \u001b[0;32mreturn\u001b[0m \u001b[0mself\u001b[0m\u001b[0;34m.\u001b[0m\u001b[0mfunction\u001b[0m\u001b[0;34m(\u001b[0m\u001b[0;34m*\u001b[0m\u001b[0margs\u001b[0m\u001b[0;34m,\u001b[0m \u001b[0;34m**\u001b[0m\u001b[0mkwargs\u001b[0m\u001b[0;34m)\u001b[0m\u001b[0;34m\u001b[0m\u001b[0;34m\u001b[0m\u001b[0m\n\u001b[0m\u001b[1;32m    217\u001b[0m \u001b[0;34m\u001b[0m\u001b[0m\n\u001b[1;32m    218\u001b[0m \u001b[0;34m\u001b[0m\u001b[0m\n",
            "\u001b[0;32m/usr/local/lib/python3.7/dist-packages/sklearn/model_selection/_validation.py\u001b[0m in \u001b[0;36m_fit_and_score\u001b[0;34m(estimator, X, y, scorer, train, test, verbose, parameters, fit_params, return_train_score, return_parameters, return_n_test_samples, return_times, return_estimator, split_progress, candidate_progress, error_score)\u001b[0m\n\u001b[1;32m    678\u001b[0m             \u001b[0mestimator\u001b[0m\u001b[0;34m.\u001b[0m\u001b[0mfit\u001b[0m\u001b[0;34m(\u001b[0m\u001b[0mX_train\u001b[0m\u001b[0;34m,\u001b[0m \u001b[0;34m**\u001b[0m\u001b[0mfit_params\u001b[0m\u001b[0;34m)\u001b[0m\u001b[0;34m\u001b[0m\u001b[0;34m\u001b[0m\u001b[0m\n\u001b[1;32m    679\u001b[0m         \u001b[0;32melse\u001b[0m\u001b[0;34m:\u001b[0m\u001b[0;34m\u001b[0m\u001b[0;34m\u001b[0m\u001b[0m\n\u001b[0;32m--> 680\u001b[0;31m             \u001b[0mestimator\u001b[0m\u001b[0;34m.\u001b[0m\u001b[0mfit\u001b[0m\u001b[0;34m(\u001b[0m\u001b[0mX_train\u001b[0m\u001b[0;34m,\u001b[0m \u001b[0my_train\u001b[0m\u001b[0;34m,\u001b[0m \u001b[0;34m**\u001b[0m\u001b[0mfit_params\u001b[0m\u001b[0;34m)\u001b[0m\u001b[0;34m\u001b[0m\u001b[0;34m\u001b[0m\u001b[0m\n\u001b[0m\u001b[1;32m    681\u001b[0m \u001b[0;34m\u001b[0m\u001b[0m\n\u001b[1;32m    682\u001b[0m     \u001b[0;32mexcept\u001b[0m \u001b[0mException\u001b[0m\u001b[0;34m:\u001b[0m\u001b[0;34m\u001b[0m\u001b[0;34m\u001b[0m\u001b[0m\n",
            "\u001b[0;32m/usr/local/lib/python3.7/dist-packages/sklearn/ensemble/_forest.py\u001b[0m in \u001b[0;36mfit\u001b[0;34m(self, X, y, sample_weight)\u001b[0m\n\u001b[1;32m    465\u001b[0m                     \u001b[0mn_samples_bootstrap\u001b[0m\u001b[0;34m=\u001b[0m\u001b[0mn_samples_bootstrap\u001b[0m\u001b[0;34m,\u001b[0m\u001b[0;34m\u001b[0m\u001b[0;34m\u001b[0m\u001b[0m\n\u001b[1;32m    466\u001b[0m                 )\n\u001b[0;32m--> 467\u001b[0;31m                 \u001b[0;32mfor\u001b[0m \u001b[0mi\u001b[0m\u001b[0;34m,\u001b[0m \u001b[0mt\u001b[0m \u001b[0;32min\u001b[0m \u001b[0menumerate\u001b[0m\u001b[0;34m(\u001b[0m\u001b[0mtrees\u001b[0m\u001b[0;34m)\u001b[0m\u001b[0;34m\u001b[0m\u001b[0;34m\u001b[0m\u001b[0m\n\u001b[0m\u001b[1;32m    468\u001b[0m             )\n\u001b[1;32m    469\u001b[0m \u001b[0;34m\u001b[0m\u001b[0m\n",
            "\u001b[0;32m/usr/local/lib/python3.7/dist-packages/joblib/parallel.py\u001b[0m in \u001b[0;36m__call__\u001b[0;34m(self, iterable)\u001b[0m\n\u001b[1;32m   1044\u001b[0m                 \u001b[0mself\u001b[0m\u001b[0;34m.\u001b[0m\u001b[0m_iterating\u001b[0m \u001b[0;34m=\u001b[0m \u001b[0mself\u001b[0m\u001b[0;34m.\u001b[0m\u001b[0m_original_iterator\u001b[0m \u001b[0;32mis\u001b[0m \u001b[0;32mnot\u001b[0m \u001b[0;32mNone\u001b[0m\u001b[0;34m\u001b[0m\u001b[0;34m\u001b[0m\u001b[0m\n\u001b[1;32m   1045\u001b[0m \u001b[0;34m\u001b[0m\u001b[0m\n\u001b[0;32m-> 1046\u001b[0;31m             \u001b[0;32mwhile\u001b[0m \u001b[0mself\u001b[0m\u001b[0;34m.\u001b[0m\u001b[0mdispatch_one_batch\u001b[0m\u001b[0;34m(\u001b[0m\u001b[0miterator\u001b[0m\u001b[0;34m)\u001b[0m\u001b[0;34m:\u001b[0m\u001b[0;34m\u001b[0m\u001b[0;34m\u001b[0m\u001b[0m\n\u001b[0m\u001b[1;32m   1047\u001b[0m                 \u001b[0;32mpass\u001b[0m\u001b[0;34m\u001b[0m\u001b[0;34m\u001b[0m\u001b[0m\n\u001b[1;32m   1048\u001b[0m \u001b[0;34m\u001b[0m\u001b[0m\n",
            "\u001b[0;32m/usr/local/lib/python3.7/dist-packages/joblib/parallel.py\u001b[0m in \u001b[0;36mdispatch_one_batch\u001b[0;34m(self, iterator)\u001b[0m\n\u001b[1;32m    859\u001b[0m                 \u001b[0;32mreturn\u001b[0m \u001b[0;32mFalse\u001b[0m\u001b[0;34m\u001b[0m\u001b[0;34m\u001b[0m\u001b[0m\n\u001b[1;32m    860\u001b[0m             \u001b[0;32melse\u001b[0m\u001b[0;34m:\u001b[0m\u001b[0;34m\u001b[0m\u001b[0;34m\u001b[0m\u001b[0m\n\u001b[0;32m--> 861\u001b[0;31m                 \u001b[0mself\u001b[0m\u001b[0;34m.\u001b[0m\u001b[0m_dispatch\u001b[0m\u001b[0;34m(\u001b[0m\u001b[0mtasks\u001b[0m\u001b[0;34m)\u001b[0m\u001b[0;34m\u001b[0m\u001b[0;34m\u001b[0m\u001b[0m\n\u001b[0m\u001b[1;32m    862\u001b[0m                 \u001b[0;32mreturn\u001b[0m \u001b[0;32mTrue\u001b[0m\u001b[0;34m\u001b[0m\u001b[0;34m\u001b[0m\u001b[0m\n\u001b[1;32m    863\u001b[0m \u001b[0;34m\u001b[0m\u001b[0m\n",
            "\u001b[0;32m/usr/local/lib/python3.7/dist-packages/joblib/parallel.py\u001b[0m in \u001b[0;36m_dispatch\u001b[0;34m(self, batch)\u001b[0m\n\u001b[1;32m    777\u001b[0m         \u001b[0;32mwith\u001b[0m \u001b[0mself\u001b[0m\u001b[0;34m.\u001b[0m\u001b[0m_lock\u001b[0m\u001b[0;34m:\u001b[0m\u001b[0;34m\u001b[0m\u001b[0;34m\u001b[0m\u001b[0m\n\u001b[1;32m    778\u001b[0m             \u001b[0mjob_idx\u001b[0m \u001b[0;34m=\u001b[0m \u001b[0mlen\u001b[0m\u001b[0;34m(\u001b[0m\u001b[0mself\u001b[0m\u001b[0;34m.\u001b[0m\u001b[0m_jobs\u001b[0m\u001b[0;34m)\u001b[0m\u001b[0;34m\u001b[0m\u001b[0;34m\u001b[0m\u001b[0m\n\u001b[0;32m--> 779\u001b[0;31m             \u001b[0mjob\u001b[0m \u001b[0;34m=\u001b[0m \u001b[0mself\u001b[0m\u001b[0;34m.\u001b[0m\u001b[0m_backend\u001b[0m\u001b[0;34m.\u001b[0m\u001b[0mapply_async\u001b[0m\u001b[0;34m(\u001b[0m\u001b[0mbatch\u001b[0m\u001b[0;34m,\u001b[0m \u001b[0mcallback\u001b[0m\u001b[0;34m=\u001b[0m\u001b[0mcb\u001b[0m\u001b[0;34m)\u001b[0m\u001b[0;34m\u001b[0m\u001b[0;34m\u001b[0m\u001b[0m\n\u001b[0m\u001b[1;32m    780\u001b[0m             \u001b[0;31m# A job can complete so quickly than its callback is\u001b[0m\u001b[0;34m\u001b[0m\u001b[0;34m\u001b[0m\u001b[0;34m\u001b[0m\u001b[0m\n\u001b[1;32m    781\u001b[0m             \u001b[0;31m# called before we get here, causing self._jobs to\u001b[0m\u001b[0;34m\u001b[0m\u001b[0;34m\u001b[0m\u001b[0;34m\u001b[0m\u001b[0m\n",
            "\u001b[0;32m/usr/local/lib/python3.7/dist-packages/joblib/_parallel_backends.py\u001b[0m in \u001b[0;36mapply_async\u001b[0;34m(self, func, callback)\u001b[0m\n\u001b[1;32m    206\u001b[0m     \u001b[0;32mdef\u001b[0m \u001b[0mapply_async\u001b[0m\u001b[0;34m(\u001b[0m\u001b[0mself\u001b[0m\u001b[0;34m,\u001b[0m \u001b[0mfunc\u001b[0m\u001b[0;34m,\u001b[0m \u001b[0mcallback\u001b[0m\u001b[0;34m=\u001b[0m\u001b[0;32mNone\u001b[0m\u001b[0;34m)\u001b[0m\u001b[0;34m:\u001b[0m\u001b[0;34m\u001b[0m\u001b[0;34m\u001b[0m\u001b[0m\n\u001b[1;32m    207\u001b[0m         \u001b[0;34m\"\"\"Schedule a func to be run\"\"\"\u001b[0m\u001b[0;34m\u001b[0m\u001b[0;34m\u001b[0m\u001b[0m\n\u001b[0;32m--> 208\u001b[0;31m         \u001b[0mresult\u001b[0m \u001b[0;34m=\u001b[0m \u001b[0mImmediateResult\u001b[0m\u001b[0;34m(\u001b[0m\u001b[0mfunc\u001b[0m\u001b[0;34m)\u001b[0m\u001b[0;34m\u001b[0m\u001b[0;34m\u001b[0m\u001b[0m\n\u001b[0m\u001b[1;32m    209\u001b[0m         \u001b[0;32mif\u001b[0m \u001b[0mcallback\u001b[0m\u001b[0;34m:\u001b[0m\u001b[0;34m\u001b[0m\u001b[0;34m\u001b[0m\u001b[0m\n\u001b[1;32m    210\u001b[0m             \u001b[0mcallback\u001b[0m\u001b[0;34m(\u001b[0m\u001b[0mresult\u001b[0m\u001b[0;34m)\u001b[0m\u001b[0;34m\u001b[0m\u001b[0;34m\u001b[0m\u001b[0m\n",
            "\u001b[0;32m/usr/local/lib/python3.7/dist-packages/joblib/_parallel_backends.py\u001b[0m in \u001b[0;36m__init__\u001b[0;34m(self, batch)\u001b[0m\n\u001b[1;32m    570\u001b[0m         \u001b[0;31m# Don't delay the application, to avoid keeping the input\u001b[0m\u001b[0;34m\u001b[0m\u001b[0;34m\u001b[0m\u001b[0;34m\u001b[0m\u001b[0m\n\u001b[1;32m    571\u001b[0m         \u001b[0;31m# arguments in memory\u001b[0m\u001b[0;34m\u001b[0m\u001b[0;34m\u001b[0m\u001b[0;34m\u001b[0m\u001b[0m\n\u001b[0;32m--> 572\u001b[0;31m         \u001b[0mself\u001b[0m\u001b[0;34m.\u001b[0m\u001b[0mresults\u001b[0m \u001b[0;34m=\u001b[0m \u001b[0mbatch\u001b[0m\u001b[0;34m(\u001b[0m\u001b[0;34m)\u001b[0m\u001b[0;34m\u001b[0m\u001b[0;34m\u001b[0m\u001b[0m\n\u001b[0m\u001b[1;32m    573\u001b[0m \u001b[0;34m\u001b[0m\u001b[0m\n\u001b[1;32m    574\u001b[0m     \u001b[0;32mdef\u001b[0m \u001b[0mget\u001b[0m\u001b[0;34m(\u001b[0m\u001b[0mself\u001b[0m\u001b[0;34m)\u001b[0m\u001b[0;34m:\u001b[0m\u001b[0;34m\u001b[0m\u001b[0;34m\u001b[0m\u001b[0m\n",
            "\u001b[0;32m/usr/local/lib/python3.7/dist-packages/joblib/parallel.py\u001b[0m in \u001b[0;36m__call__\u001b[0;34m(self)\u001b[0m\n\u001b[1;32m    261\u001b[0m         \u001b[0;32mwith\u001b[0m \u001b[0mparallel_backend\u001b[0m\u001b[0;34m(\u001b[0m\u001b[0mself\u001b[0m\u001b[0;34m.\u001b[0m\u001b[0m_backend\u001b[0m\u001b[0;34m,\u001b[0m \u001b[0mn_jobs\u001b[0m\u001b[0;34m=\u001b[0m\u001b[0mself\u001b[0m\u001b[0;34m.\u001b[0m\u001b[0m_n_jobs\u001b[0m\u001b[0;34m)\u001b[0m\u001b[0;34m:\u001b[0m\u001b[0;34m\u001b[0m\u001b[0;34m\u001b[0m\u001b[0m\n\u001b[1;32m    262\u001b[0m             return [func(*args, **kwargs)\n\u001b[0;32m--> 263\u001b[0;31m                     for func, args, kwargs in self.items]\n\u001b[0m\u001b[1;32m    264\u001b[0m \u001b[0;34m\u001b[0m\u001b[0m\n\u001b[1;32m    265\u001b[0m     \u001b[0;32mdef\u001b[0m \u001b[0m__reduce__\u001b[0m\u001b[0;34m(\u001b[0m\u001b[0mself\u001b[0m\u001b[0;34m)\u001b[0m\u001b[0;34m:\u001b[0m\u001b[0;34m\u001b[0m\u001b[0;34m\u001b[0m\u001b[0m\n",
            "\u001b[0;32m/usr/local/lib/python3.7/dist-packages/joblib/parallel.py\u001b[0m in \u001b[0;36m<listcomp>\u001b[0;34m(.0)\u001b[0m\n\u001b[1;32m    261\u001b[0m         \u001b[0;32mwith\u001b[0m \u001b[0mparallel_backend\u001b[0m\u001b[0;34m(\u001b[0m\u001b[0mself\u001b[0m\u001b[0;34m.\u001b[0m\u001b[0m_backend\u001b[0m\u001b[0;34m,\u001b[0m \u001b[0mn_jobs\u001b[0m\u001b[0;34m=\u001b[0m\u001b[0mself\u001b[0m\u001b[0;34m.\u001b[0m\u001b[0m_n_jobs\u001b[0m\u001b[0;34m)\u001b[0m\u001b[0;34m:\u001b[0m\u001b[0;34m\u001b[0m\u001b[0;34m\u001b[0m\u001b[0m\n\u001b[1;32m    262\u001b[0m             return [func(*args, **kwargs)\n\u001b[0;32m--> 263\u001b[0;31m                     for func, args, kwargs in self.items]\n\u001b[0m\u001b[1;32m    264\u001b[0m \u001b[0;34m\u001b[0m\u001b[0m\n\u001b[1;32m    265\u001b[0m     \u001b[0;32mdef\u001b[0m \u001b[0m__reduce__\u001b[0m\u001b[0;34m(\u001b[0m\u001b[0mself\u001b[0m\u001b[0;34m)\u001b[0m\u001b[0;34m:\u001b[0m\u001b[0;34m\u001b[0m\u001b[0;34m\u001b[0m\u001b[0m\n",
            "\u001b[0;32m/usr/local/lib/python3.7/dist-packages/sklearn/utils/fixes.py\u001b[0m in \u001b[0;36m__call__\u001b[0;34m(self, *args, **kwargs)\u001b[0m\n\u001b[1;32m    214\u001b[0m     \u001b[0;32mdef\u001b[0m \u001b[0m__call__\u001b[0m\u001b[0;34m(\u001b[0m\u001b[0mself\u001b[0m\u001b[0;34m,\u001b[0m \u001b[0;34m*\u001b[0m\u001b[0margs\u001b[0m\u001b[0;34m,\u001b[0m \u001b[0;34m**\u001b[0m\u001b[0mkwargs\u001b[0m\u001b[0;34m)\u001b[0m\u001b[0;34m:\u001b[0m\u001b[0;34m\u001b[0m\u001b[0;34m\u001b[0m\u001b[0m\n\u001b[1;32m    215\u001b[0m         \u001b[0;32mwith\u001b[0m \u001b[0mconfig_context\u001b[0m\u001b[0;34m(\u001b[0m\u001b[0;34m**\u001b[0m\u001b[0mself\u001b[0m\u001b[0;34m.\u001b[0m\u001b[0mconfig\u001b[0m\u001b[0;34m)\u001b[0m\u001b[0;34m:\u001b[0m\u001b[0;34m\u001b[0m\u001b[0;34m\u001b[0m\u001b[0m\n\u001b[0;32m--> 216\u001b[0;31m             \u001b[0;32mreturn\u001b[0m \u001b[0mself\u001b[0m\u001b[0;34m.\u001b[0m\u001b[0mfunction\u001b[0m\u001b[0;34m(\u001b[0m\u001b[0;34m*\u001b[0m\u001b[0margs\u001b[0m\u001b[0;34m,\u001b[0m \u001b[0;34m**\u001b[0m\u001b[0mkwargs\u001b[0m\u001b[0;34m)\u001b[0m\u001b[0;34m\u001b[0m\u001b[0;34m\u001b[0m\u001b[0m\n\u001b[0m\u001b[1;32m    217\u001b[0m \u001b[0;34m\u001b[0m\u001b[0m\n\u001b[1;32m    218\u001b[0m \u001b[0;34m\u001b[0m\u001b[0m\n",
            "\u001b[0;32m/usr/local/lib/python3.7/dist-packages/sklearn/ensemble/_forest.py\u001b[0m in \u001b[0;36m_parallel_build_trees\u001b[0;34m(tree, forest, X, y, sample_weight, tree_idx, n_trees, verbose, class_weight, n_samples_bootstrap)\u001b[0m\n\u001b[1;32m    183\u001b[0m             \u001b[0mcurr_sample_weight\u001b[0m \u001b[0;34m*=\u001b[0m \u001b[0mcompute_sample_weight\u001b[0m\u001b[0;34m(\u001b[0m\u001b[0;34m\"balanced\"\u001b[0m\u001b[0;34m,\u001b[0m \u001b[0my\u001b[0m\u001b[0;34m,\u001b[0m \u001b[0mindices\u001b[0m\u001b[0;34m=\u001b[0m\u001b[0mindices\u001b[0m\u001b[0;34m)\u001b[0m\u001b[0;34m\u001b[0m\u001b[0;34m\u001b[0m\u001b[0m\n\u001b[1;32m    184\u001b[0m \u001b[0;34m\u001b[0m\u001b[0m\n\u001b[0;32m--> 185\u001b[0;31m         \u001b[0mtree\u001b[0m\u001b[0;34m.\u001b[0m\u001b[0mfit\u001b[0m\u001b[0;34m(\u001b[0m\u001b[0mX\u001b[0m\u001b[0;34m,\u001b[0m \u001b[0my\u001b[0m\u001b[0;34m,\u001b[0m \u001b[0msample_weight\u001b[0m\u001b[0;34m=\u001b[0m\u001b[0mcurr_sample_weight\u001b[0m\u001b[0;34m,\u001b[0m \u001b[0mcheck_input\u001b[0m\u001b[0;34m=\u001b[0m\u001b[0;32mFalse\u001b[0m\u001b[0;34m)\u001b[0m\u001b[0;34m\u001b[0m\u001b[0;34m\u001b[0m\u001b[0m\n\u001b[0m\u001b[1;32m    186\u001b[0m     \u001b[0;32melse\u001b[0m\u001b[0;34m:\u001b[0m\u001b[0;34m\u001b[0m\u001b[0;34m\u001b[0m\u001b[0m\n\u001b[1;32m    187\u001b[0m         \u001b[0mtree\u001b[0m\u001b[0;34m.\u001b[0m\u001b[0mfit\u001b[0m\u001b[0;34m(\u001b[0m\u001b[0mX\u001b[0m\u001b[0;34m,\u001b[0m \u001b[0my\u001b[0m\u001b[0;34m,\u001b[0m \u001b[0msample_weight\u001b[0m\u001b[0;34m=\u001b[0m\u001b[0msample_weight\u001b[0m\u001b[0;34m,\u001b[0m \u001b[0mcheck_input\u001b[0m\u001b[0;34m=\u001b[0m\u001b[0;32mFalse\u001b[0m\u001b[0;34m)\u001b[0m\u001b[0;34m\u001b[0m\u001b[0;34m\u001b[0m\u001b[0m\n",
            "\u001b[0;32m/usr/local/lib/python3.7/dist-packages/sklearn/tree/_classes.py\u001b[0m in \u001b[0;36mfit\u001b[0;34m(self, X, y, sample_weight, check_input, X_idx_sorted)\u001b[0m\n\u001b[1;32m    940\u001b[0m             \u001b[0msample_weight\u001b[0m\u001b[0;34m=\u001b[0m\u001b[0msample_weight\u001b[0m\u001b[0;34m,\u001b[0m\u001b[0;34m\u001b[0m\u001b[0;34m\u001b[0m\u001b[0m\n\u001b[1;32m    941\u001b[0m             \u001b[0mcheck_input\u001b[0m\u001b[0;34m=\u001b[0m\u001b[0mcheck_input\u001b[0m\u001b[0;34m,\u001b[0m\u001b[0;34m\u001b[0m\u001b[0;34m\u001b[0m\u001b[0m\n\u001b[0;32m--> 942\u001b[0;31m             \u001b[0mX_idx_sorted\u001b[0m\u001b[0;34m=\u001b[0m\u001b[0mX_idx_sorted\u001b[0m\u001b[0;34m,\u001b[0m\u001b[0;34m\u001b[0m\u001b[0;34m\u001b[0m\u001b[0m\n\u001b[0m\u001b[1;32m    943\u001b[0m         )\n\u001b[1;32m    944\u001b[0m         \u001b[0;32mreturn\u001b[0m \u001b[0mself\u001b[0m\u001b[0;34m\u001b[0m\u001b[0;34m\u001b[0m\u001b[0m\n",
            "\u001b[0;32m/usr/local/lib/python3.7/dist-packages/sklearn/tree/_classes.py\u001b[0m in \u001b[0;36mfit\u001b[0;34m(self, X, y, sample_weight, check_input, X_idx_sorted)\u001b[0m\n\u001b[1;32m    418\u001b[0m             )\n\u001b[1;32m    419\u001b[0m \u001b[0;34m\u001b[0m\u001b[0m\n\u001b[0;32m--> 420\u001b[0;31m         \u001b[0mbuilder\u001b[0m\u001b[0;34m.\u001b[0m\u001b[0mbuild\u001b[0m\u001b[0;34m(\u001b[0m\u001b[0mself\u001b[0m\u001b[0;34m.\u001b[0m\u001b[0mtree_\u001b[0m\u001b[0;34m,\u001b[0m \u001b[0mX\u001b[0m\u001b[0;34m,\u001b[0m \u001b[0my\u001b[0m\u001b[0;34m,\u001b[0m \u001b[0msample_weight\u001b[0m\u001b[0;34m)\u001b[0m\u001b[0;34m\u001b[0m\u001b[0;34m\u001b[0m\u001b[0m\n\u001b[0m\u001b[1;32m    421\u001b[0m \u001b[0;34m\u001b[0m\u001b[0m\n\u001b[1;32m    422\u001b[0m         \u001b[0;32mif\u001b[0m \u001b[0mself\u001b[0m\u001b[0;34m.\u001b[0m\u001b[0mn_outputs_\u001b[0m \u001b[0;34m==\u001b[0m \u001b[0;36m1\u001b[0m \u001b[0;32mand\u001b[0m \u001b[0mis_classifier\u001b[0m\u001b[0;34m(\u001b[0m\u001b[0mself\u001b[0m\u001b[0;34m)\u001b[0m\u001b[0;34m:\u001b[0m\u001b[0;34m\u001b[0m\u001b[0;34m\u001b[0m\u001b[0m\n",
            "\u001b[0;31mKeyboardInterrupt\u001b[0m: "
          ]
        }
      ]
    },
    {
      "cell_type": "code",
      "source": [
        "clf.fit(X_train_processed, y_train_processed)"
      ],
      "metadata": {
        "colab": {
          "base_uri": "https://localhost:8080/"
        },
        "id": "6pDbO2AI1pPQ",
        "outputId": "5066f9ae-5f96-42cd-e2c3-c45ae1e509ab"
      },
      "execution_count": null,
      "outputs": [
        {
          "output_type": "execute_result",
          "data": {
            "text/plain": [
              "RandomForestClassifier(max_depth=3)"
            ]
          },
          "metadata": {},
          "execution_count": 169
        }
      ]
    },
    {
      "cell_type": "markdown",
      "source": [
        "## Classification Report"
      ],
      "metadata": {
        "id": "wPLqTiBPfFgC"
      }
    },
    {
      "cell_type": "code",
      "source": [
        "from sklearn.metrics import classification_report"
      ],
      "metadata": {
        "id": "CxEl8z8AfRin"
      },
      "execution_count": null,
      "outputs": []
    },
    {
      "cell_type": "code",
      "source": [
        "X_test_processed = colTransformer.transform(X_test)"
      ],
      "metadata": {
        "id": "V41sTPMD3gF7"
      },
      "execution_count": null,
      "outputs": []
    },
    {
      "cell_type": "code",
      "source": [
        "y_test_processed = label_encoder.transform(y_test)"
      ],
      "metadata": {
        "id": "lo4Ji0LhyYpL"
      },
      "execution_count": null,
      "outputs": []
    },
    {
      "cell_type": "code",
      "source": [
        "y_pred_test = clf.predict(X_test_processed)"
      ],
      "metadata": {
        "id": "aBVFqQpjWgxs"
      },
      "execution_count": null,
      "outputs": []
    },
    {
      "cell_type": "code",
      "source": [
        "print(confusion_matrix(y_test_processed, y_pred_test))"
      ],
      "metadata": {
        "colab": {
          "base_uri": "https://localhost:8080/"
        },
        "id": "AqH5oJGEX7Bl",
        "outputId": "bcdef85e-7bbe-4b94-ec3a-4e0c844f4304"
      },
      "execution_count": null,
      "outputs": [
        {
          "output_type": "stream",
          "name": "stdout",
          "text": [
            "[[7252   58]\n",
            " [ 778  150]]\n"
          ]
        }
      ]
    },
    {
      "cell_type": "code",
      "source": [
        "print(classification_report(y_test_processed, y_pred_test))\n",
        "\n",
        "# Precision (cat 0: not subscribed):We can see out of 8036 predictions for 'Label 0' 7250 were correct {columnwises}\n",
        "# Recall (cat 1: subscribed):We can see 72580 out of 7310 non subscribers were predicted correctly {rowise}"
      ],
      "metadata": {
        "colab": {
          "base_uri": "https://localhost:8080/"
        },
        "id": "cOrfIuk4fLAB",
        "outputId": "2f487294-dea7-44a9-ff07-7b92764f955f"
      },
      "execution_count": null,
      "outputs": [
        {
          "output_type": "stream",
          "name": "stdout",
          "text": [
            "              precision    recall  f1-score   support\n",
            "\n",
            "           0       0.90      0.99      0.95      7310\n",
            "           1       0.72      0.16      0.26       928\n",
            "\n",
            "    accuracy                           0.90      8238\n",
            "   macro avg       0.81      0.58      0.60      8238\n",
            "weighted avg       0.88      0.90      0.87      8238\n",
            "\n"
          ]
        }
      ]
    },
    {
      "cell_type": "code",
      "source": [
        "f1_score(y_test_processed, y_pred_test)"
      ],
      "metadata": {
        "colab": {
          "base_uri": "https://localhost:8080/"
        },
        "id": "mfBxnegs5e03",
        "outputId": "f823765f-09bc-4fc4-c971-50f09d4ea6b8"
      },
      "execution_count": null,
      "outputs": [
        {
          "output_type": "execute_result",
          "data": {
            "text/plain": [
              "0.2640845070422535"
            ]
          },
          "metadata": {},
          "execution_count": 176
        }
      ]
    },
    {
      "cell_type": "markdown",
      "source": [
        "# Choosing F1 score as metrics due to imbalanced dataset\n",
        "\n",
        "The predictions when the non-subscribers categorized as subscribers by the model should be low as we would loose potential prospects due to wrong predictions. \n",
        "\n"
      ],
      "metadata": {
        "id": "DEumBz1DxZf2"
      }
    },
    {
      "cell_type": "code",
      "source": [
        "clf = RandomForestClassifier(n_estimators=100,max_depth=3)\n",
        "scores = cross_val_score(clf, X_train_processed, y_train_processed, cv=10, scoring=make_scorer(f1_score))  # cross-validation\n",
        "print(\"f1_score Score: %.2f +/- %.2f\" % (scores.mean(), scores.std()))\n",
        "train_score = scores.mean()"
      ],
      "metadata": {
        "colab": {
          "base_uri": "https://localhost:8080/"
        },
        "id": "RucgSHvzxuMN",
        "outputId": "ad2aa9b6-b9c9-4306-fc45-4489635403d7"
      },
      "execution_count": null,
      "outputs": [
        {
          "output_type": "stream",
          "name": "stdout",
          "text": [
            "f1_score Score: 0.25 +/- 0.04\n"
          ]
        }
      ]
    },
    {
      "cell_type": "code",
      "source": [
        "clf.fit(X_train_processed, y_train_processed)"
      ],
      "metadata": {
        "colab": {
          "base_uri": "https://localhost:8080/"
        },
        "id": "9XVamtNkzjln",
        "outputId": "495b935c-7dc3-43de-aa99-630e3b690e78"
      },
      "execution_count": null,
      "outputs": [
        {
          "output_type": "execute_result",
          "data": {
            "text/plain": [
              "RandomForestClassifier(max_depth=3)"
            ]
          },
          "metadata": {},
          "execution_count": 178
        }
      ]
    },
    {
      "cell_type": "code",
      "source": [
        "y_pred_test = clf.predict(X_test_processed)\n",
        "print(confusion_matrix(y_test_processed, y_pred_test))"
      ],
      "metadata": {
        "colab": {
          "base_uri": "https://localhost:8080/"
        },
        "id": "DBV8Cq3Vzaze",
        "outputId": "84e68cb6-2e4d-4197-d50c-343b76fd9af5"
      },
      "execution_count": null,
      "outputs": [
        {
          "output_type": "stream",
          "name": "stdout",
          "text": [
            "[[7247   63]\n",
            " [ 762  166]]\n"
          ]
        }
      ]
    },
    {
      "cell_type": "markdown",
      "source": [
        "Comparison with Dummy Classifier"
      ],
      "metadata": {
        "id": "PhgW0spo2dCc"
      }
    },
    {
      "cell_type": "code",
      "source": [
        "dummy_clf = DummyClassifier(strategy='stratified')\n",
        "dummy_clf.fit(X_train_processed, y_train_processed)\n",
        "y_pred_test_dummy = dummy_clf.predict(X_test_processed)\n",
        "print(confusion_matrix(y_test_processed, y_pred_test_dummy))"
      ],
      "metadata": {
        "colab": {
          "base_uri": "https://localhost:8080/"
        },
        "id": "GTPx8Q1tpJ7A",
        "outputId": "e015fe8f-b6d4-4845-8f7b-02e4f2336d3d"
      },
      "execution_count": null,
      "outputs": [
        {
          "output_type": "stream",
          "name": "stdout",
          "text": [
            "[[6529  781]\n",
            " [ 819  109]]\n"
          ]
        }
      ]
    },
    {
      "cell_type": "code",
      "source": [
        "print(classification_report(y_test_processed, y_pred_test_dummy))"
      ],
      "metadata": {
        "colab": {
          "base_uri": "https://localhost:8080/"
        },
        "id": "h_si6Mn-2TDz",
        "outputId": "eb86dd35-cb84-48c5-da6b-c7cfcf4839bf"
      },
      "execution_count": null,
      "outputs": [
        {
          "output_type": "stream",
          "name": "stdout",
          "text": [
            "              precision    recall  f1-score   support\n",
            "\n",
            "           0       0.89      0.89      0.89      7310\n",
            "           1       0.12      0.12      0.12       928\n",
            "\n",
            "    accuracy                           0.81      8238\n",
            "   macro avg       0.51      0.51      0.51      8238\n",
            "weighted avg       0.80      0.81      0.80      8238\n",
            "\n"
          ]
        }
      ]
    },
    {
      "cell_type": "markdown",
      "source": [
        "The Dummy classifier is not very less f1 score at classifying "
      ],
      "metadata": {
        "id": "zChHVGek15Wq"
      }
    },
    {
      "cell_type": "markdown",
      "source": [
        "## GridSearch"
      ],
      "metadata": {
        "id": "KyqNHvB33GgL"
      }
    },
    {
      "cell_type": "code",
      "source": [
        "from sklearn.model_selection import GridSearchCV\n",
        "param_grid = [\n",
        "              {\n",
        "                  'n_estimators': [3, 10, 30], \n",
        "                  'max_features': [2, 4, 6, 8]\n",
        "               },\n",
        "              {\n",
        "                  'bootstrap': [False], \n",
        "                  'n_estimators': [3, 10], \n",
        "                  'max_features': [2, 3, 4]\n",
        "              }\n",
        "              ]\n",
        "grid_search = GridSearchCV(RandomForestClassifier(), param_grid, cv=5,scoring=make_scorer(f1_score),return_train_score=True)\n",
        "print(grid_search.fit(X_train_processed, y_train_processed))\n",
        "print(grid_search.best_params_)"
      ],
      "metadata": {
        "colab": {
          "base_uri": "https://localhost:8080/"
        },
        "id": "P_tRoRek8Wpc",
        "outputId": "91ec7fe8-cfc4-47bb-934e-d38e5c5437f6"
      },
      "execution_count": null,
      "outputs": [
        {
          "output_type": "stream",
          "name": "stdout",
          "text": [
            "GridSearchCV(cv=5, estimator=RandomForestClassifier(),\n",
            "             param_grid=[{'max_features': [2, 4, 6, 8],\n",
            "                          'n_estimators': [3, 10, 30]},\n",
            "                         {'bootstrap': [False], 'max_features': [2, 3, 4],\n",
            "                          'n_estimators': [3, 10]}],\n",
            "             return_train_score=True, scoring=make_scorer(f1_score))\n",
            "{'max_features': 8, 'n_estimators': 30}\n"
          ]
        }
      ]
    },
    {
      "cell_type": "code",
      "source": [
        "from sklearn.model_selection import GridSearchCV\n",
        "param_grid = [\n",
        "              {\n",
        "                  'n_estimators': [3], \n",
        "                  'max_features': [4],\n",
        "                  'criterion': ['entropy'],\n",
        "                  'min_samples_leaf': [80, 100],\n",
        "                  'max_depth': [25, 27],\n",
        "                  'min_samples_split': [3, 5]\n",
        "                }\n",
        "              \n",
        "              ]\n",
        "grid_search = GridSearchCV(RandomForestClassifier(), param_grid, cv=5,scoring=make_scorer(f1_score),return_train_score=True)\n",
        "print(grid_search.fit(X_train_processed, y_train_processed))\n",
        "print(grid_search.best_params_)"
      ],
      "metadata": {
        "id": "DZDJtvQmPNDv",
        "colab": {
          "base_uri": "https://localhost:8080/"
        },
        "outputId": "29b49ea6-31ca-422d-8cd8-210e1b74111a"
      },
      "execution_count": null,
      "outputs": [
        {
          "output_type": "stream",
          "name": "stdout",
          "text": [
            "GridSearchCV(cv=5, estimator=RandomForestClassifier(),\n",
            "             param_grid=[{'criterion': ['entropy'], 'max_depth': [25, 27],\n",
            "                          'max_features': [4], 'min_samples_leaf': [80, 100],\n",
            "                          'min_samples_split': [3, 5], 'n_estimators': [3]}],\n",
            "             return_train_score=True, scoring=make_scorer(f1_score))\n",
            "{'criterion': 'entropy', 'max_depth': 25, 'max_features': 4, 'min_samples_leaf': 80, 'min_samples_split': 3, 'n_estimators': 3}\n"
          ]
        }
      ]
    },
    {
      "cell_type": "code",
      "source": [
        "grid_search.best_score_"
      ],
      "metadata": {
        "colab": {
          "base_uri": "https://localhost:8080/"
        },
        "id": "-3JrVqlI4Y27",
        "outputId": "ea8fcdeb-9485-4d59-94b2-28bb2e7a19e0"
      },
      "execution_count": null,
      "outputs": [
        {
          "output_type": "execute_result",
          "data": {
            "text/plain": [
              "0.27469509052541446"
            ]
          },
          "metadata": {},
          "execution_count": 185
        }
      ]
    },
    {
      "cell_type": "code",
      "source": [
        "final_model = grid_search.best_estimator_"
      ],
      "metadata": {
        "id": "QC3lCPdz9cam"
      },
      "execution_count": null,
      "outputs": []
    },
    {
      "cell_type": "markdown",
      "source": [
        "## Feature Importance"
      ],
      "metadata": {
        "id": "e9ZnxXn32Cf6"
      }
    },
    {
      "cell_type": "code",
      "source": [
        "importances = final_model.feature_importances_"
      ],
      "metadata": {
        "id": "3I8AJOQY06CF"
      },
      "execution_count": null,
      "outputs": []
    },
    {
      "cell_type": "code",
      "source": [
        "k = np.argsort(importances)[::-1]"
      ],
      "metadata": {
        "id": "My0EUTLV5Mqx"
      },
      "execution_count": null,
      "outputs": []
    },
    {
      "cell_type": "code",
      "source": [
        "indices=k[:10]"
      ],
      "metadata": {
        "id": "kSdj6qnwAuni"
      },
      "execution_count": null,
      "outputs": []
    },
    {
      "cell_type": "code",
      "source": [
        "importances[indices]"
      ],
      "metadata": {
        "colab": {
          "base_uri": "https://localhost:8080/"
        },
        "id": "S3ODGBqrApuZ",
        "outputId": "c892f587-235e-4a96-cb28-c2da79e8f1a5"
      },
      "execution_count": null,
      "outputs": [
        {
          "output_type": "execute_result",
          "data": {
            "text/plain": [
              "array([0.33467867, 0.08180452, 0.06967533, 0.0669082 , 0.06365635,\n",
              "       0.05231948, 0.04892215, 0.0442573 , 0.04122795, 0.03608269])"
            ]
          },
          "metadata": {},
          "execution_count": 190
        }
      ]
    },
    {
      "cell_type": "code",
      "source": [
        "feat_names=X_train.columns\n",
        "X = X_train_processed\n",
        "std = np.std([tree.feature_importances_ for tree in final_model.estimators_],axis=0)\n",
        "# Print the feature ranking\n",
        "print(\"Feature ranking:\")\n",
        "for f in range(10):\n",
        "    print(\"%d. %s (%f)\" % (f + 1, feat_names[indices[f]],  importances[indices[f]]))\n",
        "\n",
        "# Plot the feature importances of the forest\n",
        "fig = plt.figure()\n",
        "plt.title(\"Top 10 Feature importances\")\n",
        "# plt.bar(range(X.shape[1]), importances[indices], color=\"r\", yerr=std[indices], align=\"center\")\n",
        "plt.bar(range(10), importances[indices], color=\"r\", yerr=std[indices], align=\"center\")\n",
        "plt.xticks(range(10), np.array(feat_names)[indices])\n",
        "plt.xlim([-1, 10])\n",
        "plt.ylim([0, None])\n",
        "\n",
        "fig.set_size_inches(20,10)"
      ],
      "metadata": {
        "colab": {
          "base_uri": "https://localhost:8080/",
          "height": 799
        },
        "id": "zuHnywrq8-La",
        "outputId": "aff67d8f-82de-47b5-ff52-752c42b5bf30"
      },
      "execution_count": null,
      "outputs": [
        {
          "output_type": "stream",
          "name": "stdout",
          "text": [
            "Feature ranking:\n",
            "1. euribor3m (0.334679)\n",
            "2. cons.price.idx (0.081805)\n",
            "3. previous (0.069675)\n",
            "4. poutcome_success (0.066908)\n",
            "5. contact_cellular (0.063656)\n",
            "6. emp.var.rate (0.052319)\n",
            "7. month_mar (0.048922)\n",
            "8. month_may (0.044257)\n",
            "9. cons.conf.idx (0.041228)\n",
            "10. pdays (0.036083)\n"
          ]
        },
        {
          "output_type": "display_data",
          "data": {
            "image/png": "[encoded data removed]",
            "text/plain": [
              "<Figure size 1440x720 with 1 Axes>"
            ]
          },
          "metadata": {
            "needs_background": "light"
          }
        }
      ]
    },
    {
      "cell_type": "markdown",
      "source": [
        "Generalization Error"
      ],
      "metadata": {
        "id": "wW1EOgic8xzC"
      }
    },
    {
      "cell_type": "code",
      "source": [
        "final_model.fit(X_train_processed, y_train_processed)\n",
        "y_pred_test = final_model.predict(X_test_processed)\n",
        "y_pred_train = final_model.predict(X_train_processed)\n",
        "test_score = recall_score(y_test_processed, y_pred_test)\n",
        "\n",
        "print('Score on Unseen  Data',test_score)\n",
        "print('Score on Training Data',train_score)\n",
        "print('Error',train_score-test_score)"
      ],
      "metadata": {
        "colab": {
          "base_uri": "https://localhost:8080/"
        },
        "id": "pbly37yu8sBj",
        "outputId": "8a913894-85d1-4bb2-c04c-b3c7aeaf4cf3"
      },
      "execution_count": null,
      "outputs": [
        {
          "output_type": "stream",
          "name": "stdout",
          "text": [
            "Score on Unseen  Data 0.19504310344827586\n",
            "Score on Training Data 0.2501001562962451\n",
            "Error 0.055057052847969246\n"
          ]
        }
      ]
    },
    {
      "cell_type": "markdown",
      "source": [
        "### Confusion Matrix"
      ],
      "metadata": {
        "id": "DEb-dRfYX8SU"
      }
    },
    {
      "cell_type": "code",
      "source": [
        "def plot_confusion_matrix(cm, classes,\n",
        "                          normalize=True,\n",
        "                          title='Confusion matrix',\n",
        "                          cmap=plt.cm.Blues):\n",
        "    \"\"\"\n",
        "    This function prints and plots the confusion matrix.\n",
        "    Normalization can be applied by setting `normalize=True`.\n",
        "    \"\"\"\n",
        "    if normalize:\n",
        "        cm = cm.astype('float') / cm.sum(axis=1)[:, np.newaxis]\n",
        "        print(\"Normalized confusion matrix\")\n",
        "    else:\n",
        "        print('Confusion matrix, without normalization')\n",
        "    plt.imshow(cm, interpolation='nearest', cmap=cmap)\n",
        "    plt.title(title)\n",
        "    plt.colorbar()\n",
        "    tick_marks = np.arange(len(classes))\n",
        "    plt.xticks(tick_marks, classes, rotation=45)\n",
        "    plt.yticks(tick_marks, classes)\n",
        "    thresh = cm.max() / 2.\n",
        "    for i, j in itertools.product(range(cm.shape[0]), range(cm.shape[1])):\n",
        "        t = \"(%.2f)\"%(cm[i, j])\n",
        "    plt.tight_layout()\n",
        "    plt.ylabel('True label')\n",
        "    plt.xlabel('Predicted label')"
      ],
      "metadata": {
        "id": "eJjCpHakV20h"
      },
      "execution_count": null,
      "outputs": []
    },
    {
      "cell_type": "code",
      "source": [
        "c = confusion_matrix(y_test_processed, y_pred_test)\n",
        "plot_confusion_matrix(c, label_encoder.classes_)"
      ],
      "metadata": {
        "colab": {
          "base_uri": "https://localhost:8080/",
          "height": 328
        },
        "id": "811pP5abWKVX",
        "outputId": "341f48ee-4938-4b63-f6b7-39b72b3e6d5b"
      },
      "execution_count": null,
      "outputs": [
        {
          "output_type": "stream",
          "name": "stdout",
          "text": [
            "Normalized confusion matrix\n"
          ]
        },
        {
          "output_type": "display_data",
          "data": {
            "image/png": "[encoded data removed]",
            "text/plain": [
              "<Figure size 432x288 with 2 Axes>"
            ]
          },
          "metadata": {
            "needs_background": "light"
          }
        }
      ]
    },
    {
      "cell_type": "markdown",
      "source": [
        "### Train with SMOTE \n",
        "\n",
        "Trying to generate synthetic sample for Minority Class."
      ],
      "metadata": {
        "id": "Tur94FpJ3V2W"
      }
    },
    {
      "cell_type": "markdown",
      "source": [
        "Ref : https://machinelearningmastery.com/smote-oversampling-for-imbalanced-classification/\n",
        "\n",
        "A problem with imbalanced classification is that there are too few examples of the minority class for a model to effectively learn the decision boundary.\n",
        "\n",
        "One way to solve this problem is to oversample the examples in the minority class."
      ],
      "metadata": {
        "id": "25NzAsZeKmwD"
      }
    },
    {
      "cell_type": "code",
      "source": [
        "import pandas as pd\n",
        "from sklearn.dummy import DummyClassifier\n",
        "from sklearn.ensemble import RandomForestClassifier\n",
        "from sklearn.model_selection import cross_val_score,train_test_split\n",
        "from sklearn.ensemble import ExtraTreesClassifier\n",
        "from sklearn.metrics import make_scorer,f1_score\n"
      ],
      "metadata": {
        "id": "RWrR8qQq5YsR"
      },
      "execution_count": 32,
      "outputs": []
    },
    {
      "cell_type": "code",
      "source": [
        "bank_df = pd.read_csv('https://raw.githubusercontent.com/albanda/CE888/master/lab3/bank-additional-full.csv',delimiter=';')\n",
        "bank_df.drop('duration',axis=1,inplace=True)\n",
        "df_dummies = pd.get_dummies(bank_df)\n",
        "\n",
        "df_dummies = df_dummies.rename(columns = {'y_yes':'y'})\n",
        "df_dummies.drop('y_no',axis=1,inplace=True)\n",
        "df_dummies['y'].value_counts()\n",
        "\n",
        "train, test = train_test_split(df_dummies, test_size=0.2, random_state=50,stratify=df_dummies['y'])  \n",
        "\n",
        "\n",
        "X_train = train.drop('y',axis=1)\n",
        "y_train = train['y'].copy()\n",
        "\n",
        "X_test = test.drop('y',axis=1)\n",
        "y_test = test['y'].copy()\n"
      ],
      "metadata": {
        "id": "Xay6LbQ-5UE6"
      },
      "execution_count": 49,
      "outputs": []
    },
    {
      "cell_type": "code",
      "source": [
        "y_train.value_counts()"
      ],
      "metadata": {
        "colab": {
          "base_uri": "https://localhost:8080/"
        },
        "id": "OdKgVhUZ5rCK",
        "outputId": "ec451ab9-5208-4464-a1c1-b27504487e7b"
      },
      "execution_count": 50,
      "outputs": [
        {
          "output_type": "execute_result",
          "data": {
            "text/plain": [
              "0    29238\n",
              "1     3712\n",
              "Name: y, dtype: int64"
            ]
          },
          "metadata": {},
          "execution_count": 50
        }
      ]
    },
    {
      "cell_type": "code",
      "source": [
        "# from imblearn.over_sampling import SMOTE\n",
        "from imblearn.combine import SMOTETomek as SMOTE\n",
        "sm = SMOTE(random_state=42)\n",
        "X_res, y_res = sm.fit_resample(X_train, y_train)"
      ],
      "metadata": {
        "id": "vzvC2-L93WUu"
      },
      "execution_count": 35,
      "outputs": []
    },
    {
      "cell_type": "code",
      "source": [
        "y_res.value_counts()"
      ],
      "metadata": {
        "colab": {
          "base_uri": "https://localhost:8080/"
        },
        "id": "Gi-RRnea3aLh",
        "outputId": "b4fce24a-b0e4-403d-da4d-ae3d832adff3"
      },
      "execution_count": 36,
      "outputs": [
        {
          "output_type": "execute_result",
          "data": {
            "text/plain": [
              "1    29161\n",
              "0    29161\n",
              "Name: y, dtype: int64"
            ]
          },
          "metadata": {},
          "execution_count": 36
        }
      ]
    },
    {
      "cell_type": "code",
      "source": [
        "clf = RandomForestClassifier(n_estimators=80,max_depth=10,criterion='entropy')\n",
        "scores = cross_val_score(clf, X_res, y_res, cv=10, scoring=make_scorer(f1_score))  # cross-validation\n",
        "print(\"f1 score: %.2f +/- %.2f\" % (scores.mean(), scores.std()))"
      ],
      "metadata": {
        "colab": {
          "base_uri": "https://localhost:8080/"
        },
        "id": "QB4dK8RH3dIM",
        "outputId": "96273ea1-8337-48bb-cc5e-717792060c8f"
      },
      "execution_count": 37,
      "outputs": [
        {
          "output_type": "stream",
          "name": "stdout",
          "text": [
            "f1 score: 0.83 +/- 0.06\n"
          ]
        }
      ]
    },
    {
      "cell_type": "code",
      "source": [
        "clf.fit(X_res,y_res)"
      ],
      "metadata": {
        "colab": {
          "base_uri": "https://localhost:8080/"
        },
        "id": "BlUFg8wJ3gPy",
        "outputId": "9cd31a48-d01b-43e2-f2b8-0db478b4c32a"
      },
      "execution_count": 42,
      "outputs": [
        {
          "output_type": "execute_result",
          "data": {
            "text/plain": [
              "RandomForestClassifier(criterion='entropy', max_depth=10, n_estimators=80)"
            ]
          },
          "metadata": {},
          "execution_count": 42
        }
      ]
    },
    {
      "cell_type": "code",
      "source": [
        "yred = clf.predict(X_test)"
      ],
      "metadata": {
        "id": "MlkbWjbH3jRe"
      },
      "execution_count": 43,
      "outputs": []
    },
    {
      "cell_type": "code",
      "source": [
        "print(f1_score(y_test,yred))\n",
        "print(f1_score(clf.predict(X_res),y_res))"
      ],
      "metadata": {
        "colab": {
          "base_uri": "https://localhost:8080/"
        },
        "id": "IIl-EBx53lKR",
        "outputId": "c115af38-171f-4586-bbb8-85126d020e18"
      },
      "execution_count": 44,
      "outputs": [
        {
          "output_type": "stream",
          "name": "stdout",
          "text": [
            "0.5062923523717329\n",
            "0.8498494662895723\n"
          ]
        }
      ]
    },
    {
      "cell_type": "code",
      "source": [
        "clf.n_features_"
      ],
      "metadata": {
        "colab": {
          "base_uri": "https://localhost:8080/"
        },
        "id": "bZD2mIax3oLj",
        "outputId": "2a09f36b-0cd2-466b-bd89-3643503e3ff6"
      },
      "execution_count": 45,
      "outputs": [
        {
          "output_type": "stream",
          "name": "stderr",
          "text": [
            "/usr/local/lib/python3.7/dist-packages/sklearn/utils/deprecation.py:103: FutureWarning: Attribute `n_features_` was deprecated in version 1.0 and will be removed in 1.2. Use `n_features_in_` instead.\n",
            "  warnings.warn(msg, category=FutureWarning)\n"
          ]
        },
        {
          "output_type": "execute_result",
          "data": {
            "text/plain": [
              "62"
            ]
          },
          "metadata": {},
          "execution_count": 45
        }
      ]
    },
    {
      "cell_type": "code",
      "source": [
        "test.to_csv('testset.csv',index=False)"
      ],
      "metadata": {
        "id": "owLtWEqT5ncK"
      },
      "execution_count": 46,
      "outputs": []
    },
    {
      "cell_type": "code",
      "source": [
        "test.shape"
      ],
      "metadata": {
        "colab": {
          "base_uri": "https://localhost:8080/"
        },
        "id": "XxoW_uP088Ta",
        "outputId": "9266bb0d-bdcb-45e3-a650-55893d2fec94"
      },
      "execution_count": 48,
      "outputs": [
        {
          "output_type": "execute_result",
          "data": {
            "text/plain": [
              "(8238, 63)"
            ]
          },
          "metadata": {},
          "execution_count": 48
        }
      ]
    },
    {
      "cell_type": "markdown",
      "source": [
        "### Quiz"
      ],
      "metadata": {
        "id": "vPT4qJeU3pND"
      }
    },
    {
      "cell_type": "code",
      "source": [
        "import pickle as pkl\n",
        "outp = open('model.pkl', 'wb')\n",
        "pkl.dump(clf, outp, -1)  # where clf is your classifier\n",
        "outp.close()"
      ],
      "metadata": {
        "id": "7v8s6Y-73qs8"
      },
      "execution_count": 47,
      "outputs": []
    },
    {
      "cell_type": "code",
      "source": [
        "import numpy as np\n",
        "from sklearn.metrics import f1_score\n",
        "import pickle as pkl\n",
        "import pandas as pd\n",
        "import os, contextlib\n",
        "import warnings\n",
        "\n",
        "warnings.filterwarnings(\"ignore\")\n",
        "\n",
        "with open(os.devnull, 'w') as devnull:\n",
        "    with contextlib.redirect_stdout(devnull):\n",
        "        inp = open('model.pkl', 'rb')\n",
        "        clf = pkl.load(inp)\n",
        "        inp.close()\n",
        "        testset = pd.read_csv('testset.csv')\n",
        "\n",
        "x, y = testset.drop(labels=['y'], axis=1, inplace=False), testset['y']\n",
        "y_pred = clf.predict(x)\n",
        "f1 = f1_score(y, y_pred)\n",
        "print(\"F1-score on test set:\", f1)"
      ],
      "metadata": {
        "colab": {
          "base_uri": "https://localhost:8080/"
        },
        "id": "uA-1Ytmg3yw3",
        "outputId": "7b6b175e-4963-43e6-fcb8-693e49374086"
      },
      "execution_count": null,
      "outputs": [
        {
          "output_type": "stream",
          "name": "stdout",
          "text": [
            "F1-score on test set: 0.4869739478957915\n"
          ]
        }
      ]
    },
    {
      "cell_type": "code",
      "source": [
        "clf = RandomForestClassifier(n_estimators=1000 ,max_depth=8,random_state=60)\n",
        "# scores = cross_val_score(clf, X_train_processed, y_train_processed, cv=10, scoring=make_scorer(f1_score))  # cross-validation\n",
        "# print(\"F1: %.2f +/- %.2f\" % (scores.mean(), scores.std()))"
      ],
      "metadata": {
        "id": "_7xW90FQ5dXT"
      },
      "execution_count": 95,
      "outputs": []
    },
    {
      "cell_type": "code",
      "source": [
        "clf.fit(X_train_processed, y_train_processed)"
      ],
      "metadata": {
        "colab": {
          "base_uri": "https://localhost:8080/"
        },
        "id": "W0YFr0TaV_B5",
        "outputId": "4e3a61ff-09d1-4afd-c21f-a6424c4d492f"
      },
      "execution_count": 96,
      "outputs": [
        {
          "output_type": "execute_result",
          "data": {
            "text/plain": [
              "RandomForestClassifier(max_depth=8, n_estimators=1000, random_state=60)"
            ]
          },
          "metadata": {},
          "execution_count": 96
        }
      ]
    },
    {
      "cell_type": "code",
      "source": [
        "X_test_processed = colTransformer.transform(X_test)"
      ],
      "metadata": {
        "id": "XDwSGx4jWAKl"
      },
      "execution_count": 97,
      "outputs": []
    },
    {
      "cell_type": "code",
      "source": [
        "y_test_processed = label_encoder.transform(y_test)"
      ],
      "metadata": {
        "id": "YP4T8j3qWBZd"
      },
      "execution_count": 98,
      "outputs": []
    },
    {
      "cell_type": "code",
      "source": [
        "y_pred_test = clf.predict(X_test_processed)"
      ],
      "metadata": {
        "id": "LNcRnhYzWD55"
      },
      "execution_count": 99,
      "outputs": []
    },
    {
      "cell_type": "code",
      "source": [
        "f1_score(y_test_processed, y_pred_test)   "
      ],
      "metadata": {
        "colab": {
          "base_uri": "https://localhost:8080/"
        },
        "id": "hnNUc4yxWFE6",
        "outputId": "d99ca607-593e-484e-c098-15fd43fe4b6f"
      },
      "execution_count": 100,
      "outputs": [
        {
          "output_type": "execute_result",
          "data": {
            "text/plain": [
              "0.33278955954323"
            ]
          },
          "metadata": {},
          "execution_count": 100
        }
      ]
    },
    {
      "cell_type": "code",
      "source": [
        "final_model = RandomForestClassifier(n_estimators=300,max_depth=12,random_state=60)\n",
        "final_model.fit(X_train_processed, y_train_processed)\n",
        "importances = final_model.feature_importances_\n",
        "k = np.argsort(importances)[::-1]\n",
        "indices=k[:10]\n",
        "feat_names=X_train.columns\n",
        "X = X_train_processed\n",
        "std = np.std([tree.feature_importances_ for tree in final_model.estimators_],axis=0)\n",
        "# Print the feature ranking\n",
        "print(\"Feature ranking:\")\n",
        "for f in range(10):\n",
        "    print(\"%d. %s (%f)\" % (f + 1, feat_names[indices[f]],  importances[indices[f]]))\n",
        "\n",
        "# Plot the feature importances of the forest\n",
        "fig = plt.figure()\n",
        "plt.title(\"Top 10 Feature importances\")\n",
        "# plt.bar(range(X.shape[1]), importances[indices], color=\"r\", yerr=std[indices], align=\"center\")\n",
        "plt.bar(range(10), importances[indices], color=\"r\", yerr=std[indices], align=\"center\")\n",
        "plt.xticks(range(10), np.array(feat_names)[indices])\n",
        "plt.xlim([-1, 10])\n",
        "plt.ylim([0, None])\n",
        "\n",
        "fig.set_size_inches(20,10)"
      ],
      "metadata": {
        "id": "z76Kgk0iWnxg",
        "colab": {
          "base_uri": "https://localhost:8080/",
          "height": 811
        },
        "outputId": "3d866c52-19d8-4fbd-90dd-f7f88fe2720d"
      },
      "execution_count": 92,
      "outputs": [
        {
          "output_type": "stream",
          "name": "stdout",
          "text": [
            "Feature ranking:\n",
            "1. euribor3m (0.137780)\n",
            "2. nr.employed (0.116927)\n",
            "3. pdays (0.074017)\n",
            "4. poutcome_success (0.069784)\n",
            "5. emp.var.rate (0.061363)\n",
            "6. age (0.060166)\n",
            "7. cons.conf.idx (0.055543)\n",
            "8. cons.price.idx (0.048979)\n",
            "9. campaign (0.026308)\n",
            "10. previous (0.025351)\n"
          ]
        },
        {
          "output_type": "display_data",
          "data": {
            "image/png": "[encoded data removed]",
            "text/plain": [
              "<Figure size 1440x720 with 1 Axes>"
            ]
          },
          "metadata": {
            "needs_background": "light"
          }
        }
      ]
    },
    {
      "cell_type": "code",
      "source": [
        ""
      ],
      "metadata": {
        "id": "HsLCoVcMIh7m"
      },
      "execution_count": null,
      "outputs": []
    }
  ]
}